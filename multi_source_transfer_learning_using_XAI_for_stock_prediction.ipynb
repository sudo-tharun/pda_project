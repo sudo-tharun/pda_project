{
  "nbformat": 4,
  "nbformat_minor": 5,
  "metadata": {
    "colab": {
      "name": "multi-source-transfer-learning-using-XAI-for-stock-prediction.ipynb",
      "provenance": [],
      "collapsed_sections": []
    },
    "kernelspec": {
      "display_name": "Python 3 (ipykernel)",
      "language": "python",
      "name": "python3"
    },
    "language_info": {
      "codemirror_mode": {
        "name": "ipython",
        "version": 3
      },
      "file_extension": ".py",
      "mimetype": "text/x-python",
      "name": "python",
      "nbconvert_exporter": "python",
      "pygments_lexer": "ipython3",
      "version": "3.9.5"
    }
  },
  "cells": [
    {
      "cell_type": "markdown",
      "metadata": {
        "id": "78ace854"
      },
      "source": [
        "#### Imports"
      ],
      "id": "78ace854"
    },
    {
      "cell_type": "code",
      "metadata": {
        "colab": {
          "base_uri": "https://localhost:8080/"
        },
        "id": "3204b1e2",
        "outputId": "ab68bc66-854a-4a02-956e-e983060d6515"
      },
      "source": [
        "!pip install scikit-learn==1.0\n",
        "!pip install lime\n",
        "!pip install keras-tuner\n",
        "import pandas as pd\n",
        "import numpy as np\n",
        "import tensorflow as tf\n",
        "from sklearn.model_selection import train_test_split\n",
        "from sklearn.ensemble import AdaBoostRegressor\n",
        "from keras.wrappers.scikit_learn import KerasRegressor\n",
        "import keras_tuner as kt\n",
        "from sklearn.metrics import mean_squared_error\n",
        "from sklearn.metrics import mean_absolute_error\n",
        "from sklearn.metrics import r2_score\n",
        "from sklearn.metrics import mean_absolute_percentage_error\n",
        "from sklearn.preprocessing import MinMaxScaler\n",
        "from sklearn.model_selection import GridSearchCV\n",
        "from math import sqrt\n",
        "from tensorflow.keras.models import Sequential\n",
        "from tensorflow.keras.layers import GRU\n",
        "from tensorflow.keras.layers import LSTM\n",
        "from tensorflow.keras.layers import Dense\n",
        "from tensorflow.keras.layers import Bidirectional\n",
        "import matplotlib.pyplot as plt\n",
        "%matplotlib inline"
      ],
      "id": "3204b1e2",
      "execution_count": null,
      "outputs": [
        {
          "output_type": "stream",
          "name": "stdout",
          "text": [
            "Requirement already satisfied: scikit-learn==1.0 in /usr/local/lib/python3.7/dist-packages (1.0)\n",
            "Requirement already satisfied: numpy>=1.14.6 in /usr/local/lib/python3.7/dist-packages (from scikit-learn==1.0) (1.19.5)\n",
            "Requirement already satisfied: threadpoolctl>=2.0.0 in /usr/local/lib/python3.7/dist-packages (from scikit-learn==1.0) (3.0.0)\n",
            "Requirement already satisfied: scipy>=1.1.0 in /usr/local/lib/python3.7/dist-packages (from scikit-learn==1.0) (1.4.1)\n",
            "Requirement already satisfied: joblib>=0.11 in /usr/local/lib/python3.7/dist-packages (from scikit-learn==1.0) (1.1.0)\n",
            "Requirement already satisfied: lime in /usr/local/lib/python3.7/dist-packages (0.2.0.1)\n",
            "Requirement already satisfied: scipy in /usr/local/lib/python3.7/dist-packages (from lime) (1.4.1)\n",
            "Requirement already satisfied: matplotlib in /usr/local/lib/python3.7/dist-packages (from lime) (3.2.2)\n",
            "Requirement already satisfied: scikit-image>=0.12 in /usr/local/lib/python3.7/dist-packages (from lime) (0.16.2)\n",
            "Requirement already satisfied: numpy in /usr/local/lib/python3.7/dist-packages (from lime) (1.19.5)\n",
            "Requirement already satisfied: scikit-learn>=0.18 in /usr/local/lib/python3.7/dist-packages (from lime) (1.0)\n",
            "Requirement already satisfied: tqdm in /usr/local/lib/python3.7/dist-packages (from lime) (4.62.3)\n",
            "Requirement already satisfied: PyWavelets>=0.4.0 in /usr/local/lib/python3.7/dist-packages (from scikit-image>=0.12->lime) (1.1.1)\n",
            "Requirement already satisfied: networkx>=2.0 in /usr/local/lib/python3.7/dist-packages (from scikit-image>=0.12->lime) (2.6.3)\n",
            "Requirement already satisfied: pillow>=4.3.0 in /usr/local/lib/python3.7/dist-packages (from scikit-image>=0.12->lime) (7.1.2)\n",
            "Requirement already satisfied: imageio>=2.3.0 in /usr/local/lib/python3.7/dist-packages (from scikit-image>=0.12->lime) (2.4.1)\n",
            "Requirement already satisfied: pyparsing!=2.0.4,!=2.1.2,!=2.1.6,>=2.0.1 in /usr/local/lib/python3.7/dist-packages (from matplotlib->lime) (2.4.7)\n",
            "Requirement already satisfied: kiwisolver>=1.0.1 in /usr/local/lib/python3.7/dist-packages (from matplotlib->lime) (1.3.2)\n",
            "Requirement already satisfied: cycler>=0.10 in /usr/local/lib/python3.7/dist-packages (from matplotlib->lime) (0.11.0)\n",
            "Requirement already satisfied: python-dateutil>=2.1 in /usr/local/lib/python3.7/dist-packages (from matplotlib->lime) (2.8.2)\n",
            "Requirement already satisfied: six>=1.5 in /usr/local/lib/python3.7/dist-packages (from python-dateutil>=2.1->matplotlib->lime) (1.15.0)\n",
            "Requirement already satisfied: joblib>=0.11 in /usr/local/lib/python3.7/dist-packages (from scikit-learn>=0.18->lime) (1.1.0)\n",
            "Requirement already satisfied: threadpoolctl>=2.0.0 in /usr/local/lib/python3.7/dist-packages (from scikit-learn>=0.18->lime) (3.0.0)\n",
            "Requirement already satisfied: keras-tuner in /usr/local/lib/python3.7/dist-packages (1.1.0)\n",
            "Requirement already satisfied: numpy in /usr/local/lib/python3.7/dist-packages (from keras-tuner) (1.19.5)\n",
            "Requirement already satisfied: requests in /usr/local/lib/python3.7/dist-packages (from keras-tuner) (2.23.0)\n",
            "Requirement already satisfied: ipython in /usr/local/lib/python3.7/dist-packages (from keras-tuner) (5.5.0)\n",
            "Requirement already satisfied: tensorboard in /usr/local/lib/python3.7/dist-packages (from keras-tuner) (2.7.0)\n",
            "Requirement already satisfied: packaging in /usr/local/lib/python3.7/dist-packages (from keras-tuner) (21.2)\n",
            "Requirement already satisfied: kt-legacy in /usr/local/lib/python3.7/dist-packages (from keras-tuner) (1.0.4)\n",
            "Requirement already satisfied: scipy in /usr/local/lib/python3.7/dist-packages (from keras-tuner) (1.4.1)\n",
            "Requirement already satisfied: pexpect in /usr/local/lib/python3.7/dist-packages (from ipython->keras-tuner) (4.8.0)\n",
            "Requirement already satisfied: setuptools>=18.5 in /usr/local/lib/python3.7/dist-packages (from ipython->keras-tuner) (57.4.0)\n",
            "Requirement already satisfied: pickleshare in /usr/local/lib/python3.7/dist-packages (from ipython->keras-tuner) (0.7.5)\n",
            "Requirement already satisfied: decorator in /usr/local/lib/python3.7/dist-packages (from ipython->keras-tuner) (4.4.2)\n",
            "Requirement already satisfied: traitlets>=4.2 in /usr/local/lib/python3.7/dist-packages (from ipython->keras-tuner) (5.1.1)\n",
            "Requirement already satisfied: prompt-toolkit<2.0.0,>=1.0.4 in /usr/local/lib/python3.7/dist-packages (from ipython->keras-tuner) (1.0.18)\n",
            "Requirement already satisfied: simplegeneric>0.8 in /usr/local/lib/python3.7/dist-packages (from ipython->keras-tuner) (0.8.1)\n",
            "Requirement already satisfied: pygments in /usr/local/lib/python3.7/dist-packages (from ipython->keras-tuner) (2.6.1)\n",
            "Requirement already satisfied: six>=1.9.0 in /usr/local/lib/python3.7/dist-packages (from prompt-toolkit<2.0.0,>=1.0.4->ipython->keras-tuner) (1.15.0)\n",
            "Requirement already satisfied: wcwidth in /usr/local/lib/python3.7/dist-packages (from prompt-toolkit<2.0.0,>=1.0.4->ipython->keras-tuner) (0.2.5)\n",
            "Requirement already satisfied: pyparsing<3,>=2.0.2 in /usr/local/lib/python3.7/dist-packages (from packaging->keras-tuner) (2.4.7)\n",
            "Requirement already satisfied: ptyprocess>=0.5 in /usr/local/lib/python3.7/dist-packages (from pexpect->ipython->keras-tuner) (0.7.0)\n",
            "Requirement already satisfied: certifi>=2017.4.17 in /usr/local/lib/python3.7/dist-packages (from requests->keras-tuner) (2021.10.8)\n",
            "Requirement already satisfied: idna<3,>=2.5 in /usr/local/lib/python3.7/dist-packages (from requests->keras-tuner) (2.10)\n",
            "Requirement already satisfied: chardet<4,>=3.0.2 in /usr/local/lib/python3.7/dist-packages (from requests->keras-tuner) (3.0.4)\n",
            "Requirement already satisfied: urllib3!=1.25.0,!=1.25.1,<1.26,>=1.21.1 in /usr/local/lib/python3.7/dist-packages (from requests->keras-tuner) (1.24.3)\n",
            "Requirement already satisfied: tensorboard-data-server<0.7.0,>=0.6.0 in /usr/local/lib/python3.7/dist-packages (from tensorboard->keras-tuner) (0.6.1)\n",
            "Requirement already satisfied: grpcio>=1.24.3 in /usr/local/lib/python3.7/dist-packages (from tensorboard->keras-tuner) (1.41.1)\n",
            "Requirement already satisfied: protobuf>=3.6.0 in /usr/local/lib/python3.7/dist-packages (from tensorboard->keras-tuner) (3.17.3)\n",
            "Requirement already satisfied: wheel>=0.26 in /usr/local/lib/python3.7/dist-packages (from tensorboard->keras-tuner) (0.37.0)\n",
            "Requirement already satisfied: tensorboard-plugin-wit>=1.6.0 in /usr/local/lib/python3.7/dist-packages (from tensorboard->keras-tuner) (1.8.0)\n",
            "Requirement already satisfied: google-auth<3,>=1.6.3 in /usr/local/lib/python3.7/dist-packages (from tensorboard->keras-tuner) (1.35.0)\n",
            "Requirement already satisfied: werkzeug>=0.11.15 in /usr/local/lib/python3.7/dist-packages (from tensorboard->keras-tuner) (1.0.1)\n",
            "Requirement already satisfied: markdown>=2.6.8 in /usr/local/lib/python3.7/dist-packages (from tensorboard->keras-tuner) (3.3.4)\n",
            "Requirement already satisfied: google-auth-oauthlib<0.5,>=0.4.1 in /usr/local/lib/python3.7/dist-packages (from tensorboard->keras-tuner) (0.4.6)\n",
            "Requirement already satisfied: absl-py>=0.4 in /usr/local/lib/python3.7/dist-packages (from tensorboard->keras-tuner) (0.12.0)\n",
            "Requirement already satisfied: cachetools<5.0,>=2.0.0 in /usr/local/lib/python3.7/dist-packages (from google-auth<3,>=1.6.3->tensorboard->keras-tuner) (4.2.4)\n",
            "Requirement already satisfied: rsa<5,>=3.1.4 in /usr/local/lib/python3.7/dist-packages (from google-auth<3,>=1.6.3->tensorboard->keras-tuner) (4.7.2)\n",
            "Requirement already satisfied: pyasn1-modules>=0.2.1 in /usr/local/lib/python3.7/dist-packages (from google-auth<3,>=1.6.3->tensorboard->keras-tuner) (0.2.8)\n",
            "Requirement already satisfied: requests-oauthlib>=0.7.0 in /usr/local/lib/python3.7/dist-packages (from google-auth-oauthlib<0.5,>=0.4.1->tensorboard->keras-tuner) (1.3.0)\n",
            "Requirement already satisfied: importlib-metadata in /usr/local/lib/python3.7/dist-packages (from markdown>=2.6.8->tensorboard->keras-tuner) (4.8.1)\n",
            "Requirement already satisfied: pyasn1<0.5.0,>=0.4.6 in /usr/local/lib/python3.7/dist-packages (from pyasn1-modules>=0.2.1->google-auth<3,>=1.6.3->tensorboard->keras-tuner) (0.4.8)\n",
            "Requirement already satisfied: oauthlib>=3.0.0 in /usr/local/lib/python3.7/dist-packages (from requests-oauthlib>=0.7.0->google-auth-oauthlib<0.5,>=0.4.1->tensorboard->keras-tuner) (3.1.1)\n",
            "Requirement already satisfied: typing-extensions>=3.6.4 in /usr/local/lib/python3.7/dist-packages (from importlib-metadata->markdown>=2.6.8->tensorboard->keras-tuner) (3.10.0.2)\n",
            "Requirement already satisfied: zipp>=0.5 in /usr/local/lib/python3.7/dist-packages (from importlib-metadata->markdown>=2.6.8->tensorboard->keras-tuner) (3.6.0)\n"
          ]
        }
      ]
    },
    {
      "cell_type": "markdown",
      "metadata": {
        "id": "80b4de78"
      },
      "source": [
        "##### Setting seeds for random number generators"
      ],
      "id": "80b4de78"
    },
    {
      "cell_type": "code",
      "metadata": {
        "id": "a04dbd9f"
      },
      "source": [
        "# tf.random.set_seed(42)\n",
        "# np.random.seed(42)"
      ],
      "id": "a04dbd9f",
      "execution_count": null,
      "outputs": []
    },
    {
      "cell_type": "code",
      "metadata": {
        "id": "a2087d69"
      },
      "source": [
        "source_data = pd.read_csv('./final-data/indicators_source_infy.csv', index_col=[0])\n",
        "target_data = pd.read_csv('./final-data/indicators_target.csv', index_col=[0])\n",
        "# source_data = pd.read_csv('./final-data/features_source_infy.csv')\n",
        "# target_data = pd.read_csv('./final-data/features_target.csv')\n"
      ],
      "id": "a2087d69",
      "execution_count": null,
      "outputs": []
    },
    {
      "cell_type": "code",
      "metadata": {
        "colab": {
          "base_uri": "https://localhost:8080/",
          "height": 421
        },
        "id": "3dba12fe",
        "outputId": "340ec856-dcd0-4e30-a361-dc7f38403bd8"
      },
      "source": [
        "source_data"
      ],
      "id": "3dba12fe",
      "execution_count": null,
      "outputs": [
        {
          "output_type": "execute_result",
          "data": {
            "text/html": [
              "<div>\n",
              "<style scoped>\n",
              "    .dataframe tbody tr th:only-of-type {\n",
              "        vertical-align: middle;\n",
              "    }\n",
              "\n",
              "    .dataframe tbody tr th {\n",
              "        vertical-align: top;\n",
              "    }\n",
              "\n",
              "    .dataframe thead th {\n",
              "        text-align: right;\n",
              "    }\n",
              "</style>\n",
              "<table border=\"1\" class=\"dataframe\">\n",
              "  <thead>\n",
              "    <tr style=\"text-align: right;\">\n",
              "      <th></th>\n",
              "      <th>Date</th>\n",
              "      <th>Adj Close</th>\n",
              "      <th>Volume</th>\n",
              "      <th>MACD_HIST</th>\n",
              "      <th>MACD</th>\n",
              "      <th>MACD_SIG</th>\n",
              "      <th>EMA</th>\n",
              "      <th>STOCH_D</th>\n",
              "      <th>STOCH_K</th>\n",
              "      <th>MOM</th>\n",
              "      <th>RSI</th>\n",
              "      <th>CCI</th>\n",
              "    </tr>\n",
              "  </thead>\n",
              "  <tbody>\n",
              "    <tr>\n",
              "      <th>0</th>\n",
              "      <td>2000-01-03</td>\n",
              "      <td>84.892334</td>\n",
              "      <td>657536</td>\n",
              "      <td>3.649675</td>\n",
              "      <td>11.439567</td>\n",
              "      <td>7.789891</td>\n",
              "      <td>78.755529</td>\n",
              "      <td>22.171826</td>\n",
              "      <td>21.502604</td>\n",
              "      <td>-20.313176</td>\n",
              "      <td>39.324516</td>\n",
              "      <td>-27.982698</td>\n",
              "    </tr>\n",
              "    <tr>\n",
              "      <th>1</th>\n",
              "      <td>2000-01-04</td>\n",
              "      <td>91.578827</td>\n",
              "      <td>7191808</td>\n",
              "      <td>2.848926</td>\n",
              "      <td>11.351049</td>\n",
              "      <td>8.502123</td>\n",
              "      <td>80.098399</td>\n",
              "      <td>25.990460</td>\n",
              "      <td>27.776950</td>\n",
              "      <td>-19.577043</td>\n",
              "      <td>42.093708</td>\n",
              "      <td>-9.487801</td>\n",
              "    </tr>\n",
              "    <tr>\n",
              "      <th>2</th>\n",
              "      <td>2000-01-05</td>\n",
              "      <td>84.252632</td>\n",
              "      <td>21069440</td>\n",
              "      <td>2.421628</td>\n",
              "      <td>11.529158</td>\n",
              "      <td>9.107530</td>\n",
              "      <td>79.663687</td>\n",
              "      <td>24.419481</td>\n",
              "      <td>23.978890</td>\n",
              "      <td>-20.710650</td>\n",
              "      <td>43.490315</td>\n",
              "      <td>76.998107</td>\n",
              "    </tr>\n",
              "    <tr>\n",
              "      <th>3</th>\n",
              "      <td>2000-01-06</td>\n",
              "      <td>77.512390</td>\n",
              "      <td>10495616</td>\n",
              "      <td>1.645993</td>\n",
              "      <td>11.165022</td>\n",
              "      <td>9.519028</td>\n",
              "      <td>78.936845</td>\n",
              "      <td>27.541423</td>\n",
              "      <td>30.868430</td>\n",
              "      <td>-20.175163</td>\n",
              "      <td>43.490315</td>\n",
              "      <td>102.042166</td>\n",
              "    </tr>\n",
              "    <tr>\n",
              "      <th>4</th>\n",
              "      <td>2000-01-07</td>\n",
              "      <td>71.311401</td>\n",
              "      <td>971392</td>\n",
              "      <td>0.539145</td>\n",
              "      <td>10.192959</td>\n",
              "      <td>9.653814</td>\n",
              "      <td>80.349967</td>\n",
              "      <td>34.564812</td>\n",
              "      <td>48.847117</td>\n",
              "      <td>-21.042846</td>\n",
              "      <td>47.749998</td>\n",
              "      <td>134.457840</td>\n",
              "    </tr>\n",
              "    <tr>\n",
              "      <th>...</th>\n",
              "      <td>...</td>\n",
              "      <td>...</td>\n",
              "      <td>...</td>\n",
              "      <td>...</td>\n",
              "      <td>...</td>\n",
              "      <td>...</td>\n",
              "      <td>...</td>\n",
              "      <td>...</td>\n",
              "      <td>...</td>\n",
              "      <td>...</td>\n",
              "      <td>...</td>\n",
              "      <td>...</td>\n",
              "    </tr>\n",
              "    <tr>\n",
              "      <th>5416</th>\n",
              "      <td>2021-09-14</td>\n",
              "      <td>1671.338013</td>\n",
              "      <td>4945167</td>\n",
              "      <td>-5.283581</td>\n",
              "      <td>1.116199</td>\n",
              "      <td>6.399780</td>\n",
              "      <td>1665.732960</td>\n",
              "      <td>72.490739</td>\n",
              "      <td>79.435462</td>\n",
              "      <td>-11.795410</td>\n",
              "      <td>46.046545</td>\n",
              "      <td>-122.275241</td>\n",
              "    </tr>\n",
              "    <tr>\n",
              "      <th>5417</th>\n",
              "      <td>2021-09-15</td>\n",
              "      <td>1696.415649</td>\n",
              "      <td>4062344</td>\n",
              "      <td>-5.118903</td>\n",
              "      <td>0.001152</td>\n",
              "      <td>5.120055</td>\n",
              "      <td>1667.712489</td>\n",
              "      <td>76.807497</td>\n",
              "      <td>69.906132</td>\n",
              "      <td>4.956055</td>\n",
              "      <td>49.472406</td>\n",
              "      <td>-88.703423</td>\n",
              "    </tr>\n",
              "    <tr>\n",
              "      <th>5418</th>\n",
              "      <td>2021-09-16</td>\n",
              "      <td>1687.296509</td>\n",
              "      <td>3246568</td>\n",
              "      <td>-4.592891</td>\n",
              "      <td>-0.621060</td>\n",
              "      <td>3.971832</td>\n",
              "      <td>1668.975974</td>\n",
              "      <td>63.567226</td>\n",
              "      <td>41.360084</td>\n",
              "      <td>24.284790</td>\n",
              "      <td>45.234441</td>\n",
              "      <td>-53.604408</td>\n",
              "    </tr>\n",
              "    <tr>\n",
              "      <th>5419</th>\n",
              "      <td>2021-09-17</td>\n",
              "      <td>1676.442749</td>\n",
              "      <td>7454864</td>\n",
              "      <td>-3.774927</td>\n",
              "      <td>-0.746827</td>\n",
              "      <td>3.028100</td>\n",
              "      <td>1669.457701</td>\n",
              "      <td>45.314556</td>\n",
              "      <td>24.677452</td>\n",
              "      <td>2.180786</td>\n",
              "      <td>49.460841</td>\n",
              "      <td>-53.157759</td>\n",
              "    </tr>\n",
              "    <tr>\n",
              "      <th>5420</th>\n",
              "      <td>2021-09-20</td>\n",
              "      <td>1673.022949</td>\n",
              "      <td>5660743</td>\n",
              "      <td>-1.729444</td>\n",
              "      <td>0.866295</td>\n",
              "      <td>2.595739</td>\n",
              "      <td>1669.687717</td>\n",
              "      <td>28.001778</td>\n",
              "      <td>17.967798</td>\n",
              "      <td>-12.687622</td>\n",
              "      <td>56.298193</td>\n",
              "      <td>-32.447930</td>\n",
              "    </tr>\n",
              "  </tbody>\n",
              "</table>\n",
              "<p>5421 rows × 12 columns</p>\n",
              "</div>"
            ],
            "text/plain": [
              "            Date    Adj Close    Volume  ...        MOM        RSI         CCI\n",
              "0     2000-01-03    84.892334    657536  ... -20.313176  39.324516  -27.982698\n",
              "1     2000-01-04    91.578827   7191808  ... -19.577043  42.093708   -9.487801\n",
              "2     2000-01-05    84.252632  21069440  ... -20.710650  43.490315   76.998107\n",
              "3     2000-01-06    77.512390  10495616  ... -20.175163  43.490315  102.042166\n",
              "4     2000-01-07    71.311401    971392  ... -21.042846  47.749998  134.457840\n",
              "...          ...          ...       ...  ...        ...        ...         ...\n",
              "5416  2021-09-14  1671.338013   4945167  ... -11.795410  46.046545 -122.275241\n",
              "5417  2021-09-15  1696.415649   4062344  ...   4.956055  49.472406  -88.703423\n",
              "5418  2021-09-16  1687.296509   3246568  ...  24.284790  45.234441  -53.604408\n",
              "5419  2021-09-17  1676.442749   7454864  ...   2.180786  49.460841  -53.157759\n",
              "5420  2021-09-20  1673.022949   5660743  ... -12.687622  56.298193  -32.447930\n",
              "\n",
              "[5421 rows x 12 columns]"
            ]
          },
          "metadata": {},
          "execution_count": 4
        }
      ]
    },
    {
      "cell_type": "code",
      "metadata": {
        "colab": {
          "base_uri": "https://localhost:8080/",
          "height": 421
        },
        "id": "97dab0ec",
        "outputId": "fe7390ce-bc3a-4423-9881-774df32bf56a"
      },
      "source": [
        "target_data"
      ],
      "id": "97dab0ec",
      "execution_count": null,
      "outputs": [
        {
          "output_type": "execute_result",
          "data": {
            "text/html": [
              "<div>\n",
              "<style scoped>\n",
              "    .dataframe tbody tr th:only-of-type {\n",
              "        vertical-align: middle;\n",
              "    }\n",
              "\n",
              "    .dataframe tbody tr th {\n",
              "        vertical-align: top;\n",
              "    }\n",
              "\n",
              "    .dataframe thead th {\n",
              "        text-align: right;\n",
              "    }\n",
              "</style>\n",
              "<table border=\"1\" class=\"dataframe\">\n",
              "  <thead>\n",
              "    <tr style=\"text-align: right;\">\n",
              "      <th></th>\n",
              "      <th>Date</th>\n",
              "      <th>Adj Close</th>\n",
              "      <th>Volume</th>\n",
              "      <th>MACD_HIST</th>\n",
              "      <th>MACD</th>\n",
              "      <th>MACD_SIG</th>\n",
              "      <th>EMA</th>\n",
              "      <th>STOCH_D</th>\n",
              "      <th>STOCH_K</th>\n",
              "      <th>MOM</th>\n",
              "      <th>RSI</th>\n",
              "      <th>CCI</th>\n",
              "    </tr>\n",
              "  </thead>\n",
              "  <tbody>\n",
              "    <tr>\n",
              "      <th>8</th>\n",
              "      <td>2018-02-08</td>\n",
              "      <td>229.684158</td>\n",
              "      <td>159340</td>\n",
              "      <td>-0.036938</td>\n",
              "      <td>-2.240530</td>\n",
              "      <td>-2.203592</td>\n",
              "      <td>231.122193</td>\n",
              "      <td>30.487937</td>\n",
              "      <td>42.409420</td>\n",
              "      <td>-3.751807</td>\n",
              "      <td>48.890640</td>\n",
              "      <td>67.105770</td>\n",
              "    </tr>\n",
              "    <tr>\n",
              "      <th>9</th>\n",
              "      <td>2018-02-09</td>\n",
              "      <td>228.139420</td>\n",
              "      <td>132285</td>\n",
              "      <td>0.194972</td>\n",
              "      <td>-1.959877</td>\n",
              "      <td>-2.154849</td>\n",
              "      <td>231.870541</td>\n",
              "      <td>43.952639</td>\n",
              "      <td>59.360765</td>\n",
              "      <td>-3.010608</td>\n",
              "      <td>47.048766</td>\n",
              "      <td>78.328729</td>\n",
              "    </tr>\n",
              "    <tr>\n",
              "      <th>10</th>\n",
              "      <td>2018-02-12</td>\n",
              "      <td>240.014648</td>\n",
              "      <td>319651</td>\n",
              "      <td>0.479636</td>\n",
              "      <td>-1.555304</td>\n",
              "      <td>-2.034940</td>\n",
              "      <td>232.017602</td>\n",
              "      <td>59.380118</td>\n",
              "      <td>76.370169</td>\n",
              "      <td>-3.668777</td>\n",
              "      <td>44.311282</td>\n",
              "      <td>44.027855</td>\n",
              "    </tr>\n",
              "    <tr>\n",
              "      <th>11</th>\n",
              "      <td>2018-02-14</td>\n",
              "      <td>240.690491</td>\n",
              "      <td>152694</td>\n",
              "      <td>0.629649</td>\n",
              "      <td>-1.247878</td>\n",
              "      <td>-1.877527</td>\n",
              "      <td>230.730054</td>\n",
              "      <td>73.628732</td>\n",
              "      <td>85.155262</td>\n",
              "      <td>-3.523941</td>\n",
              "      <td>42.181059</td>\n",
              "      <td>20.777239</td>\n",
              "    </tr>\n",
              "    <tr>\n",
              "      <th>12</th>\n",
              "      <td>2018-02-15</td>\n",
              "      <td>230.890991</td>\n",
              "      <td>92349</td>\n",
              "      <td>0.924272</td>\n",
              "      <td>-0.722187</td>\n",
              "      <td>-1.646459</td>\n",
              "      <td>232.320973</td>\n",
              "      <td>78.054149</td>\n",
              "      <td>72.637015</td>\n",
              "      <td>-10.040848</td>\n",
              "      <td>44.724799</td>\n",
              "      <td>-20.540133</td>\n",
              "    </tr>\n",
              "    <tr>\n",
              "      <th>...</th>\n",
              "      <td>...</td>\n",
              "      <td>...</td>\n",
              "      <td>...</td>\n",
              "      <td>...</td>\n",
              "      <td>...</td>\n",
              "      <td>...</td>\n",
              "      <td>...</td>\n",
              "      <td>...</td>\n",
              "      <td>...</td>\n",
              "      <td>...</td>\n",
              "      <td>...</td>\n",
              "      <td>...</td>\n",
              "    </tr>\n",
              "    <tr>\n",
              "      <th>891</th>\n",
              "      <td>2021-09-14</td>\n",
              "      <td>614.549988</td>\n",
              "      <td>79676</td>\n",
              "      <td>-2.379392</td>\n",
              "      <td>-2.955743</td>\n",
              "      <td>-0.576351</td>\n",
              "      <td>592.469159</td>\n",
              "      <td>48.846040</td>\n",
              "      <td>54.128938</td>\n",
              "      <td>50.349976</td>\n",
              "      <td>48.056715</td>\n",
              "      <td>-91.746178</td>\n",
              "    </tr>\n",
              "    <tr>\n",
              "      <th>892</th>\n",
              "      <td>2021-09-15</td>\n",
              "      <td>605.450012</td>\n",
              "      <td>52934</td>\n",
              "      <td>-2.205638</td>\n",
              "      <td>-3.333398</td>\n",
              "      <td>-1.127760</td>\n",
              "      <td>593.306634</td>\n",
              "      <td>51.915466</td>\n",
              "      <td>60.333010</td>\n",
              "      <td>35.700012</td>\n",
              "      <td>43.735549</td>\n",
              "      <td>-56.743725</td>\n",
              "    </tr>\n",
              "    <tr>\n",
              "      <th>893</th>\n",
              "      <td>2021-09-16</td>\n",
              "      <td>604.049988</td>\n",
              "      <td>53230</td>\n",
              "      <td>-2.191581</td>\n",
              "      <td>-3.867237</td>\n",
              "      <td>-1.675655</td>\n",
              "      <td>593.999753</td>\n",
              "      <td>60.665985</td>\n",
              "      <td>67.536007</td>\n",
              "      <td>35.349976</td>\n",
              "      <td>41.673465</td>\n",
              "      <td>-89.361581</td>\n",
              "    </tr>\n",
              "    <tr>\n",
              "      <th>894</th>\n",
              "      <td>2021-09-17</td>\n",
              "      <td>594.349976</td>\n",
              "      <td>42071</td>\n",
              "      <td>-1.584234</td>\n",
              "      <td>-3.655948</td>\n",
              "      <td>-2.071714</td>\n",
              "      <td>594.022348</td>\n",
              "      <td>58.654315</td>\n",
              "      <td>48.093928</td>\n",
              "      <td>18.199951</td>\n",
              "      <td>39.866858</td>\n",
              "      <td>-122.866559</td>\n",
              "    </tr>\n",
              "    <tr>\n",
              "      <th>895</th>\n",
              "      <td>2021-09-20</td>\n",
              "      <td>583.450012</td>\n",
              "      <td>28063</td>\n",
              "      <td>-1.674117</td>\n",
              "      <td>-4.164361</td>\n",
              "      <td>-2.490243</td>\n",
              "      <td>593.340262</td>\n",
              "      <td>48.662696</td>\n",
              "      <td>30.358153</td>\n",
              "      <td>-21.500000</td>\n",
              "      <td>54.446386</td>\n",
              "      <td>-153.127201</td>\n",
              "    </tr>\n",
              "  </tbody>\n",
              "</table>\n",
              "<p>888 rows × 12 columns</p>\n",
              "</div>"
            ],
            "text/plain": [
              "           Date   Adj Close  Volume  ...        MOM        RSI         CCI\n",
              "8    2018-02-08  229.684158  159340  ...  -3.751807  48.890640   67.105770\n",
              "9    2018-02-09  228.139420  132285  ...  -3.010608  47.048766   78.328729\n",
              "10   2018-02-12  240.014648  319651  ...  -3.668777  44.311282   44.027855\n",
              "11   2018-02-14  240.690491  152694  ...  -3.523941  42.181059   20.777239\n",
              "12   2018-02-15  230.890991   92349  ... -10.040848  44.724799  -20.540133\n",
              "..          ...         ...     ...  ...        ...        ...         ...\n",
              "891  2021-09-14  614.549988   79676  ...  50.349976  48.056715  -91.746178\n",
              "892  2021-09-15  605.450012   52934  ...  35.700012  43.735549  -56.743725\n",
              "893  2021-09-16  604.049988   53230  ...  35.349976  41.673465  -89.361581\n",
              "894  2021-09-17  594.349976   42071  ...  18.199951  39.866858 -122.866559\n",
              "895  2021-09-20  583.450012   28063  ... -21.500000  54.446386 -153.127201\n",
              "\n",
              "[888 rows x 12 columns]"
            ]
          },
          "metadata": {},
          "execution_count": 5
        }
      ]
    },
    {
      "cell_type": "markdown",
      "metadata": {
        "id": "4fbffc3f"
      },
      "source": [
        "#### Separating dates from source stock data"
      ],
      "id": "4fbffc3f"
    },
    {
      "cell_type": "code",
      "metadata": {
        "id": "404f5881"
      },
      "source": [
        "source_dates = source_data['Date']\n",
        "source_data.drop(labels=['Date'], axis=1, inplace=True)"
      ],
      "id": "404f5881",
      "execution_count": null,
      "outputs": []
    },
    {
      "cell_type": "markdown",
      "metadata": {
        "id": "813f9d9b"
      },
      "source": [
        "#### Separating date from target stock data"
      ],
      "id": "813f9d9b"
    },
    {
      "cell_type": "code",
      "metadata": {
        "colab": {
          "base_uri": "https://localhost:8080/",
          "height": 421
        },
        "id": "e234ba55",
        "outputId": "464609dc-d31e-4629-8af5-d321e49f53c7"
      },
      "source": [
        "target_dates = target_data['Date']\n",
        "target_data.drop(labels=['Date'], axis=1, inplace=True)\n",
        "target_data"
      ],
      "id": "e234ba55",
      "execution_count": null,
      "outputs": [
        {
          "output_type": "execute_result",
          "data": {
            "text/html": [
              "<div>\n",
              "<style scoped>\n",
              "    .dataframe tbody tr th:only-of-type {\n",
              "        vertical-align: middle;\n",
              "    }\n",
              "\n",
              "    .dataframe tbody tr th {\n",
              "        vertical-align: top;\n",
              "    }\n",
              "\n",
              "    .dataframe thead th {\n",
              "        text-align: right;\n",
              "    }\n",
              "</style>\n",
              "<table border=\"1\" class=\"dataframe\">\n",
              "  <thead>\n",
              "    <tr style=\"text-align: right;\">\n",
              "      <th></th>\n",
              "      <th>Adj Close</th>\n",
              "      <th>Volume</th>\n",
              "      <th>MACD_HIST</th>\n",
              "      <th>MACD</th>\n",
              "      <th>MACD_SIG</th>\n",
              "      <th>EMA</th>\n",
              "      <th>STOCH_D</th>\n",
              "      <th>STOCH_K</th>\n",
              "      <th>MOM</th>\n",
              "      <th>RSI</th>\n",
              "      <th>CCI</th>\n",
              "    </tr>\n",
              "  </thead>\n",
              "  <tbody>\n",
              "    <tr>\n",
              "      <th>8</th>\n",
              "      <td>229.684158</td>\n",
              "      <td>159340</td>\n",
              "      <td>-0.036938</td>\n",
              "      <td>-2.240530</td>\n",
              "      <td>-2.203592</td>\n",
              "      <td>231.122193</td>\n",
              "      <td>30.487937</td>\n",
              "      <td>42.409420</td>\n",
              "      <td>-3.751807</td>\n",
              "      <td>48.890640</td>\n",
              "      <td>67.105770</td>\n",
              "    </tr>\n",
              "    <tr>\n",
              "      <th>9</th>\n",
              "      <td>228.139420</td>\n",
              "      <td>132285</td>\n",
              "      <td>0.194972</td>\n",
              "      <td>-1.959877</td>\n",
              "      <td>-2.154849</td>\n",
              "      <td>231.870541</td>\n",
              "      <td>43.952639</td>\n",
              "      <td>59.360765</td>\n",
              "      <td>-3.010608</td>\n",
              "      <td>47.048766</td>\n",
              "      <td>78.328729</td>\n",
              "    </tr>\n",
              "    <tr>\n",
              "      <th>10</th>\n",
              "      <td>240.014648</td>\n",
              "      <td>319651</td>\n",
              "      <td>0.479636</td>\n",
              "      <td>-1.555304</td>\n",
              "      <td>-2.034940</td>\n",
              "      <td>232.017602</td>\n",
              "      <td>59.380118</td>\n",
              "      <td>76.370169</td>\n",
              "      <td>-3.668777</td>\n",
              "      <td>44.311282</td>\n",
              "      <td>44.027855</td>\n",
              "    </tr>\n",
              "    <tr>\n",
              "      <th>11</th>\n",
              "      <td>240.690491</td>\n",
              "      <td>152694</td>\n",
              "      <td>0.629649</td>\n",
              "      <td>-1.247878</td>\n",
              "      <td>-1.877527</td>\n",
              "      <td>230.730054</td>\n",
              "      <td>73.628732</td>\n",
              "      <td>85.155262</td>\n",
              "      <td>-3.523941</td>\n",
              "      <td>42.181059</td>\n",
              "      <td>20.777239</td>\n",
              "    </tr>\n",
              "    <tr>\n",
              "      <th>12</th>\n",
              "      <td>230.890991</td>\n",
              "      <td>92349</td>\n",
              "      <td>0.924272</td>\n",
              "      <td>-0.722187</td>\n",
              "      <td>-1.646459</td>\n",
              "      <td>232.320973</td>\n",
              "      <td>78.054149</td>\n",
              "      <td>72.637015</td>\n",
              "      <td>-10.040848</td>\n",
              "      <td>44.724799</td>\n",
              "      <td>-20.540133</td>\n",
              "    </tr>\n",
              "    <tr>\n",
              "      <th>...</th>\n",
              "      <td>...</td>\n",
              "      <td>...</td>\n",
              "      <td>...</td>\n",
              "      <td>...</td>\n",
              "      <td>...</td>\n",
              "      <td>...</td>\n",
              "      <td>...</td>\n",
              "      <td>...</td>\n",
              "      <td>...</td>\n",
              "      <td>...</td>\n",
              "      <td>...</td>\n",
              "    </tr>\n",
              "    <tr>\n",
              "      <th>891</th>\n",
              "      <td>614.549988</td>\n",
              "      <td>79676</td>\n",
              "      <td>-2.379392</td>\n",
              "      <td>-2.955743</td>\n",
              "      <td>-0.576351</td>\n",
              "      <td>592.469159</td>\n",
              "      <td>48.846040</td>\n",
              "      <td>54.128938</td>\n",
              "      <td>50.349976</td>\n",
              "      <td>48.056715</td>\n",
              "      <td>-91.746178</td>\n",
              "    </tr>\n",
              "    <tr>\n",
              "      <th>892</th>\n",
              "      <td>605.450012</td>\n",
              "      <td>52934</td>\n",
              "      <td>-2.205638</td>\n",
              "      <td>-3.333398</td>\n",
              "      <td>-1.127760</td>\n",
              "      <td>593.306634</td>\n",
              "      <td>51.915466</td>\n",
              "      <td>60.333010</td>\n",
              "      <td>35.700012</td>\n",
              "      <td>43.735549</td>\n",
              "      <td>-56.743725</td>\n",
              "    </tr>\n",
              "    <tr>\n",
              "      <th>893</th>\n",
              "      <td>604.049988</td>\n",
              "      <td>53230</td>\n",
              "      <td>-2.191581</td>\n",
              "      <td>-3.867237</td>\n",
              "      <td>-1.675655</td>\n",
              "      <td>593.999753</td>\n",
              "      <td>60.665985</td>\n",
              "      <td>67.536007</td>\n",
              "      <td>35.349976</td>\n",
              "      <td>41.673465</td>\n",
              "      <td>-89.361581</td>\n",
              "    </tr>\n",
              "    <tr>\n",
              "      <th>894</th>\n",
              "      <td>594.349976</td>\n",
              "      <td>42071</td>\n",
              "      <td>-1.584234</td>\n",
              "      <td>-3.655948</td>\n",
              "      <td>-2.071714</td>\n",
              "      <td>594.022348</td>\n",
              "      <td>58.654315</td>\n",
              "      <td>48.093928</td>\n",
              "      <td>18.199951</td>\n",
              "      <td>39.866858</td>\n",
              "      <td>-122.866559</td>\n",
              "    </tr>\n",
              "    <tr>\n",
              "      <th>895</th>\n",
              "      <td>583.450012</td>\n",
              "      <td>28063</td>\n",
              "      <td>-1.674117</td>\n",
              "      <td>-4.164361</td>\n",
              "      <td>-2.490243</td>\n",
              "      <td>593.340262</td>\n",
              "      <td>48.662696</td>\n",
              "      <td>30.358153</td>\n",
              "      <td>-21.500000</td>\n",
              "      <td>54.446386</td>\n",
              "      <td>-153.127201</td>\n",
              "    </tr>\n",
              "  </tbody>\n",
              "</table>\n",
              "<p>888 rows × 11 columns</p>\n",
              "</div>"
            ],
            "text/plain": [
              "      Adj Close  Volume  MACD_HIST  ...        MOM        RSI         CCI\n",
              "8    229.684158  159340  -0.036938  ...  -3.751807  48.890640   67.105770\n",
              "9    228.139420  132285   0.194972  ...  -3.010608  47.048766   78.328729\n",
              "10   240.014648  319651   0.479636  ...  -3.668777  44.311282   44.027855\n",
              "11   240.690491  152694   0.629649  ...  -3.523941  42.181059   20.777239\n",
              "12   230.890991   92349   0.924272  ... -10.040848  44.724799  -20.540133\n",
              "..          ...     ...        ...  ...        ...        ...         ...\n",
              "891  614.549988   79676  -2.379392  ...  50.349976  48.056715  -91.746178\n",
              "892  605.450012   52934  -2.205638  ...  35.700012  43.735549  -56.743725\n",
              "893  604.049988   53230  -2.191581  ...  35.349976  41.673465  -89.361581\n",
              "894  594.349976   42071  -1.584234  ...  18.199951  39.866858 -122.866559\n",
              "895  583.450012   28063  -1.674117  ... -21.500000  54.446386 -153.127201\n",
              "\n",
              "[888 rows x 11 columns]"
            ]
          },
          "metadata": {},
          "execution_count": 7
        }
      ]
    },
    {
      "cell_type": "code",
      "metadata": {
        "id": "bf5dcac3"
      },
      "source": [
        "# temp\n",
        "# dropping volume\n",
        "source_data.drop(['Volume'], axis=1, inplace=True)\n",
        "target_data.drop(['Volume'], axis=1, inplace=True)"
      ],
      "id": "bf5dcac3",
      "execution_count": null,
      "outputs": []
    },
    {
      "cell_type": "markdown",
      "metadata": {
        "id": "3f6e5c11"
      },
      "source": [
        "#### Display columns of source stock data and target stock data"
      ],
      "id": "3f6e5c11"
    },
    {
      "cell_type": "code",
      "metadata": {
        "colab": {
          "base_uri": "https://localhost:8080/"
        },
        "id": "d206abe8",
        "outputId": "2fbdb907-7da4-4184-cfc0-964d03472c25"
      },
      "source": [
        "source_data_columns = source_data.columns\n",
        "target_data_columns = target_data.columns\n",
        "print(source_data_columns, target_data_columns, sep='\\n')"
      ],
      "id": "d206abe8",
      "execution_count": null,
      "outputs": [
        {
          "output_type": "stream",
          "name": "stdout",
          "text": [
            "Index(['Adj Close', 'MACD_HIST', 'MACD', 'MACD_SIG', 'EMA', 'STOCH_D',\n",
            "       'STOCH_K', 'MOM', 'RSI', 'CCI'],\n",
            "      dtype='object')\n",
            "Index(['Adj Close', 'MACD_HIST', 'MACD', 'MACD_SIG', 'EMA', 'STOCH_D',\n",
            "       'STOCH_K', 'MOM', 'RSI', 'CCI'],\n",
            "      dtype='object')\n"
          ]
        }
      ]
    },
    {
      "cell_type": "markdown",
      "metadata": {
        "id": "79669211"
      },
      "source": [
        "#### Normalizing features"
      ],
      "id": "79669211"
    },
    {
      "cell_type": "code",
      "metadata": {
        "colab": {
          "base_uri": "https://localhost:8080/",
          "height": 421
        },
        "id": "cdd732ab",
        "outputId": "92a900c0-0df5-4880-b23e-e6c2085be3f2"
      },
      "source": [
        "source_scaler = MinMaxScaler(feature_range=(0, 1))\n",
        "source_scaler = source_scaler.fit(source_data.values)\n",
        "source_data = source_scaler.transform(source_data.values)\n",
        "source_data = pd.DataFrame(source_data, columns=source_data_columns)\n",
        "source_data"
      ],
      "id": "cdd732ab",
      "execution_count": null,
      "outputs": [
        {
          "output_type": "execute_result",
          "data": {
            "text/html": [
              "<div>\n",
              "<style scoped>\n",
              "    .dataframe tbody tr th:only-of-type {\n",
              "        vertical-align: middle;\n",
              "    }\n",
              "\n",
              "    .dataframe tbody tr th {\n",
              "        vertical-align: top;\n",
              "    }\n",
              "\n",
              "    .dataframe thead th {\n",
              "        text-align: right;\n",
              "    }\n",
              "</style>\n",
              "<table border=\"1\" class=\"dataframe\">\n",
              "  <thead>\n",
              "    <tr style=\"text-align: right;\">\n",
              "      <th></th>\n",
              "      <th>Adj Close</th>\n",
              "      <th>MACD_HIST</th>\n",
              "      <th>MACD</th>\n",
              "      <th>MACD_SIG</th>\n",
              "      <th>EMA</th>\n",
              "      <th>STOCH_D</th>\n",
              "      <th>STOCH_K</th>\n",
              "      <th>MOM</th>\n",
              "      <th>RSI</th>\n",
              "      <th>CCI</th>\n",
              "    </tr>\n",
              "  </thead>\n",
              "  <tbody>\n",
              "    <tr>\n",
              "      <th>0</th>\n",
              "      <td>0.035864</td>\n",
              "      <td>0.699671</td>\n",
              "      <td>0.615329</td>\n",
              "      <td>0.550145</td>\n",
              "      <td>0.029781</td>\n",
              "      <td>0.200499</td>\n",
              "      <td>0.214498</td>\n",
              "      <td>0.485720</td>\n",
              "      <td>0.351804</td>\n",
              "      <td>0.438881</td>\n",
              "    </tr>\n",
              "    <tr>\n",
              "      <th>1</th>\n",
              "      <td>0.039791</td>\n",
              "      <td>0.674639</td>\n",
              "      <td>0.614412</td>\n",
              "      <td>0.558735</td>\n",
              "      <td>0.030600</td>\n",
              "      <td>0.240417</td>\n",
              "      <td>0.277284</td>\n",
              "      <td>0.487665</td>\n",
              "      <td>0.391641</td>\n",
              "      <td>0.460767</td>\n",
              "    </tr>\n",
              "    <tr>\n",
              "      <th>2</th>\n",
              "      <td>0.035488</td>\n",
              "      <td>0.661281</td>\n",
              "      <td>0.616258</td>\n",
              "      <td>0.566036</td>\n",
              "      <td>0.030335</td>\n",
              "      <td>0.223995</td>\n",
              "      <td>0.239277</td>\n",
              "      <td>0.484669</td>\n",
              "      <td>0.411733</td>\n",
              "      <td>0.563108</td>\n",
              "    </tr>\n",
              "    <tr>\n",
              "      <th>3</th>\n",
              "      <td>0.031529</td>\n",
              "      <td>0.637034</td>\n",
              "      <td>0.612483</td>\n",
              "      <td>0.571000</td>\n",
              "      <td>0.029892</td>\n",
              "      <td>0.256630</td>\n",
              "      <td>0.308219</td>\n",
              "      <td>0.486084</td>\n",
              "      <td>0.411733</td>\n",
              "      <td>0.592743</td>\n",
              "    </tr>\n",
              "    <tr>\n",
              "      <th>4</th>\n",
              "      <td>0.027887</td>\n",
              "      <td>0.602434</td>\n",
              "      <td>0.602406</td>\n",
              "      <td>0.572625</td>\n",
              "      <td>0.030753</td>\n",
              "      <td>0.330048</td>\n",
              "      <td>0.488127</td>\n",
              "      <td>0.483791</td>\n",
              "      <td>0.473011</td>\n",
              "      <td>0.631102</td>\n",
              "    </tr>\n",
              "    <tr>\n",
              "      <th>...</th>\n",
              "      <td>...</td>\n",
              "      <td>...</td>\n",
              "      <td>...</td>\n",
              "      <td>...</td>\n",
              "      <td>...</td>\n",
              "      <td>...</td>\n",
              "      <td>...</td>\n",
              "      <td>...</td>\n",
              "      <td>...</td>\n",
              "      <td>...</td>\n",
              "    </tr>\n",
              "    <tr>\n",
              "      <th>5416</th>\n",
              "      <td>0.967688</td>\n",
              "      <td>0.420411</td>\n",
              "      <td>0.508307</td>\n",
              "      <td>0.533378</td>\n",
              "      <td>0.997588</td>\n",
              "      <td>0.726503</td>\n",
              "      <td>0.794216</td>\n",
              "      <td>0.508234</td>\n",
              "      <td>0.448506</td>\n",
              "      <td>0.327302</td>\n",
              "    </tr>\n",
              "    <tr>\n",
              "      <th>5417</th>\n",
              "      <td>0.982417</td>\n",
              "      <td>0.425559</td>\n",
              "      <td>0.496747</td>\n",
              "      <td>0.517944</td>\n",
              "      <td>0.998795</td>\n",
              "      <td>0.771628</td>\n",
              "      <td>0.698859</td>\n",
              "      <td>0.552513</td>\n",
              "      <td>0.497789</td>\n",
              "      <td>0.367028</td>\n",
              "    </tr>\n",
              "    <tr>\n",
              "      <th>5418</th>\n",
              "      <td>0.977061</td>\n",
              "      <td>0.442003</td>\n",
              "      <td>0.490296</td>\n",
              "      <td>0.504095</td>\n",
              "      <td>0.999566</td>\n",
              "      <td>0.633222</td>\n",
              "      <td>0.413206</td>\n",
              "      <td>0.603604</td>\n",
              "      <td>0.436823</td>\n",
              "      <td>0.408562</td>\n",
              "    </tr>\n",
              "    <tr>\n",
              "      <th>5419</th>\n",
              "      <td>0.970686</td>\n",
              "      <td>0.467573</td>\n",
              "      <td>0.488993</td>\n",
              "      <td>0.492713</td>\n",
              "      <td>0.999860</td>\n",
              "      <td>0.442420</td>\n",
              "      <td>0.246268</td>\n",
              "      <td>0.545177</td>\n",
              "      <td>0.497623</td>\n",
              "      <td>0.409091</td>\n",
              "    </tr>\n",
              "    <tr>\n",
              "      <th>5420</th>\n",
              "      <td>0.968677</td>\n",
              "      <td>0.531516</td>\n",
              "      <td>0.505716</td>\n",
              "      <td>0.487498</td>\n",
              "      <td>1.000000</td>\n",
              "      <td>0.261442</td>\n",
              "      <td>0.179126</td>\n",
              "      <td>0.505876</td>\n",
              "      <td>0.595984</td>\n",
              "      <td>0.433597</td>\n",
              "    </tr>\n",
              "  </tbody>\n",
              "</table>\n",
              "<p>5421 rows × 10 columns</p>\n",
              "</div>"
            ],
            "text/plain": [
              "      Adj Close  MACD_HIST      MACD  ...       MOM       RSI       CCI\n",
              "0      0.035864   0.699671  0.615329  ...  0.485720  0.351804  0.438881\n",
              "1      0.039791   0.674639  0.614412  ...  0.487665  0.391641  0.460767\n",
              "2      0.035488   0.661281  0.616258  ...  0.484669  0.411733  0.563108\n",
              "3      0.031529   0.637034  0.612483  ...  0.486084  0.411733  0.592743\n",
              "4      0.027887   0.602434  0.602406  ...  0.483791  0.473011  0.631102\n",
              "...         ...        ...       ...  ...       ...       ...       ...\n",
              "5416   0.967688   0.420411  0.508307  ...  0.508234  0.448506  0.327302\n",
              "5417   0.982417   0.425559  0.496747  ...  0.552513  0.497789  0.367028\n",
              "5418   0.977061   0.442003  0.490296  ...  0.603604  0.436823  0.408562\n",
              "5419   0.970686   0.467573  0.488993  ...  0.545177  0.497623  0.409091\n",
              "5420   0.968677   0.531516  0.505716  ...  0.505876  0.595984  0.433597\n",
              "\n",
              "[5421 rows x 10 columns]"
            ]
          },
          "metadata": {},
          "execution_count": 10
        }
      ]
    },
    {
      "cell_type": "code",
      "metadata": {
        "colab": {
          "base_uri": "https://localhost:8080/",
          "height": 421
        },
        "id": "5436dcad",
        "outputId": "570b48b4-3981-4604-f0bc-ae8e7d344929"
      },
      "source": [
        "target_scaler = MinMaxScaler(feature_range=(0, 1))\n",
        "target_scaler = target_scaler.fit(target_data.values)\n",
        "target_data = target_scaler.transform(target_data.values)\n",
        "target_data = pd.DataFrame(target_data, columns=target_data_columns)\n",
        "target_data"
      ],
      "id": "5436dcad",
      "execution_count": null,
      "outputs": [
        {
          "output_type": "execute_result",
          "data": {
            "text/html": [
              "<div>\n",
              "<style scoped>\n",
              "    .dataframe tbody tr th:only-of-type {\n",
              "        vertical-align: middle;\n",
              "    }\n",
              "\n",
              "    .dataframe tbody tr th {\n",
              "        vertical-align: top;\n",
              "    }\n",
              "\n",
              "    .dataframe thead th {\n",
              "        text-align: right;\n",
              "    }\n",
              "</style>\n",
              "<table border=\"1\" class=\"dataframe\">\n",
              "  <thead>\n",
              "    <tr style=\"text-align: right;\">\n",
              "      <th></th>\n",
              "      <th>Adj Close</th>\n",
              "      <th>MACD_HIST</th>\n",
              "      <th>MACD</th>\n",
              "      <th>MACD_SIG</th>\n",
              "      <th>EMA</th>\n",
              "      <th>STOCH_D</th>\n",
              "      <th>STOCH_K</th>\n",
              "      <th>MOM</th>\n",
              "      <th>RSI</th>\n",
              "      <th>CCI</th>\n",
              "    </tr>\n",
              "  </thead>\n",
              "  <tbody>\n",
              "    <tr>\n",
              "      <th>0</th>\n",
              "      <td>0.209506</td>\n",
              "      <td>0.549931</td>\n",
              "      <td>0.238418</td>\n",
              "      <td>0.231716</td>\n",
              "      <td>0.218680</td>\n",
              "      <td>0.305459</td>\n",
              "      <td>0.460281</td>\n",
              "      <td>0.353719</td>\n",
              "      <td>0.486069</td>\n",
              "      <td>0.556081</td>\n",
              "    </tr>\n",
              "    <tr>\n",
              "      <th>1</th>\n",
              "      <td>0.207071</td>\n",
              "      <td>0.558183</td>\n",
              "      <td>0.241731</td>\n",
              "      <td>0.232351</td>\n",
              "      <td>0.220224</td>\n",
              "      <td>0.458798</td>\n",
              "      <td>0.644259</td>\n",
              "      <td>0.356113</td>\n",
              "      <td>0.461986</td>\n",
              "      <td>0.568818</td>\n",
              "    </tr>\n",
              "    <tr>\n",
              "      <th>2</th>\n",
              "      <td>0.225790</td>\n",
              "      <td>0.568311</td>\n",
              "      <td>0.246507</td>\n",
              "      <td>0.233914</td>\n",
              "      <td>0.220527</td>\n",
              "      <td>0.634490</td>\n",
              "      <td>0.828867</td>\n",
              "      <td>0.353987</td>\n",
              "      <td>0.426194</td>\n",
              "      <td>0.529889</td>\n",
              "    </tr>\n",
              "    <tr>\n",
              "      <th>3</th>\n",
              "      <td>0.226855</td>\n",
              "      <td>0.573649</td>\n",
              "      <td>0.250136</td>\n",
              "      <td>0.235966</td>\n",
              "      <td>0.217871</td>\n",
              "      <td>0.796756</td>\n",
              "      <td>0.924214</td>\n",
              "      <td>0.354455</td>\n",
              "      <td>0.398342</td>\n",
              "      <td>0.503502</td>\n",
              "    </tr>\n",
              "    <tr>\n",
              "      <th>4</th>\n",
              "      <td>0.211409</td>\n",
              "      <td>0.584132</td>\n",
              "      <td>0.256341</td>\n",
              "      <td>0.238979</td>\n",
              "      <td>0.221153</td>\n",
              "      <td>0.847154</td>\n",
              "      <td>0.788350</td>\n",
              "      <td>0.333403</td>\n",
              "      <td>0.431601</td>\n",
              "      <td>0.456610</td>\n",
              "    </tr>\n",
              "    <tr>\n",
              "      <th>...</th>\n",
              "      <td>...</td>\n",
              "      <td>...</td>\n",
              "      <td>...</td>\n",
              "      <td>...</td>\n",
              "      <td>...</td>\n",
              "      <td>...</td>\n",
              "      <td>...</td>\n",
              "      <td>...</td>\n",
              "      <td>...</td>\n",
              "      <td>...</td>\n",
              "    </tr>\n",
              "    <tr>\n",
              "      <th>883</th>\n",
              "      <td>0.816168</td>\n",
              "      <td>0.466584</td>\n",
              "      <td>0.229975</td>\n",
              "      <td>0.252930</td>\n",
              "      <td>0.964036</td>\n",
              "      <td>0.514525</td>\n",
              "      <td>0.587477</td>\n",
              "      <td>0.528487</td>\n",
              "      <td>0.475165</td>\n",
              "      <td>0.375798</td>\n",
              "    </tr>\n",
              "    <tr>\n",
              "      <th>884</th>\n",
              "      <td>0.801824</td>\n",
              "      <td>0.472766</td>\n",
              "      <td>0.225517</td>\n",
              "      <td>0.245741</td>\n",
              "      <td>0.965764</td>\n",
              "      <td>0.549481</td>\n",
              "      <td>0.654811</td>\n",
              "      <td>0.481162</td>\n",
              "      <td>0.418667</td>\n",
              "      <td>0.415522</td>\n",
              "    </tr>\n",
              "    <tr>\n",
              "      <th>885</th>\n",
              "      <td>0.799617</td>\n",
              "      <td>0.473266</td>\n",
              "      <td>0.219215</td>\n",
              "      <td>0.238598</td>\n",
              "      <td>0.967193</td>\n",
              "      <td>0.649133</td>\n",
              "      <td>0.732987</td>\n",
              "      <td>0.480032</td>\n",
              "      <td>0.391705</td>\n",
              "      <td>0.378504</td>\n",
              "    </tr>\n",
              "    <tr>\n",
              "      <th>886</th>\n",
              "      <td>0.784327</td>\n",
              "      <td>0.494876</td>\n",
              "      <td>0.221710</td>\n",
              "      <td>0.233435</td>\n",
              "      <td>0.967240</td>\n",
              "      <td>0.626224</td>\n",
              "      <td>0.521977</td>\n",
              "      <td>0.424631</td>\n",
              "      <td>0.368084</td>\n",
              "      <td>0.340479</td>\n",
              "    </tr>\n",
              "    <tr>\n",
              "      <th>887</th>\n",
              "      <td>0.767145</td>\n",
              "      <td>0.491678</td>\n",
              "      <td>0.215708</td>\n",
              "      <td>0.227979</td>\n",
              "      <td>0.965833</td>\n",
              "      <td>0.512437</td>\n",
              "      <td>0.329486</td>\n",
              "      <td>0.296386</td>\n",
              "      <td>0.558709</td>\n",
              "      <td>0.306135</td>\n",
              "    </tr>\n",
              "  </tbody>\n",
              "</table>\n",
              "<p>888 rows × 10 columns</p>\n",
              "</div>"
            ],
            "text/plain": [
              "     Adj Close  MACD_HIST      MACD  ...       MOM       RSI       CCI\n",
              "0     0.209506   0.549931  0.238418  ...  0.353719  0.486069  0.556081\n",
              "1     0.207071   0.558183  0.241731  ...  0.356113  0.461986  0.568818\n",
              "2     0.225790   0.568311  0.246507  ...  0.353987  0.426194  0.529889\n",
              "3     0.226855   0.573649  0.250136  ...  0.354455  0.398342  0.503502\n",
              "4     0.211409   0.584132  0.256341  ...  0.333403  0.431601  0.456610\n",
              "..         ...        ...       ...  ...       ...       ...       ...\n",
              "883   0.816168   0.466584  0.229975  ...  0.528487  0.475165  0.375798\n",
              "884   0.801824   0.472766  0.225517  ...  0.481162  0.418667  0.415522\n",
              "885   0.799617   0.473266  0.219215  ...  0.480032  0.391705  0.378504\n",
              "886   0.784327   0.494876  0.221710  ...  0.424631  0.368084  0.340479\n",
              "887   0.767145   0.491678  0.215708  ...  0.296386  0.558709  0.306135\n",
              "\n",
              "[888 rows x 10 columns]"
            ]
          },
          "metadata": {},
          "execution_count": 11
        }
      ]
    },
    {
      "cell_type": "markdown",
      "metadata": {
        "id": "59f497c9"
      },
      "source": [
        "#### Separating target variable from features for source stock data"
      ],
      "id": "59f497c9"
    },
    {
      "cell_type": "code",
      "metadata": {
        "colab": {
          "base_uri": "https://localhost:8080/",
          "height": 421
        },
        "id": "d4fd8eb9",
        "outputId": "9508630a-0c2f-49ca-d84e-2f54f652baad"
      },
      "source": [
        "source_labels = source_data['Adj Close']\n",
        "source_data.drop(labels=['Adj Close'], axis=1, inplace=True)\n",
        "source_features = source_data\n",
        "source_features"
      ],
      "id": "d4fd8eb9",
      "execution_count": null,
      "outputs": [
        {
          "output_type": "execute_result",
          "data": {
            "text/html": [
              "<div>\n",
              "<style scoped>\n",
              "    .dataframe tbody tr th:only-of-type {\n",
              "        vertical-align: middle;\n",
              "    }\n",
              "\n",
              "    .dataframe tbody tr th {\n",
              "        vertical-align: top;\n",
              "    }\n",
              "\n",
              "    .dataframe thead th {\n",
              "        text-align: right;\n",
              "    }\n",
              "</style>\n",
              "<table border=\"1\" class=\"dataframe\">\n",
              "  <thead>\n",
              "    <tr style=\"text-align: right;\">\n",
              "      <th></th>\n",
              "      <th>MACD_HIST</th>\n",
              "      <th>MACD</th>\n",
              "      <th>MACD_SIG</th>\n",
              "      <th>EMA</th>\n",
              "      <th>STOCH_D</th>\n",
              "      <th>STOCH_K</th>\n",
              "      <th>MOM</th>\n",
              "      <th>RSI</th>\n",
              "      <th>CCI</th>\n",
              "    </tr>\n",
              "  </thead>\n",
              "  <tbody>\n",
              "    <tr>\n",
              "      <th>0</th>\n",
              "      <td>0.699671</td>\n",
              "      <td>0.615329</td>\n",
              "      <td>0.550145</td>\n",
              "      <td>0.029781</td>\n",
              "      <td>0.200499</td>\n",
              "      <td>0.214498</td>\n",
              "      <td>0.485720</td>\n",
              "      <td>0.351804</td>\n",
              "      <td>0.438881</td>\n",
              "    </tr>\n",
              "    <tr>\n",
              "      <th>1</th>\n",
              "      <td>0.674639</td>\n",
              "      <td>0.614412</td>\n",
              "      <td>0.558735</td>\n",
              "      <td>0.030600</td>\n",
              "      <td>0.240417</td>\n",
              "      <td>0.277284</td>\n",
              "      <td>0.487665</td>\n",
              "      <td>0.391641</td>\n",
              "      <td>0.460767</td>\n",
              "    </tr>\n",
              "    <tr>\n",
              "      <th>2</th>\n",
              "      <td>0.661281</td>\n",
              "      <td>0.616258</td>\n",
              "      <td>0.566036</td>\n",
              "      <td>0.030335</td>\n",
              "      <td>0.223995</td>\n",
              "      <td>0.239277</td>\n",
              "      <td>0.484669</td>\n",
              "      <td>0.411733</td>\n",
              "      <td>0.563108</td>\n",
              "    </tr>\n",
              "    <tr>\n",
              "      <th>3</th>\n",
              "      <td>0.637034</td>\n",
              "      <td>0.612483</td>\n",
              "      <td>0.571000</td>\n",
              "      <td>0.029892</td>\n",
              "      <td>0.256630</td>\n",
              "      <td>0.308219</td>\n",
              "      <td>0.486084</td>\n",
              "      <td>0.411733</td>\n",
              "      <td>0.592743</td>\n",
              "    </tr>\n",
              "    <tr>\n",
              "      <th>4</th>\n",
              "      <td>0.602434</td>\n",
              "      <td>0.602406</td>\n",
              "      <td>0.572625</td>\n",
              "      <td>0.030753</td>\n",
              "      <td>0.330048</td>\n",
              "      <td>0.488127</td>\n",
              "      <td>0.483791</td>\n",
              "      <td>0.473011</td>\n",
              "      <td>0.631102</td>\n",
              "    </tr>\n",
              "    <tr>\n",
              "      <th>...</th>\n",
              "      <td>...</td>\n",
              "      <td>...</td>\n",
              "      <td>...</td>\n",
              "      <td>...</td>\n",
              "      <td>...</td>\n",
              "      <td>...</td>\n",
              "      <td>...</td>\n",
              "      <td>...</td>\n",
              "      <td>...</td>\n",
              "    </tr>\n",
              "    <tr>\n",
              "      <th>5416</th>\n",
              "      <td>0.420411</td>\n",
              "      <td>0.508307</td>\n",
              "      <td>0.533378</td>\n",
              "      <td>0.997588</td>\n",
              "      <td>0.726503</td>\n",
              "      <td>0.794216</td>\n",
              "      <td>0.508234</td>\n",
              "      <td>0.448506</td>\n",
              "      <td>0.327302</td>\n",
              "    </tr>\n",
              "    <tr>\n",
              "      <th>5417</th>\n",
              "      <td>0.425559</td>\n",
              "      <td>0.496747</td>\n",
              "      <td>0.517944</td>\n",
              "      <td>0.998795</td>\n",
              "      <td>0.771628</td>\n",
              "      <td>0.698859</td>\n",
              "      <td>0.552513</td>\n",
              "      <td>0.497789</td>\n",
              "      <td>0.367028</td>\n",
              "    </tr>\n",
              "    <tr>\n",
              "      <th>5418</th>\n",
              "      <td>0.442003</td>\n",
              "      <td>0.490296</td>\n",
              "      <td>0.504095</td>\n",
              "      <td>0.999566</td>\n",
              "      <td>0.633222</td>\n",
              "      <td>0.413206</td>\n",
              "      <td>0.603604</td>\n",
              "      <td>0.436823</td>\n",
              "      <td>0.408562</td>\n",
              "    </tr>\n",
              "    <tr>\n",
              "      <th>5419</th>\n",
              "      <td>0.467573</td>\n",
              "      <td>0.488993</td>\n",
              "      <td>0.492713</td>\n",
              "      <td>0.999860</td>\n",
              "      <td>0.442420</td>\n",
              "      <td>0.246268</td>\n",
              "      <td>0.545177</td>\n",
              "      <td>0.497623</td>\n",
              "      <td>0.409091</td>\n",
              "    </tr>\n",
              "    <tr>\n",
              "      <th>5420</th>\n",
              "      <td>0.531516</td>\n",
              "      <td>0.505716</td>\n",
              "      <td>0.487498</td>\n",
              "      <td>1.000000</td>\n",
              "      <td>0.261442</td>\n",
              "      <td>0.179126</td>\n",
              "      <td>0.505876</td>\n",
              "      <td>0.595984</td>\n",
              "      <td>0.433597</td>\n",
              "    </tr>\n",
              "  </tbody>\n",
              "</table>\n",
              "<p>5421 rows × 9 columns</p>\n",
              "</div>"
            ],
            "text/plain": [
              "      MACD_HIST      MACD  MACD_SIG  ...       MOM       RSI       CCI\n",
              "0      0.699671  0.615329  0.550145  ...  0.485720  0.351804  0.438881\n",
              "1      0.674639  0.614412  0.558735  ...  0.487665  0.391641  0.460767\n",
              "2      0.661281  0.616258  0.566036  ...  0.484669  0.411733  0.563108\n",
              "3      0.637034  0.612483  0.571000  ...  0.486084  0.411733  0.592743\n",
              "4      0.602434  0.602406  0.572625  ...  0.483791  0.473011  0.631102\n",
              "...         ...       ...       ...  ...       ...       ...       ...\n",
              "5416   0.420411  0.508307  0.533378  ...  0.508234  0.448506  0.327302\n",
              "5417   0.425559  0.496747  0.517944  ...  0.552513  0.497789  0.367028\n",
              "5418   0.442003  0.490296  0.504095  ...  0.603604  0.436823  0.408562\n",
              "5419   0.467573  0.488993  0.492713  ...  0.545177  0.497623  0.409091\n",
              "5420   0.531516  0.505716  0.487498  ...  0.505876  0.595984  0.433597\n",
              "\n",
              "[5421 rows x 9 columns]"
            ]
          },
          "metadata": {},
          "execution_count": 12
        }
      ]
    },
    {
      "cell_type": "markdown",
      "metadata": {
        "id": "5380f5dc"
      },
      "source": [
        "#### Separating target variables from features for target stock data"
      ],
      "id": "5380f5dc"
    },
    {
      "cell_type": "code",
      "metadata": {
        "colab": {
          "base_uri": "https://localhost:8080/",
          "height": 421
        },
        "id": "b77d8240",
        "outputId": "d78b728c-3b35-47cb-f414-65e6b712f40a"
      },
      "source": [
        "target_labels = target_data['Adj Close']\n",
        "target_data.drop(labels=['Adj Close'], axis=1, inplace=True)\n",
        "target_features = target_data\n",
        "target_features"
      ],
      "id": "b77d8240",
      "execution_count": null,
      "outputs": [
        {
          "output_type": "execute_result",
          "data": {
            "text/html": [
              "<div>\n",
              "<style scoped>\n",
              "    .dataframe tbody tr th:only-of-type {\n",
              "        vertical-align: middle;\n",
              "    }\n",
              "\n",
              "    .dataframe tbody tr th {\n",
              "        vertical-align: top;\n",
              "    }\n",
              "\n",
              "    .dataframe thead th {\n",
              "        text-align: right;\n",
              "    }\n",
              "</style>\n",
              "<table border=\"1\" class=\"dataframe\">\n",
              "  <thead>\n",
              "    <tr style=\"text-align: right;\">\n",
              "      <th></th>\n",
              "      <th>MACD_HIST</th>\n",
              "      <th>MACD</th>\n",
              "      <th>MACD_SIG</th>\n",
              "      <th>EMA</th>\n",
              "      <th>STOCH_D</th>\n",
              "      <th>STOCH_K</th>\n",
              "      <th>MOM</th>\n",
              "      <th>RSI</th>\n",
              "      <th>CCI</th>\n",
              "    </tr>\n",
              "  </thead>\n",
              "  <tbody>\n",
              "    <tr>\n",
              "      <th>0</th>\n",
              "      <td>0.549931</td>\n",
              "      <td>0.238418</td>\n",
              "      <td>0.231716</td>\n",
              "      <td>0.218680</td>\n",
              "      <td>0.305459</td>\n",
              "      <td>0.460281</td>\n",
              "      <td>0.353719</td>\n",
              "      <td>0.486069</td>\n",
              "      <td>0.556081</td>\n",
              "    </tr>\n",
              "    <tr>\n",
              "      <th>1</th>\n",
              "      <td>0.558183</td>\n",
              "      <td>0.241731</td>\n",
              "      <td>0.232351</td>\n",
              "      <td>0.220224</td>\n",
              "      <td>0.458798</td>\n",
              "      <td>0.644259</td>\n",
              "      <td>0.356113</td>\n",
              "      <td>0.461986</td>\n",
              "      <td>0.568818</td>\n",
              "    </tr>\n",
              "    <tr>\n",
              "      <th>2</th>\n",
              "      <td>0.568311</td>\n",
              "      <td>0.246507</td>\n",
              "      <td>0.233914</td>\n",
              "      <td>0.220527</td>\n",
              "      <td>0.634490</td>\n",
              "      <td>0.828867</td>\n",
              "      <td>0.353987</td>\n",
              "      <td>0.426194</td>\n",
              "      <td>0.529889</td>\n",
              "    </tr>\n",
              "    <tr>\n",
              "      <th>3</th>\n",
              "      <td>0.573649</td>\n",
              "      <td>0.250136</td>\n",
              "      <td>0.235966</td>\n",
              "      <td>0.217871</td>\n",
              "      <td>0.796756</td>\n",
              "      <td>0.924214</td>\n",
              "      <td>0.354455</td>\n",
              "      <td>0.398342</td>\n",
              "      <td>0.503502</td>\n",
              "    </tr>\n",
              "    <tr>\n",
              "      <th>4</th>\n",
              "      <td>0.584132</td>\n",
              "      <td>0.256341</td>\n",
              "      <td>0.238979</td>\n",
              "      <td>0.221153</td>\n",
              "      <td>0.847154</td>\n",
              "      <td>0.788350</td>\n",
              "      <td>0.333403</td>\n",
              "      <td>0.431601</td>\n",
              "      <td>0.456610</td>\n",
              "    </tr>\n",
              "    <tr>\n",
              "      <th>...</th>\n",
              "      <td>...</td>\n",
              "      <td>...</td>\n",
              "      <td>...</td>\n",
              "      <td>...</td>\n",
              "      <td>...</td>\n",
              "      <td>...</td>\n",
              "      <td>...</td>\n",
              "      <td>...</td>\n",
              "      <td>...</td>\n",
              "    </tr>\n",
              "    <tr>\n",
              "      <th>883</th>\n",
              "      <td>0.466584</td>\n",
              "      <td>0.229975</td>\n",
              "      <td>0.252930</td>\n",
              "      <td>0.964036</td>\n",
              "      <td>0.514525</td>\n",
              "      <td>0.587477</td>\n",
              "      <td>0.528487</td>\n",
              "      <td>0.475165</td>\n",
              "      <td>0.375798</td>\n",
              "    </tr>\n",
              "    <tr>\n",
              "      <th>884</th>\n",
              "      <td>0.472766</td>\n",
              "      <td>0.225517</td>\n",
              "      <td>0.245741</td>\n",
              "      <td>0.965764</td>\n",
              "      <td>0.549481</td>\n",
              "      <td>0.654811</td>\n",
              "      <td>0.481162</td>\n",
              "      <td>0.418667</td>\n",
              "      <td>0.415522</td>\n",
              "    </tr>\n",
              "    <tr>\n",
              "      <th>885</th>\n",
              "      <td>0.473266</td>\n",
              "      <td>0.219215</td>\n",
              "      <td>0.238598</td>\n",
              "      <td>0.967193</td>\n",
              "      <td>0.649133</td>\n",
              "      <td>0.732987</td>\n",
              "      <td>0.480032</td>\n",
              "      <td>0.391705</td>\n",
              "      <td>0.378504</td>\n",
              "    </tr>\n",
              "    <tr>\n",
              "      <th>886</th>\n",
              "      <td>0.494876</td>\n",
              "      <td>0.221710</td>\n",
              "      <td>0.233435</td>\n",
              "      <td>0.967240</td>\n",
              "      <td>0.626224</td>\n",
              "      <td>0.521977</td>\n",
              "      <td>0.424631</td>\n",
              "      <td>0.368084</td>\n",
              "      <td>0.340479</td>\n",
              "    </tr>\n",
              "    <tr>\n",
              "      <th>887</th>\n",
              "      <td>0.491678</td>\n",
              "      <td>0.215708</td>\n",
              "      <td>0.227979</td>\n",
              "      <td>0.965833</td>\n",
              "      <td>0.512437</td>\n",
              "      <td>0.329486</td>\n",
              "      <td>0.296386</td>\n",
              "      <td>0.558709</td>\n",
              "      <td>0.306135</td>\n",
              "    </tr>\n",
              "  </tbody>\n",
              "</table>\n",
              "<p>888 rows × 9 columns</p>\n",
              "</div>"
            ],
            "text/plain": [
              "     MACD_HIST      MACD  MACD_SIG  ...       MOM       RSI       CCI\n",
              "0     0.549931  0.238418  0.231716  ...  0.353719  0.486069  0.556081\n",
              "1     0.558183  0.241731  0.232351  ...  0.356113  0.461986  0.568818\n",
              "2     0.568311  0.246507  0.233914  ...  0.353987  0.426194  0.529889\n",
              "3     0.573649  0.250136  0.235966  ...  0.354455  0.398342  0.503502\n",
              "4     0.584132  0.256341  0.238979  ...  0.333403  0.431601  0.456610\n",
              "..         ...       ...       ...  ...       ...       ...       ...\n",
              "883   0.466584  0.229975  0.252930  ...  0.528487  0.475165  0.375798\n",
              "884   0.472766  0.225517  0.245741  ...  0.481162  0.418667  0.415522\n",
              "885   0.473266  0.219215  0.238598  ...  0.480032  0.391705  0.378504\n",
              "886   0.494876  0.221710  0.233435  ...  0.424631  0.368084  0.340479\n",
              "887   0.491678  0.215708  0.227979  ...  0.296386  0.558709  0.306135\n",
              "\n",
              "[888 rows x 9 columns]"
            ]
          },
          "metadata": {},
          "execution_count": 13
        }
      ]
    },
    {
      "cell_type": "markdown",
      "metadata": {
        "id": "4fa4aba6"
      },
      "source": [
        "Each GRU layer requires input in the form of 3D numpy array.  \n",
        "The array dimensions are used as follows:  \n",
        "`[Number of samples, number of time steps, number of features]`  \n",
        "To have array an length which can be used to create such dimensions,    \n",
        "we will be limiting the number of records to a multiple of 100."
      ],
      "id": "4fa4aba6"
    },
    {
      "cell_type": "code",
      "metadata": {
        "colab": {
          "base_uri": "https://localhost:8080/"
        },
        "id": "d3999902",
        "outputId": "62b280fd-cf5b-4a11-8434-769dc86d4ac7"
      },
      "source": [
        "print(f\"Count of source features = {len(source_features)}, Count of target features = {len(target_features)}\")"
      ],
      "id": "d3999902",
      "execution_count": null,
      "outputs": [
        {
          "output_type": "stream",
          "name": "stdout",
          "text": [
            "Count of source features = 5421, Count of target features = 888\n"
          ]
        }
      ]
    },
    {
      "cell_type": "code",
      "metadata": {
        "colab": {
          "base_uri": "https://localhost:8080/"
        },
        "id": "7b75a114",
        "outputId": "1d8bf8a4-92d6-4877-9cfd-5a40153e752c"
      },
      "source": [
        "source_features = source_features.iloc[0:len(source_features)-len(source_features)%100]\n",
        "source_labels = source_labels.iloc[0:len(source_labels)-len(source_labels)%100]\n",
        "target_features = target_features.iloc[0:len(target_features)-len(target_features)%100]\n",
        "target_labels = target_labels.iloc[0:len(target_labels)-len(target_labels)%100]\n",
        "print(f\"Count of source features = {len(source_features)} Count of target features = {len(target_features)}\")"
      ],
      "id": "7b75a114",
      "execution_count": null,
      "outputs": [
        {
          "output_type": "stream",
          "name": "stdout",
          "text": [
            "Count of source features = 5400 Count of target features = 800\n"
          ]
        }
      ]
    },
    {
      "cell_type": "code",
      "metadata": {
        "id": "UQNjnvQdpAO7"
      },
      "source": [
        "def ts_train_test_split(data, train_size, time_window=1, for_period=1):\n",
        "    '''\n",
        "    data: A  dataframe, with label to be predicted as first column.\n",
        "    train_size is a floating value which specifies the size of the train dataset.\n",
        "    For a 70:30 split, pass 0.7 as the argument for train_size,\n",
        "    For a 80:20 split, pass 0.8 as the argument for train_size.\n",
        "    time_window > for_period\n",
        "    '''\n",
        "    data_columns = data.columns\n",
        "    train_data = data[:int(len(data) * train_size)]\n",
        "    test_data = data[int(len(data) * train_size):]\n",
        "    \n",
        "    X_train = []\n",
        "    Y_train = []\n",
        "    X_test = []\n",
        "    Y_test = []\n",
        "    \n",
        "    train_len = len(train_data)\n",
        "    for row in range(time_window, train_len-for_period):\n",
        "        X_train.append(np.array(train_data.iloc[row-time_window:row,:]))\n",
        "    for row in range(time_window, train_len-for_period):\n",
        "        Y_train.append(np.array(train_data.iloc[row:row+for_period,0]))\n",
        "    \n",
        "    test_len = len(test_data)\n",
        "    for row in range(time_window, test_len-for_period):\n",
        "        X_test.append(np.array(test_data.iloc[row-time_window:row,:]))\n",
        "    for row in range(time_window, test_len-for_period):\n",
        "        Y_test.append(np.array(test_data.iloc[row:row+for_period,0]))\n",
        "    \n",
        "    return np.array(X_train), np.array(X_test), np.array(Y_train), np.array(Y_test)"
      ],
      "id": "UQNjnvQdpAO7",
      "execution_count": null,
      "outputs": []
    },
    {
      "cell_type": "markdown",
      "metadata": {
        "id": "bgQSXQ6wpBMM"
      },
      "source": [
        "look_back = 10\n",
        "X_train_gru_source, X_test_gru_source, Y_train_gru_source, Y_test_gru_source = ts_train_test_split(source_data, 0.7, look_back, 1)"
      ],
      "id": "bgQSXQ6wpBMM"
    },
    {
      "cell_type": "markdown",
      "metadata": {
        "id": "16ac69a5"
      },
      "source": [
        "### Training GRU model on source data"
      ],
      "id": "16ac69a5"
    },
    {
      "cell_type": "code",
      "metadata": {
        "id": "fa27f6cd"
      },
      "source": [
        "X_train_gru_source, X_test_gru_source, Y_train_gru_source, Y_test_gru_source = train_test_split(source_features, source_labels, test_size=0.30, random_state=42, shuffle=False)"
      ],
      "id": "fa27f6cd",
      "execution_count": null,
      "outputs": []
    },
    {
      "cell_type": "code",
      "metadata": {
        "id": "865cd57b"
      },
      "source": [
        "X_train_gru_source = np.array(X_train_gru_source)\n",
        "X_test_gru_source = np.array(X_test_gru_source)\n",
        "Y_train_gru_source = np.array(Y_train_gru_source)\n",
        "Y_test_gru_source = np.array(Y_test_gru_source)"
      ],
      "id": "865cd57b",
      "execution_count": null,
      "outputs": []
    },
    {
      "cell_type": "code",
      "metadata": {
        "id": "7bf273f0"
      },
      "source": [
        "X_train_gru_source = X_train_gru_source.reshape(X_train_gru_source.shape[0], X_train_gru_source.shape[1], 1)\n",
        "X_test_gru_source = X_test_gru_source.reshape(X_test_gru_source.shape[0], X_test_gru_source.shape[1], 1)\n",
        "# Y_train_gru_source =  Y_train_gru_source.reshape(-1, time_window_size, 1)\n",
        "# Y_test_gru_source =  Y_test_gru_source.reshape(-1, time_window_size, 1)"
      ],
      "id": "7bf273f0",
      "execution_count": null,
      "outputs": []
    },
    {
      "cell_type": "markdown",
      "metadata": {
        "id": "rL4fB_SPxRd-"
      },
      "source": [
        "look_back = X_train_gru_source.shape[1]\n",
        "feature_count = X_train_gru_source.shape[2]"
      ],
      "id": "rL4fB_SPxRd-"
    },
    {
      "cell_type": "markdown",
      "metadata": {
        "id": "ItQXCkEAp6Q6"
      },
      "source": [
        "X_train_gru_source = X_train_gru_source.reshape(-1, look_back, feature_count)\n",
        "X_test_gru_source = X_test_gru_source.reshape(-1, look_back, feature_count)\n",
        "# Y_train_gru_source =  Y_train_gru_source.reshape(-1, time_window_size, 1)\n",
        "# Y_test_gru_source =  Y_test_gru_source.reshape(-1, time_window_size, 1)"
      ],
      "id": "ItQXCkEAp6Q6"
    },
    {
      "cell_type": "markdown",
      "metadata": {
        "id": "b8268306"
      },
      "source": [
        "#### Obtaining number of features"
      ],
      "id": "b8268306"
    },
    {
      "cell_type": "code",
      "metadata": {
        "id": "8212c790"
      },
      "source": [
        "feature_count = len(source_features.columns)"
      ],
      "id": "8212c790",
      "execution_count": null,
      "outputs": []
    },
    {
      "cell_type": "markdown",
      "metadata": {
        "id": "NQIscDf9xK4y"
      },
      "source": [
        "# See above 'Obtaining number of features'"
      ],
      "id": "NQIscDf9xK4y"
    },
    {
      "cell_type": "markdown",
      "metadata": {
        "id": "vQzkyNJxr5xx"
      },
      "source": [
        "#### Setting batch size"
      ],
      "id": "vQzkyNJxr5xx"
    },
    {
      "cell_type": "markdown",
      "metadata": {
        "id": "aLumoX8mr838"
      },
      "source": [
        "batch_size=3"
      ],
      "id": "aLumoX8mr838"
    },
    {
      "cell_type": "markdown",
      "metadata": {
        "id": "52a241d5"
      },
      "source": [
        "#### Finding best hyperparams for source model"
      ],
      "id": "52a241d5"
    },
    {
      "cell_type": "markdown",
      "metadata": {
        "id": "304a857b"
      },
      "source": [
        "*Callback function used by tuner for early stopping*"
      ],
      "id": "304a857b"
    },
    {
      "cell_type": "code",
      "metadata": {
        "id": "28aeb944"
      },
      "source": [
        "# patience is the number of epochs tolerated without an improvement in the loss.\n",
        "stop_early = tf.keras.callbacks.EarlyStopping(monitor='mean_absolute_percentage_error', patience=5)"
      ],
      "id": "28aeb944",
      "execution_count": null,
      "outputs": []
    },
    {
      "cell_type": "code",
      "metadata": {
        "id": "79678d2e"
      },
      "source": [
        "\"\"\"\n",
        "Function used by Hyperband for hyperparameter tuning.\n",
        "Returns a model.\n",
        "\"\"\"\n",
        "def source_model_builder(hp):                                           \n",
        "    model = Sequential()\n",
        "    \"\"\"\n",
        "    A Sequential gru_model_source is appropriate for a plain stack\n",
        "    of layers where each layer has exactly one input tensor and\n",
        "    one output tensor.\n",
        "    \"\"\" \n",
        "    hp_unit = hp.Int('units', min_value=12, max_value=64, step=2)\n",
        "    \n",
        "    model.add(GRU(units=hp_unit, return_sequences=True,input_shape=(feature_count, 1)))\n",
        "    model.add(GRU(units=hp_unit,return_sequences=True))\n",
        "    model.add(GRU(units=hp_unit))\n",
        "    model.add(Dense(1, activation=\"relu\"))\n",
        "    \n",
        "    model.compile(optimizer=tf.keras.optimizers.Adam(), loss=\"mse\", metrics=['mean_absolute_error', 'mean_absolute_percentage_error'])\n",
        "    \n",
        "    return model"
      ],
      "id": "79678d2e",
      "execution_count": null,
      "outputs": []
    },
    {
      "cell_type": "markdown",
      "metadata": {
        "id": "sHl3lhcVqc6-"
      },
      "source": [
        "\"\"\"\n",
        "Function used by Hyperband for hyperparameter tuning.\n",
        "Returns a model.\n",
        "\"\"\"\n",
        "def source_model_builder(hp):                                           \n",
        "    model = Sequential()\n",
        "    \"\"\"\n",
        "    A Sequential gru_model_source is appropriate for a plain stack\n",
        "    of layers where each layer has exactly one input tensor and\n",
        "    one output tensor.\n",
        "    \"\"\" \n",
        "    hp_unit = hp.Int('units', min_value=16, max_value=128, step=16)\n",
        "    \n",
        "    model.add(GRU(units=hp_unit, return_sequences=True,batch_input_shape=(batch_size, look_back, feature_count), stateful=True))\n",
        "    model.add(GRU(units=hp_unit,return_sequences=True, stateful=True))\n",
        "    model.add(GRU(units=hp_unit, stateful=True))\n",
        "    model.add(Dense(1, kernel_initializer=\"uniform\", activation=\"relu\"))\n",
        "    \n",
        "    hp_learning_rate = hp.Choice('learning_rate', values=[1e-1, 1e-2, 1e-3, 1e-4])\n",
        "\n",
        "    model.compile(optimizer=tf.keras.optimizers.Adam(learning_rate=hp_learning_rate), loss=\"mse\", metrics=['mean_absolute_error', 'mean_absolute_percentage_error'])\n",
        "    \n",
        "    return model"
      ],
      "id": "sHl3lhcVqc6-"
    },
    {
      "cell_type": "code",
      "metadata": {
        "id": "7b5563b7"
      },
      "source": [
        "# pass the argument overWrite=True to avoid reusing results.\n",
        "source_tuner = kt.Hyperband(source_model_builder,\n",
        "                     objective='mean_absolute_percentage_error',\n",
        "                     max_epochs=250,\n",
        "                     factor=2,\n",
        "                     seed=42,\n",
        "                     hyperband_iterations=3,\n",
        "                     directory='hyperparams',\n",
        "                     project_name='source_stock_1', overwrite=True)"
      ],
      "id": "7b5563b7",
      "execution_count": null,
      "outputs": []
    },
    {
      "cell_type": "markdown",
      "metadata": {
        "id": "8NnffQEgsNqb"
      },
      "source": [
        "# pass the argument overwrite=True to avoid reusing results.\n",
        "source_tuner = kt.Hyperband(source_model_builder,\n",
        "                     objective='loss',\n",
        "                     max_epochs=80,\n",
        "                     factor=2,\n",
        "                     seed=42,\n",
        "                     hyperband_iterations=3,\n",
        "                     directory='hyperparams',\n",
        "                     project_name='source_stock_1',\n",
        "                     overwrite=True)"
      ],
      "id": "8NnffQEgsNqb"
    },
    {
      "cell_type": "markdown",
      "metadata": {
        "id": "262b7eac"
      },
      "source": [
        "See: [https://keras.io/api/keras_tuner/tuners/hyperband/](https://keras.io/api/keras_tuner/tuners/hyperband/)"
      ],
      "id": "262b7eac"
    },
    {
      "cell_type": "code",
      "metadata": {
        "colab": {
          "base_uri": "https://localhost:8080/"
        },
        "id": "5f893492",
        "outputId": "1aa12f05-de06-4f10-f70f-c693746f1df0"
      },
      "source": [
        "source_tuner.search(X_train_gru_source, Y_train_gru_source, epochs=250)\n",
        "\n",
        "# Get the optimal hyperparameters\n",
        "source_best_hps=source_tuner.get_best_hyperparameters(num_trials=1)[0]\n",
        "\n",
        "print(f\"\"\"\n",
        "The hyperparameter search is complete. The optimal number of units in the GRU layer\n",
        "is {source_best_hps.get('units')}.\n",
        "\"\"\")\n"
      ],
      "id": "5f893492",
      "execution_count": null,
      "outputs": [
        {
          "output_type": "stream",
          "name": "stdout",
          "text": [
            "Trial 25 Complete [00h 00m 11s]\n",
            "mean_absolute_percentage_error: 25719.908203125\n",
            "\n",
            "Best mean_absolute_percentage_error So Far: 99.97354125976562\n",
            "Total elapsed time: 00h 04m 58s\n",
            "INFO:tensorflow:Oracle triggered exit\n",
            "\n",
            "The hyperparameter search is complete. The optimal number of units in the GRU layer\n",
            "is 46.\n",
            "\n"
          ]
        }
      ]
    },
    {
      "cell_type": "markdown",
      "metadata": {
        "id": "TvMRyh3mtcf7"
      },
      "source": [
        "X_train_gru_source.shape"
      ],
      "id": "TvMRyh3mtcf7"
    },
    {
      "cell_type": "markdown",
      "metadata": {
        "id": "iKdCQQv8teiO"
      },
      "source": [
        "Y_train_gru_source.shape"
      ],
      "id": "iKdCQQv8teiO"
    },
    {
      "cell_type": "markdown",
      "metadata": {
        "id": "yuezMo76s6UV"
      },
      "source": [
        "source_tuner.search(X_train_gru_source, Y_train_gru_source, epochs=100, batch_size=batch_size)\n",
        "\n",
        "# Get the optimal hyperparameters\n",
        "source_best_hps=source_tuner.get_best_hyperparameters(num_trials=1)[0]\n",
        "\n",
        "print(f\"\"\"\n",
        "The hyperparameter search is complete. The optimal number of units in the GRU layer\n",
        "is {source_best_hps.get('units')}.\n",
        "\"\"\")\n"
      ],
      "id": "yuezMo76s6UV"
    },
    {
      "cell_type": "markdown",
      "metadata": {
        "id": "O_2zM1sI4Q2P"
      },
      "source": [
        "gru_model_source = source_tuner.hypermodel.build(source_best_hps)\n",
        "gru_model_source.fit(X_train_gru_source, Y_train_gru_source, epochs=200, verbose=1, batch_size=3)"
      ],
      "id": "O_2zM1sI4Q2P"
    },
    {
      "cell_type": "code",
      "metadata": {
        "id": "f1b071bf"
      },
      "source": [
        "gru_model_source = Sequential()\n",
        "#A Sequential gru_model_source is appropriate for a plain stack of layers where each layer has exactly one input tensor and one output tensor.\n",
        "gru_model_source.add(GRU(46, return_sequences=True,input_shape=(feature_count,1)))\n",
        "gru_model_source.add(GRU(46))\n",
        "gru_model_source.add(Dense(1, activation=\"relu\"))\n",
        "gru_model_source.compile(optimizer=tf.keras.optimizers.Adam(), loss='mean_squared_error', metrics=['mean_absolute_error', 'mean_absolute_percentage_error'])"
      ],
      "id": "f1b071bf",
      "execution_count": null,
      "outputs": []
    },
    {
      "cell_type": "code",
      "metadata": {
        "colab": {
          "base_uri": "https://localhost:8080/"
        },
        "id": "d068d5ff",
        "outputId": "c5617006-c451-483a-dba6-9c246029dc7f"
      },
      "source": [
        "gru_model_source.fit(X_train_gru_source,Y_train_gru_source,epochs=200,verbose=1)"
      ],
      "id": "d068d5ff",
      "execution_count": null,
      "outputs": [
        {
          "output_type": "stream",
          "name": "stdout",
          "text": [
            "Epoch 1/200\n",
            "119/119 [==============================] - 6s 13ms/step - loss: 0.0043 - mean_absolute_error: 0.0550 - mean_absolute_percentage_error: 5973.7827\n",
            "Epoch 2/200\n",
            "119/119 [==============================] - 2s 13ms/step - loss: 0.0038 - mean_absolute_error: 0.0528 - mean_absolute_percentage_error: 26245.9258\n",
            "Epoch 3/200\n",
            "119/119 [==============================] - 2s 13ms/step - loss: 0.0037 - mean_absolute_error: 0.0522 - mean_absolute_percentage_error: 28830.6113\n",
            "Epoch 4/200\n",
            "119/119 [==============================] - 2s 13ms/step - loss: 0.0037 - mean_absolute_error: 0.0518 - mean_absolute_percentage_error: 19210.3633\n",
            "Epoch 5/200\n",
            "119/119 [==============================] - 1s 12ms/step - loss: 0.0032 - mean_absolute_error: 0.0471 - mean_absolute_percentage_error: 12534.1572\n",
            "Epoch 6/200\n",
            "119/119 [==============================] - 1s 13ms/step - loss: 0.0014 - mean_absolute_error: 0.0288 - mean_absolute_percentage_error: 11528.2012\n",
            "Epoch 7/200\n",
            "119/119 [==============================] - 2s 13ms/step - loss: 5.3762e-04 - mean_absolute_error: 0.0175 - mean_absolute_percentage_error: 56.1899\n",
            "Epoch 8/200\n",
            "119/119 [==============================] - 2s 13ms/step - loss: 2.9046e-04 - mean_absolute_error: 0.0129 - mean_absolute_percentage_error: 41.3785\n",
            "Epoch 9/200\n",
            "119/119 [==============================] - 2s 13ms/step - loss: 1.4008e-04 - mean_absolute_error: 0.0088 - mean_absolute_percentage_error: 25.8646\n",
            "Epoch 10/200\n",
            "119/119 [==============================] - 2s 13ms/step - loss: 9.4122e-05 - mean_absolute_error: 0.0072 - mean_absolute_percentage_error: 21.6906\n",
            "Epoch 11/200\n",
            "119/119 [==============================] - 1s 13ms/step - loss: 7.6370e-05 - mean_absolute_error: 0.0066 - mean_absolute_percentage_error: 3073.8152\n",
            "Epoch 12/200\n",
            "119/119 [==============================] - 1s 12ms/step - loss: 7.7402e-05 - mean_absolute_error: 0.0067 - mean_absolute_percentage_error: 1083.8032\n",
            "Epoch 13/200\n",
            "119/119 [==============================] - 2s 13ms/step - loss: 6.1071e-05 - mean_absolute_error: 0.0061 - mean_absolute_percentage_error: 17.3811\n",
            "Epoch 14/200\n",
            "119/119 [==============================] - 2s 13ms/step - loss: 5.3456e-05 - mean_absolute_error: 0.0056 - mean_absolute_percentage_error: 17.8431\n",
            "Epoch 15/200\n",
            "119/119 [==============================] - 2s 13ms/step - loss: 5.1215e-05 - mean_absolute_error: 0.0055 - mean_absolute_percentage_error: 1342.9535\n",
            "Epoch 16/200\n",
            "119/119 [==============================] - 2s 13ms/step - loss: 4.6782e-05 - mean_absolute_error: 0.0052 - mean_absolute_percentage_error: 16.5020\n",
            "Epoch 17/200\n",
            "119/119 [==============================] - 2s 13ms/step - loss: 4.7150e-05 - mean_absolute_error: 0.0053 - mean_absolute_percentage_error: 16.5721\n",
            "Epoch 18/200\n",
            "119/119 [==============================] - 2s 13ms/step - loss: 4.4088e-05 - mean_absolute_error: 0.0051 - mean_absolute_percentage_error: 15.6323\n",
            "Epoch 19/200\n",
            "119/119 [==============================] - 2s 13ms/step - loss: 3.9134e-05 - mean_absolute_error: 0.0048 - mean_absolute_percentage_error: 1058.6727\n",
            "Epoch 20/200\n",
            "119/119 [==============================] - 2s 13ms/step - loss: 4.0145e-05 - mean_absolute_error: 0.0049 - mean_absolute_percentage_error: 1521.4938\n",
            "Epoch 21/200\n",
            "119/119 [==============================] - 2s 13ms/step - loss: 4.3834e-05 - mean_absolute_error: 0.0052 - mean_absolute_percentage_error: 15.7902\n",
            "Epoch 22/200\n",
            "119/119 [==============================] - 2s 13ms/step - loss: 4.6845e-05 - mean_absolute_error: 0.0054 - mean_absolute_percentage_error: 16.6475\n",
            "Epoch 23/200\n",
            "119/119 [==============================] - 2s 13ms/step - loss: 4.4330e-05 - mean_absolute_error: 0.0052 - mean_absolute_percentage_error: 896.3599\n",
            "Epoch 24/200\n",
            "119/119 [==============================] - 2s 13ms/step - loss: 3.7364e-05 - mean_absolute_error: 0.0048 - mean_absolute_percentage_error: 14.2482\n",
            "Epoch 25/200\n",
            "119/119 [==============================] - 2s 13ms/step - loss: 3.7111e-05 - mean_absolute_error: 0.0047 - mean_absolute_percentage_error: 2833.8201\n",
            "Epoch 26/200\n",
            "119/119 [==============================] - 2s 13ms/step - loss: 3.5958e-05 - mean_absolute_error: 0.0046 - mean_absolute_percentage_error: 13.8397\n",
            "Epoch 27/200\n",
            "119/119 [==============================] - 2s 14ms/step - loss: 3.2540e-05 - mean_absolute_error: 0.0044 - mean_absolute_percentage_error: 13.8375\n",
            "Epoch 28/200\n",
            "119/119 [==============================] - 2s 13ms/step - loss: 4.7212e-05 - mean_absolute_error: 0.0054 - mean_absolute_percentage_error: 644.5132\n",
            "Epoch 29/200\n",
            "119/119 [==============================] - 2s 13ms/step - loss: 4.0995e-05 - mean_absolute_error: 0.0049 - mean_absolute_percentage_error: 570.0732\n",
            "Epoch 30/200\n",
            "119/119 [==============================] - 2s 13ms/step - loss: 4.2014e-05 - mean_absolute_error: 0.0050 - mean_absolute_percentage_error: 15.4680\n",
            "Epoch 31/200\n",
            "119/119 [==============================] - 2s 13ms/step - loss: 4.5695e-05 - mean_absolute_error: 0.0054 - mean_absolute_percentage_error: 95.2309\n",
            "Epoch 32/200\n",
            "119/119 [==============================] - 2s 14ms/step - loss: 3.8487e-05 - mean_absolute_error: 0.0047 - mean_absolute_percentage_error: 1342.1868\n",
            "Epoch 33/200\n",
            "119/119 [==============================] - 2s 14ms/step - loss: 3.1333e-05 - mean_absolute_error: 0.0043 - mean_absolute_percentage_error: 207.0247\n",
            "Epoch 34/200\n",
            "119/119 [==============================] - 2s 14ms/step - loss: 3.5248e-05 - mean_absolute_error: 0.0046 - mean_absolute_percentage_error: 14.0153\n",
            "Epoch 35/200\n",
            "119/119 [==============================] - 2s 13ms/step - loss: 3.8683e-05 - mean_absolute_error: 0.0049 - mean_absolute_percentage_error: 1231.9535\n",
            "Epoch 36/200\n",
            "119/119 [==============================] - 2s 13ms/step - loss: 3.5236e-05 - mean_absolute_error: 0.0046 - mean_absolute_percentage_error: 14.2320\n",
            "Epoch 37/200\n",
            "119/119 [==============================] - 2s 13ms/step - loss: 4.6029e-05 - mean_absolute_error: 0.0053 - mean_absolute_percentage_error: 119.5296\n",
            "Epoch 38/200\n",
            "119/119 [==============================] - 1s 13ms/step - loss: 2.7409e-05 - mean_absolute_error: 0.0040 - mean_absolute_percentage_error: 476.0749\n",
            "Epoch 39/200\n",
            "119/119 [==============================] - 2s 13ms/step - loss: 3.3111e-05 - mean_absolute_error: 0.0045 - mean_absolute_percentage_error: 20.9029\n",
            "Epoch 40/200\n",
            "119/119 [==============================] - 2s 13ms/step - loss: 3.1415e-05 - mean_absolute_error: 0.0043 - mean_absolute_percentage_error: 636.4240\n",
            "Epoch 41/200\n",
            "119/119 [==============================] - 2s 13ms/step - loss: 4.3920e-05 - mean_absolute_error: 0.0053 - mean_absolute_percentage_error: 1843.2808\n",
            "Epoch 42/200\n",
            "119/119 [==============================] - 2s 13ms/step - loss: 2.7031e-05 - mean_absolute_error: 0.0040 - mean_absolute_percentage_error: 11.9576\n",
            "Epoch 43/200\n",
            "119/119 [==============================] - 2s 13ms/step - loss: 3.7959e-05 - mean_absolute_error: 0.0049 - mean_absolute_percentage_error: 561.5704\n",
            "Epoch 44/200\n",
            "119/119 [==============================] - 2s 13ms/step - loss: 3.6125e-05 - mean_absolute_error: 0.0047 - mean_absolute_percentage_error: 576.2796\n",
            "Epoch 45/200\n",
            "119/119 [==============================] - 2s 13ms/step - loss: 3.0330e-05 - mean_absolute_error: 0.0042 - mean_absolute_percentage_error: 12.6536\n",
            "Epoch 46/200\n",
            "119/119 [==============================] - 2s 13ms/step - loss: 3.1768e-05 - mean_absolute_error: 0.0044 - mean_absolute_percentage_error: 13.5948\n",
            "Epoch 47/200\n",
            "119/119 [==============================] - 2s 13ms/step - loss: 3.4423e-05 - mean_absolute_error: 0.0046 - mean_absolute_percentage_error: 2665.3928\n",
            "Epoch 48/200\n",
            "119/119 [==============================] - 2s 13ms/step - loss: 2.6510e-05 - mean_absolute_error: 0.0039 - mean_absolute_percentage_error: 996.8394\n",
            "Epoch 49/200\n",
            "119/119 [==============================] - 2s 13ms/step - loss: 3.6611e-05 - mean_absolute_error: 0.0048 - mean_absolute_percentage_error: 249.8689\n",
            "Epoch 50/200\n",
            "119/119 [==============================] - 2s 13ms/step - loss: 2.6683e-05 - mean_absolute_error: 0.0040 - mean_absolute_percentage_error: 979.5723\n",
            "Epoch 51/200\n",
            "119/119 [==============================] - 2s 13ms/step - loss: 2.7305e-05 - mean_absolute_error: 0.0040 - mean_absolute_percentage_error: 693.4698\n",
            "Epoch 52/200\n",
            "119/119 [==============================] - 2s 13ms/step - loss: 2.1911e-05 - mean_absolute_error: 0.0036 - mean_absolute_percentage_error: 159.4129\n",
            "Epoch 53/200\n",
            "119/119 [==============================] - 2s 13ms/step - loss: 3.3559e-05 - mean_absolute_error: 0.0046 - mean_absolute_percentage_error: 2302.7891\n",
            "Epoch 54/200\n",
            "119/119 [==============================] - 2s 13ms/step - loss: 2.2632e-05 - mean_absolute_error: 0.0037 - mean_absolute_percentage_error: 10.5573\n",
            "Epoch 55/200\n",
            "119/119 [==============================] - 2s 13ms/step - loss: 3.0127e-05 - mean_absolute_error: 0.0043 - mean_absolute_percentage_error: 1019.0690\n",
            "Epoch 56/200\n",
            "119/119 [==============================] - 2s 13ms/step - loss: 2.7455e-05 - mean_absolute_error: 0.0041 - mean_absolute_percentage_error: 12.1097\n",
            "Epoch 57/200\n",
            "119/119 [==============================] - 2s 13ms/step - loss: 2.3316e-05 - mean_absolute_error: 0.0038 - mean_absolute_percentage_error: 116.0763\n",
            "Epoch 58/200\n",
            "119/119 [==============================] - 2s 13ms/step - loss: 3.2538e-05 - mean_absolute_error: 0.0045 - mean_absolute_percentage_error: 674.7066\n",
            "Epoch 59/200\n",
            "119/119 [==============================] - 2s 13ms/step - loss: 2.7597e-05 - mean_absolute_error: 0.0041 - mean_absolute_percentage_error: 326.5605\n",
            "Epoch 60/200\n",
            "119/119 [==============================] - 2s 13ms/step - loss: 2.7793e-05 - mean_absolute_error: 0.0041 - mean_absolute_percentage_error: 951.1574\n",
            "Epoch 61/200\n",
            "119/119 [==============================] - 2s 13ms/step - loss: 1.9776e-05 - mean_absolute_error: 0.0034 - mean_absolute_percentage_error: 10.0105\n",
            "Epoch 62/200\n",
            "119/119 [==============================] - 2s 13ms/step - loss: 2.3142e-05 - mean_absolute_error: 0.0037 - mean_absolute_percentage_error: 1014.6526\n",
            "Epoch 63/200\n",
            "119/119 [==============================] - 1s 12ms/step - loss: 2.0653e-05 - mean_absolute_error: 0.0035 - mean_absolute_percentage_error: 10.7852\n",
            "Epoch 64/200\n",
            "119/119 [==============================] - 2s 13ms/step - loss: 2.7283e-05 - mean_absolute_error: 0.0040 - mean_absolute_percentage_error: 124.2552\n",
            "Epoch 65/200\n",
            "119/119 [==============================] - 2s 13ms/step - loss: 3.3917e-05 - mean_absolute_error: 0.0046 - mean_absolute_percentage_error: 811.7328\n",
            "Epoch 66/200\n",
            "119/119 [==============================] - 2s 13ms/step - loss: 2.0194e-05 - mean_absolute_error: 0.0035 - mean_absolute_percentage_error: 10.8991\n",
            "Epoch 67/200\n",
            "119/119 [==============================] - 2s 13ms/step - loss: 2.0960e-05 - mean_absolute_error: 0.0036 - mean_absolute_percentage_error: 796.3665\n",
            "Epoch 68/200\n",
            "119/119 [==============================] - 2s 13ms/step - loss: 2.5355e-05 - mean_absolute_error: 0.0040 - mean_absolute_percentage_error: 12.6487\n",
            "Epoch 69/200\n",
            "119/119 [==============================] - 2s 13ms/step - loss: 2.0636e-05 - mean_absolute_error: 0.0035 - mean_absolute_percentage_error: 479.0891\n",
            "Epoch 70/200\n",
            "119/119 [==============================] - 2s 13ms/step - loss: 2.6889e-05 - mean_absolute_error: 0.0041 - mean_absolute_percentage_error: 814.0180\n",
            "Epoch 71/200\n",
            "119/119 [==============================] - 2s 13ms/step - loss: 2.2070e-05 - mean_absolute_error: 0.0037 - mean_absolute_percentage_error: 809.7129\n",
            "Epoch 72/200\n",
            "119/119 [==============================] - 2s 13ms/step - loss: 2.1719e-05 - mean_absolute_error: 0.0036 - mean_absolute_percentage_error: 1456.3917\n",
            "Epoch 73/200\n",
            "119/119 [==============================] - 2s 13ms/step - loss: 1.5549e-05 - mean_absolute_error: 0.0030 - mean_absolute_percentage_error: 287.3534\n",
            "Epoch 74/200\n",
            "119/119 [==============================] - 2s 13ms/step - loss: 2.0510e-05 - mean_absolute_error: 0.0035 - mean_absolute_percentage_error: 88.6695\n",
            "Epoch 75/200\n",
            "119/119 [==============================] - 2s 13ms/step - loss: 2.2598e-05 - mean_absolute_error: 0.0037 - mean_absolute_percentage_error: 947.8340\n",
            "Epoch 76/200\n",
            "119/119 [==============================] - 2s 13ms/step - loss: 2.2851e-05 - mean_absolute_error: 0.0037 - mean_absolute_percentage_error: 906.5485\n",
            "Epoch 77/200\n",
            "119/119 [==============================] - 2s 13ms/step - loss: 1.9274e-05 - mean_absolute_error: 0.0034 - mean_absolute_percentage_error: 590.6241\n",
            "Epoch 78/200\n",
            "119/119 [==============================] - 2s 13ms/step - loss: 2.1230e-05 - mean_absolute_error: 0.0036 - mean_absolute_percentage_error: 773.3118\n",
            "Epoch 79/200\n",
            "119/119 [==============================] - 2s 13ms/step - loss: 2.1023e-05 - mean_absolute_error: 0.0036 - mean_absolute_percentage_error: 2482.5422\n",
            "Epoch 80/200\n",
            "119/119 [==============================] - 2s 13ms/step - loss: 2.5149e-05 - mean_absolute_error: 0.0040 - mean_absolute_percentage_error: 12.8863\n",
            "Epoch 81/200\n",
            "119/119 [==============================] - 2s 13ms/step - loss: 1.9477e-05 - mean_absolute_error: 0.0034 - mean_absolute_percentage_error: 10.4222\n",
            "Epoch 82/200\n",
            "119/119 [==============================] - 2s 13ms/step - loss: 1.5160e-05 - mean_absolute_error: 0.0030 - mean_absolute_percentage_error: 486.3521\n",
            "Epoch 83/200\n",
            "119/119 [==============================] - 2s 13ms/step - loss: 1.8055e-05 - mean_absolute_error: 0.0033 - mean_absolute_percentage_error: 335.2193\n",
            "Epoch 84/200\n",
            "119/119 [==============================] - 2s 13ms/step - loss: 2.3107e-05 - mean_absolute_error: 0.0038 - mean_absolute_percentage_error: 210.2144\n",
            "Epoch 85/200\n",
            "119/119 [==============================] - 2s 13ms/step - loss: 1.9301e-05 - mean_absolute_error: 0.0034 - mean_absolute_percentage_error: 10.1663\n",
            "Epoch 86/200\n",
            "119/119 [==============================] - 2s 13ms/step - loss: 2.4665e-05 - mean_absolute_error: 0.0039 - mean_absolute_percentage_error: 13.1656\n",
            "Epoch 87/200\n",
            "119/119 [==============================] - 2s 13ms/step - loss: 2.2373e-05 - mean_absolute_error: 0.0037 - mean_absolute_percentage_error: 617.2626\n",
            "Epoch 88/200\n",
            "119/119 [==============================] - 2s 13ms/step - loss: 1.8870e-05 - mean_absolute_error: 0.0034 - mean_absolute_percentage_error: 11.2539\n",
            "Epoch 89/200\n",
            "119/119 [==============================] - 2s 13ms/step - loss: 1.8223e-05 - mean_absolute_error: 0.0033 - mean_absolute_percentage_error: 10.3540\n",
            "Epoch 90/200\n",
            "119/119 [==============================] - 2s 13ms/step - loss: 1.8540e-05 - mean_absolute_error: 0.0033 - mean_absolute_percentage_error: 10.1890\n",
            "Epoch 91/200\n",
            "119/119 [==============================] - 2s 13ms/step - loss: 1.7397e-05 - mean_absolute_error: 0.0032 - mean_absolute_percentage_error: 52.2958\n",
            "Epoch 92/200\n",
            "119/119 [==============================] - 2s 14ms/step - loss: 2.4170e-05 - mean_absolute_error: 0.0037 - mean_absolute_percentage_error: 11.8361\n",
            "Epoch 93/200\n",
            "119/119 [==============================] - 2s 13ms/step - loss: 2.9608e-05 - mean_absolute_error: 0.0041 - mean_absolute_percentage_error: 575.9788\n",
            "Epoch 94/200\n",
            "119/119 [==============================] - 2s 13ms/step - loss: 1.8479e-05 - mean_absolute_error: 0.0033 - mean_absolute_percentage_error: 598.8826\n",
            "Epoch 95/200\n",
            "119/119 [==============================] - 1s 12ms/step - loss: 1.7152e-05 - mean_absolute_error: 0.0032 - mean_absolute_percentage_error: 594.7891\n",
            "Epoch 96/200\n",
            "119/119 [==============================] - 2s 13ms/step - loss: 1.6346e-05 - mean_absolute_error: 0.0031 - mean_absolute_percentage_error: 1436.9397\n",
            "Epoch 97/200\n",
            "119/119 [==============================] - 2s 13ms/step - loss: 1.9618e-05 - mean_absolute_error: 0.0034 - mean_absolute_percentage_error: 845.9987\n",
            "Epoch 98/200\n",
            "119/119 [==============================] - 2s 14ms/step - loss: 1.8534e-05 - mean_absolute_error: 0.0033 - mean_absolute_percentage_error: 10.3381\n",
            "Epoch 99/200\n",
            "119/119 [==============================] - 2s 13ms/step - loss: 1.6656e-05 - mean_absolute_error: 0.0032 - mean_absolute_percentage_error: 9.2650\n",
            "Epoch 100/200\n",
            "119/119 [==============================] - 2s 14ms/step - loss: 1.9369e-05 - mean_absolute_error: 0.0034 - mean_absolute_percentage_error: 10.9842\n",
            "Epoch 101/200\n",
            "119/119 [==============================] - 2s 14ms/step - loss: 1.6848e-05 - mean_absolute_error: 0.0032 - mean_absolute_percentage_error: 790.4566\n",
            "Epoch 102/200\n",
            "119/119 [==============================] - 2s 13ms/step - loss: 1.6946e-05 - mean_absolute_error: 0.0032 - mean_absolute_percentage_error: 9.5963\n",
            "Epoch 103/200\n",
            "119/119 [==============================] - 2s 13ms/step - loss: 1.8731e-05 - mean_absolute_error: 0.0033 - mean_absolute_percentage_error: 10.7532\n",
            "Epoch 104/200\n",
            "119/119 [==============================] - 2s 13ms/step - loss: 1.7327e-05 - mean_absolute_error: 0.0033 - mean_absolute_percentage_error: 255.0922\n",
            "Epoch 105/200\n",
            "119/119 [==============================] - 2s 13ms/step - loss: 1.3726e-05 - mean_absolute_error: 0.0028 - mean_absolute_percentage_error: 347.1896\n",
            "Epoch 106/200\n",
            "119/119 [==============================] - 2s 13ms/step - loss: 1.5653e-05 - mean_absolute_error: 0.0031 - mean_absolute_percentage_error: 42.9872\n",
            "Epoch 107/200\n",
            "119/119 [==============================] - 2s 13ms/step - loss: 1.8258e-05 - mean_absolute_error: 0.0033 - mean_absolute_percentage_error: 1802.8546\n",
            "Epoch 108/200\n",
            "119/119 [==============================] - 2s 14ms/step - loss: 1.7409e-05 - mean_absolute_error: 0.0032 - mean_absolute_percentage_error: 38.4145\n",
            "Epoch 109/200\n",
            "119/119 [==============================] - 2s 14ms/step - loss: 2.3732e-05 - mean_absolute_error: 0.0038 - mean_absolute_percentage_error: 251.6105\n",
            "Epoch 110/200\n",
            "119/119 [==============================] - 2s 13ms/step - loss: 1.7031e-05 - mean_absolute_error: 0.0032 - mean_absolute_percentage_error: 9.3802\n",
            "Epoch 111/200\n",
            "119/119 [==============================] - 2s 13ms/step - loss: 1.7467e-05 - mean_absolute_error: 0.0032 - mean_absolute_percentage_error: 710.4940\n",
            "Epoch 112/200\n",
            "119/119 [==============================] - 2s 13ms/step - loss: 2.2169e-05 - mean_absolute_error: 0.0036 - mean_absolute_percentage_error: 11.3105\n",
            "Epoch 113/200\n",
            "119/119 [==============================] - 2s 13ms/step - loss: 1.6536e-05 - mean_absolute_error: 0.0031 - mean_absolute_percentage_error: 1083.1603\n",
            "Epoch 114/200\n",
            "119/119 [==============================] - 2s 13ms/step - loss: 1.6173e-05 - mean_absolute_error: 0.0031 - mean_absolute_percentage_error: 244.1224\n",
            "Epoch 115/200\n",
            "119/119 [==============================] - 2s 14ms/step - loss: 1.7318e-05 - mean_absolute_error: 0.0032 - mean_absolute_percentage_error: 559.8280\n",
            "Epoch 116/200\n",
            "119/119 [==============================] - 2s 14ms/step - loss: 1.7532e-05 - mean_absolute_error: 0.0033 - mean_absolute_percentage_error: 454.2410\n",
            "Epoch 117/200\n",
            "119/119 [==============================] - 2s 14ms/step - loss: 1.8251e-05 - mean_absolute_error: 0.0034 - mean_absolute_percentage_error: 10.0536\n",
            "Epoch 118/200\n",
            "119/119 [==============================] - 2s 13ms/step - loss: 1.8268e-05 - mean_absolute_error: 0.0033 - mean_absolute_percentage_error: 10.4942\n",
            "Epoch 119/200\n",
            "119/119 [==============================] - 2s 14ms/step - loss: 1.4633e-05 - mean_absolute_error: 0.0029 - mean_absolute_percentage_error: 201.9531\n",
            "Epoch 120/200\n",
            "119/119 [==============================] - 2s 13ms/step - loss: 1.8851e-05 - mean_absolute_error: 0.0034 - mean_absolute_percentage_error: 1691.1364\n",
            "Epoch 121/200\n",
            "119/119 [==============================] - 2s 13ms/step - loss: 1.8065e-05 - mean_absolute_error: 0.0032 - mean_absolute_percentage_error: 261.5303\n",
            "Epoch 122/200\n",
            "119/119 [==============================] - 2s 14ms/step - loss: 1.4570e-05 - mean_absolute_error: 0.0029 - mean_absolute_percentage_error: 194.7241\n",
            "Epoch 123/200\n",
            "119/119 [==============================] - 2s 14ms/step - loss: 1.7360e-05 - mean_absolute_error: 0.0032 - mean_absolute_percentage_error: 1143.4567\n",
            "Epoch 124/200\n",
            "119/119 [==============================] - 2s 13ms/step - loss: 1.6333e-05 - mean_absolute_error: 0.0031 - mean_absolute_percentage_error: 1038.8569\n",
            "Epoch 125/200\n",
            "119/119 [==============================] - 2s 13ms/step - loss: 1.6274e-05 - mean_absolute_error: 0.0031 - mean_absolute_percentage_error: 618.7220\n",
            "Epoch 126/200\n",
            "119/119 [==============================] - 2s 13ms/step - loss: 1.7873e-05 - mean_absolute_error: 0.0033 - mean_absolute_percentage_error: 13.1425\n",
            "Epoch 127/200\n",
            "119/119 [==============================] - 2s 13ms/step - loss: 1.4385e-05 - mean_absolute_error: 0.0029 - mean_absolute_percentage_error: 1387.6292\n",
            "Epoch 128/200\n",
            "119/119 [==============================] - 2s 14ms/step - loss: 2.0902e-05 - mean_absolute_error: 0.0036 - mean_absolute_percentage_error: 11.5441\n",
            "Epoch 129/200\n",
            "119/119 [==============================] - 2s 13ms/step - loss: 2.0008e-05 - mean_absolute_error: 0.0035 - mean_absolute_percentage_error: 376.0738\n",
            "Epoch 130/200\n",
            "119/119 [==============================] - 2s 13ms/step - loss: 1.8806e-05 - mean_absolute_error: 0.0033 - mean_absolute_percentage_error: 9.4565\n",
            "Epoch 131/200\n",
            "119/119 [==============================] - 2s 13ms/step - loss: 1.6877e-05 - mean_absolute_error: 0.0032 - mean_absolute_percentage_error: 988.7287\n",
            "Epoch 132/200\n",
            "119/119 [==============================] - 2s 13ms/step - loss: 1.3949e-05 - mean_absolute_error: 0.0028 - mean_absolute_percentage_error: 8.3322\n",
            "Epoch 133/200\n",
            "119/119 [==============================] - 2s 13ms/step - loss: 1.5668e-05 - mean_absolute_error: 0.0031 - mean_absolute_percentage_error: 209.0073\n",
            "Epoch 134/200\n",
            "119/119 [==============================] - 2s 13ms/step - loss: 1.7491e-05 - mean_absolute_error: 0.0032 - mean_absolute_percentage_error: 10.6061\n",
            "Epoch 135/200\n",
            "119/119 [==============================] - 2s 13ms/step - loss: 1.8624e-05 - mean_absolute_error: 0.0033 - mean_absolute_percentage_error: 820.8456\n",
            "Epoch 136/200\n",
            "119/119 [==============================] - 2s 13ms/step - loss: 1.8574e-05 - mean_absolute_error: 0.0033 - mean_absolute_percentage_error: 815.2965\n",
            "Epoch 137/200\n",
            "119/119 [==============================] - 2s 13ms/step - loss: 1.4984e-05 - mean_absolute_error: 0.0030 - mean_absolute_percentage_error: 8.3646\n",
            "Epoch 138/200\n",
            "119/119 [==============================] - 2s 13ms/step - loss: 1.3326e-05 - mean_absolute_error: 0.0028 - mean_absolute_percentage_error: 654.5203\n",
            "Epoch 139/200\n",
            "119/119 [==============================] - 2s 13ms/step - loss: 2.2792e-05 - mean_absolute_error: 0.0037 - mean_absolute_percentage_error: 552.6232\n",
            "Epoch 140/200\n",
            "119/119 [==============================] - 2s 14ms/step - loss: 1.7000e-05 - mean_absolute_error: 0.0031 - mean_absolute_percentage_error: 1025.1492\n",
            "Epoch 141/200\n",
            "119/119 [==============================] - 2s 14ms/step - loss: 2.4337e-05 - mean_absolute_error: 0.0039 - mean_absolute_percentage_error: 13.4084\n",
            "Epoch 142/200\n",
            "119/119 [==============================] - 2s 13ms/step - loss: 1.5318e-05 - mean_absolute_error: 0.0030 - mean_absolute_percentage_error: 688.0203\n",
            "Epoch 143/200\n",
            "119/119 [==============================] - 2s 13ms/step - loss: 1.7182e-05 - mean_absolute_error: 0.0032 - mean_absolute_percentage_error: 9.6937\n",
            "Epoch 144/200\n",
            "119/119 [==============================] - 2s 14ms/step - loss: 1.3861e-05 - mean_absolute_error: 0.0028 - mean_absolute_percentage_error: 8.9665\n",
            "Epoch 145/200\n",
            "119/119 [==============================] - 2s 13ms/step - loss: 1.5873e-05 - mean_absolute_error: 0.0030 - mean_absolute_percentage_error: 140.8055\n",
            "Epoch 146/200\n",
            "119/119 [==============================] - 2s 14ms/step - loss: 1.4248e-05 - mean_absolute_error: 0.0028 - mean_absolute_percentage_error: 1158.7250\n",
            "Epoch 147/200\n",
            "119/119 [==============================] - 2s 13ms/step - loss: 2.0833e-05 - mean_absolute_error: 0.0036 - mean_absolute_percentage_error: 487.4316\n",
            "Epoch 148/200\n",
            "119/119 [==============================] - 2s 14ms/step - loss: 1.8634e-05 - mean_absolute_error: 0.0033 - mean_absolute_percentage_error: 691.4100\n",
            "Epoch 149/200\n",
            "119/119 [==============================] - 2s 14ms/step - loss: 1.5155e-05 - mean_absolute_error: 0.0030 - mean_absolute_percentage_error: 317.0598\n",
            "Epoch 150/200\n",
            "119/119 [==============================] - 2s 13ms/step - loss: 1.2496e-05 - mean_absolute_error: 0.0027 - mean_absolute_percentage_error: 104.4474\n",
            "Epoch 151/200\n",
            "119/119 [==============================] - 2s 14ms/step - loss: 2.1871e-05 - mean_absolute_error: 0.0036 - mean_absolute_percentage_error: 422.3624\n",
            "Epoch 152/200\n",
            "119/119 [==============================] - 2s 13ms/step - loss: 1.4653e-05 - mean_absolute_error: 0.0029 - mean_absolute_percentage_error: 62.6659\n",
            "Epoch 153/200\n",
            "119/119 [==============================] - 2s 13ms/step - loss: 1.6171e-05 - mean_absolute_error: 0.0030 - mean_absolute_percentage_error: 520.9006\n",
            "Epoch 154/200\n",
            "119/119 [==============================] - 2s 14ms/step - loss: 1.6629e-05 - mean_absolute_error: 0.0032 - mean_absolute_percentage_error: 610.5412\n",
            "Epoch 155/200\n",
            "119/119 [==============================] - 2s 14ms/step - loss: 1.8274e-05 - mean_absolute_error: 0.0034 - mean_absolute_percentage_error: 1855.7955\n",
            "Epoch 156/200\n",
            "119/119 [==============================] - 2s 14ms/step - loss: 1.3266e-05 - mean_absolute_error: 0.0028 - mean_absolute_percentage_error: 248.4898\n",
            "Epoch 157/200\n",
            "119/119 [==============================] - 2s 14ms/step - loss: 1.3123e-05 - mean_absolute_error: 0.0028 - mean_absolute_percentage_error: 8.1238\n",
            "Epoch 158/200\n",
            "119/119 [==============================] - 2s 14ms/step - loss: 1.4513e-05 - mean_absolute_error: 0.0029 - mean_absolute_percentage_error: 784.2185\n",
            "Epoch 159/200\n",
            "119/119 [==============================] - 2s 13ms/step - loss: 1.4284e-05 - mean_absolute_error: 0.0029 - mean_absolute_percentage_error: 185.7654\n",
            "Epoch 160/200\n",
            "119/119 [==============================] - 2s 13ms/step - loss: 1.5969e-05 - mean_absolute_error: 0.0031 - mean_absolute_percentage_error: 200.5123\n",
            "Epoch 161/200\n",
            "119/119 [==============================] - 2s 13ms/step - loss: 1.5979e-05 - mean_absolute_error: 0.0031 - mean_absolute_percentage_error: 8.8863\n",
            "Epoch 162/200\n",
            "119/119 [==============================] - 2s 13ms/step - loss: 1.4783e-05 - mean_absolute_error: 0.0030 - mean_absolute_percentage_error: 9.2180\n",
            "Epoch 163/200\n",
            "119/119 [==============================] - 2s 14ms/step - loss: 1.3507e-05 - mean_absolute_error: 0.0028 - mean_absolute_percentage_error: 8.4049\n",
            "Epoch 164/200\n",
            "119/119 [==============================] - 2s 14ms/step - loss: 1.5618e-05 - mean_absolute_error: 0.0030 - mean_absolute_percentage_error: 746.4318\n",
            "Epoch 165/200\n",
            "119/119 [==============================] - 2s 14ms/step - loss: 2.1267e-05 - mean_absolute_error: 0.0036 - mean_absolute_percentage_error: 195.3777\n",
            "Epoch 166/200\n",
            "119/119 [==============================] - 2s 13ms/step - loss: 1.3182e-05 - mean_absolute_error: 0.0028 - mean_absolute_percentage_error: 8.4651\n",
            "Epoch 167/200\n",
            "119/119 [==============================] - 2s 13ms/step - loss: 1.5001e-05 - mean_absolute_error: 0.0030 - mean_absolute_percentage_error: 561.1401\n",
            "Epoch 168/200\n",
            "119/119 [==============================] - 2s 14ms/step - loss: 1.3477e-05 - mean_absolute_error: 0.0028 - mean_absolute_percentage_error: 899.8257\n",
            "Epoch 169/200\n",
            "119/119 [==============================] - 2s 13ms/step - loss: 1.7004e-05 - mean_absolute_error: 0.0032 - mean_absolute_percentage_error: 1154.0251\n",
            "Epoch 170/200\n",
            "119/119 [==============================] - 2s 14ms/step - loss: 1.4314e-05 - mean_absolute_error: 0.0029 - mean_absolute_percentage_error: 119.6803\n",
            "Epoch 171/200\n",
            "119/119 [==============================] - 2s 14ms/step - loss: 1.4137e-05 - mean_absolute_error: 0.0029 - mean_absolute_percentage_error: 1065.8197\n",
            "Epoch 172/200\n",
            "119/119 [==============================] - 2s 14ms/step - loss: 1.3518e-05 - mean_absolute_error: 0.0028 - mean_absolute_percentage_error: 22.0470\n",
            "Epoch 173/200\n",
            "119/119 [==============================] - 2s 14ms/step - loss: 1.3123e-05 - mean_absolute_error: 0.0028 - mean_absolute_percentage_error: 686.6158\n",
            "Epoch 174/200\n",
            "119/119 [==============================] - 2s 14ms/step - loss: 1.3640e-05 - mean_absolute_error: 0.0028 - mean_absolute_percentage_error: 720.9733\n",
            "Epoch 175/200\n",
            "119/119 [==============================] - 2s 13ms/step - loss: 1.2651e-05 - mean_absolute_error: 0.0027 - mean_absolute_percentage_error: 683.7778\n",
            "Epoch 176/200\n",
            "119/119 [==============================] - 2s 13ms/step - loss: 1.6619e-05 - mean_absolute_error: 0.0032 - mean_absolute_percentage_error: 748.2994\n",
            "Epoch 177/200\n",
            "119/119 [==============================] - 2s 13ms/step - loss: 1.2629e-05 - mean_absolute_error: 0.0027 - mean_absolute_percentage_error: 816.9997\n",
            "Epoch 178/200\n",
            "119/119 [==============================] - 2s 14ms/step - loss: 1.3832e-05 - mean_absolute_error: 0.0028 - mean_absolute_percentage_error: 8.8209\n",
            "Epoch 179/200\n",
            "119/119 [==============================] - 2s 14ms/step - loss: 1.4317e-05 - mean_absolute_error: 0.0029 - mean_absolute_percentage_error: 439.3810\n",
            "Epoch 180/200\n",
            "119/119 [==============================] - 2s 14ms/step - loss: 1.7542e-05 - mean_absolute_error: 0.0033 - mean_absolute_percentage_error: 1561.5201\n",
            "Epoch 181/200\n",
            "119/119 [==============================] - 2s 14ms/step - loss: 1.5109e-05 - mean_absolute_error: 0.0030 - mean_absolute_percentage_error: 571.6160\n",
            "Epoch 182/200\n",
            "119/119 [==============================] - 2s 13ms/step - loss: 1.6772e-05 - mean_absolute_error: 0.0032 - mean_absolute_percentage_error: 136.5483\n",
            "Epoch 183/200\n",
            "119/119 [==============================] - 2s 13ms/step - loss: 1.7352e-05 - mean_absolute_error: 0.0032 - mean_absolute_percentage_error: 9.4123\n",
            "Epoch 184/200\n",
            "119/119 [==============================] - 2s 14ms/step - loss: 1.3382e-05 - mean_absolute_error: 0.0028 - mean_absolute_percentage_error: 666.8309\n",
            "Epoch 185/200\n",
            "119/119 [==============================] - 2s 13ms/step - loss: 1.6364e-05 - mean_absolute_error: 0.0031 - mean_absolute_percentage_error: 726.5607\n",
            "Epoch 186/200\n",
            "119/119 [==============================] - 2s 14ms/step - loss: 1.4815e-05 - mean_absolute_error: 0.0029 - mean_absolute_percentage_error: 1051.1636\n",
            "Epoch 187/200\n",
            "119/119 [==============================] - 2s 14ms/step - loss: 1.6590e-05 - mean_absolute_error: 0.0031 - mean_absolute_percentage_error: 656.1210\n",
            "Epoch 188/200\n",
            "119/119 [==============================] - 2s 14ms/step - loss: 1.4537e-05 - mean_absolute_error: 0.0029 - mean_absolute_percentage_error: 297.2675\n",
            "Epoch 189/200\n",
            "119/119 [==============================] - 2s 13ms/step - loss: 1.3007e-05 - mean_absolute_error: 0.0028 - mean_absolute_percentage_error: 8.2965\n",
            "Epoch 190/200\n",
            "119/119 [==============================] - 2s 13ms/step - loss: 1.7925e-05 - mean_absolute_error: 0.0032 - mean_absolute_percentage_error: 372.4685\n",
            "Epoch 191/200\n",
            "119/119 [==============================] - 2s 13ms/step - loss: 1.6107e-05 - mean_absolute_error: 0.0031 - mean_absolute_percentage_error: 803.9952\n",
            "Epoch 192/200\n",
            "119/119 [==============================] - 2s 13ms/step - loss: 1.4530e-05 - mean_absolute_error: 0.0029 - mean_absolute_percentage_error: 716.2534\n",
            "Epoch 193/200\n",
            "119/119 [==============================] - 2s 14ms/step - loss: 1.5797e-05 - mean_absolute_error: 0.0031 - mean_absolute_percentage_error: 270.5302\n",
            "Epoch 194/200\n",
            "119/119 [==============================] - 2s 14ms/step - loss: 1.6629e-05 - mean_absolute_error: 0.0031 - mean_absolute_percentage_error: 9.9072\n",
            "Epoch 195/200\n",
            "119/119 [==============================] - 2s 14ms/step - loss: 1.4041e-05 - mean_absolute_error: 0.0029 - mean_absolute_percentage_error: 529.2196\n",
            "Epoch 196/200\n",
            "119/119 [==============================] - 2s 14ms/step - loss: 1.6141e-05 - mean_absolute_error: 0.0031 - mean_absolute_percentage_error: 374.4977\n",
            "Epoch 197/200\n",
            "119/119 [==============================] - 2s 14ms/step - loss: 1.2744e-05 - mean_absolute_error: 0.0027 - mean_absolute_percentage_error: 702.6500\n",
            "Epoch 198/200\n",
            "119/119 [==============================] - 2s 13ms/step - loss: 1.6377e-05 - mean_absolute_error: 0.0031 - mean_absolute_percentage_error: 9.7706\n",
            "Epoch 199/200\n",
            "119/119 [==============================] - 2s 14ms/step - loss: 1.4537e-05 - mean_absolute_error: 0.0029 - mean_absolute_percentage_error: 348.3349\n",
            "Epoch 200/200\n",
            "119/119 [==============================] - 2s 14ms/step - loss: 1.5089e-05 - mean_absolute_error: 0.0030 - mean_absolute_percentage_error: 34.4100\n"
          ]
        },
        {
          "output_type": "execute_result",
          "data": {
            "text/plain": [
              "<keras.callbacks.History at 0x7f041d401210>"
            ]
          },
          "metadata": {},
          "execution_count": 26
        }
      ]
    },
    {
      "cell_type": "code",
      "metadata": {
        "id": "b167c003"
      },
      "source": [
        "Y_pred_test_gru_source = gru_model_source.predict(X_test_gru_source)\n",
        "Y_pred_train_gru_source = gru_model_source.predict(X_train_gru_source)"
      ],
      "id": "b167c003",
      "execution_count": null,
      "outputs": []
    },
    {
      "cell_type": "markdown",
      "metadata": {
        "id": "JNKHNzpDmmxE"
      },
      "source": [
        "Y_pred_test_gru_source = gru_model_source.predict(X_test_gru_source, batch_size=3)\n",
        "Y_pred_train_gru_source = gru_model_source.predict(X_train_gru_source, batch_size=3)"
      ],
      "id": "JNKHNzpDmmxE"
    },
    {
      "cell_type": "code",
      "metadata": {
        "colab": {
          "base_uri": "https://localhost:8080/"
        },
        "id": "618bf2a4",
        "outputId": "638a4db0-2b11-42f8-c635-f8cae6c74093"
      },
      "source": [
        "# Calculating RMSE\n",
        "test_rmse_gru_source = sqrt(mean_squared_error(Y_pred_test_gru_source, Y_test_gru_source))\n",
        "train_rmse_gru_source = sqrt(mean_squared_error(Y_pred_train_gru_source, Y_train_gru_source))\n",
        "print(\"test_rmse_gru_source = {}, train_rmse_gru_source = {}\".format(test_rmse_gru_source, train_rmse_gru_source))\n",
        "\n",
        "# Calculating r2_score\n",
        "test_r2_score_gru_source = r2_score(Y_test_gru_source, Y_pred_test_gru_source)\n",
        "train_r2_score_gru_source = r2_score(Y_train_gru_source, Y_pred_train_gru_source)\n",
        "print(\"test_r2_score_gru_source = {}, train_r2_score_gru_source = {}\".format(test_r2_score_gru_source, train_r2_score_gru_source))\n",
        "\n",
        "# Calculating MAE\n",
        "test_mae_gru_source = mean_absolute_error(Y_test_gru_source, Y_pred_test_gru_source)\n",
        "train_mae_gru_source = mean_absolute_error(Y_train_gru_source, Y_pred_train_gru_source)\n",
        "print(\"test_mae_gru_source = {}, train_mae_gru_source = {}\".format(test_mae_gru_source, train_mae_gru_source))\n",
        "\n",
        "# Calculating MAPE\n",
        "test_loss_gru_source, test_mae_gru_source, test_mape_gru_source = gru_model_source.evaluate(X_test_gru_source, Y_test_gru_source, verbose=0)\n",
        "train_loss_gru_source, train_mae_gru_source, train_mape_gru_source = gru_model_source.evaluate(X_train_gru_source, Y_train_gru_source, verbose=0)\n",
        "print(\"test_mape_gru_source = {}, train_mape_gru_source = {}\".format(test_mape_gru_source, train_mape_gru_source))"
      ],
      "id": "618bf2a4",
      "execution_count": null,
      "outputs": [
        {
          "output_type": "stream",
          "name": "stdout",
          "text": [
            "test_rmse_gru_source = 0.06234329582105105, train_rmse_gru_source = 0.006231297819111162\n",
            "test_r2_score_gru_source = 0.8694539695928973, train_r2_score_gru_source = 0.9897757232109614\n",
            "test_mae_gru_source = 0.03062937733180197, train_mae_gru_source = 0.0055993543127201666\n",
            "test_mape_gru_source = 5.460618019104004, train_mape_gru_source = 18.783916473388672\n"
          ]
        }
      ]
    },
    {
      "cell_type": "markdown",
      "metadata": {
        "id": "SYxGcRaFmyDi"
      },
      "source": [
        "# Calculating RMSE\n",
        "test_rmse_gru_source = sqrt(mean_squared_error(Y_pred_test_gru_source, Y_test_gru_source))\n",
        "train_rmse_gru_source = sqrt(mean_squared_error(Y_pred_train_gru_source, Y_train_gru_source))\n",
        "print(\"test_rmse_gru_source = {}, train_rmse_gru_source = {}\".format(test_rmse_gru_source, train_rmse_gru_source))\n",
        "\n",
        "# Calculating r2_score\n",
        "test_r2_score_gru_source = r2_score(Y_test_gru_source, Y_pred_test_gru_source)\n",
        "train_r2_score_gru_source = r2_score(Y_train_gru_source, Y_pred_train_gru_source)\n",
        "print(\"test_r2_score_gru_source = {}, train_r2_score_gru_source = {}\".format(test_r2_score_gru_source, train_r2_score_gru_source))\n",
        "\n",
        "# Calculating MAE\n",
        "test_mae_gru_source = mean_absolute_error(Y_test_gru_source, Y_pred_test_gru_source)\n",
        "train_mae_gru_source = mean_absolute_error(Y_train_gru_source, Y_pred_train_gru_source)\n",
        "print(\"test_mae_gru_source = {}, train_mae_gru_source = {}\".format(test_mae_gru_source, train_mae_gru_source))\n",
        "\n",
        "# Calculating MAPE\n",
        "test_loss_gru_source, test_mae_gru_source, test_mape_gru_source = gru_model_source.evaluate(X_test_gru_source, Y_test_gru_source, batch_size=3, verbose=0)\n",
        "train_loss_gru_source, train_mae_gru_source, train_mape_gru_source = gru_model_source.evaluate(X_train_gru_source, Y_train_gru_source, batch_size=3, verbose=0)\n",
        "print(\"test_mape_gru_source = {}, train_mape_gru_source = {}\".format(test_mape_gru_source, train_mape_gru_source))"
      ],
      "id": "SYxGcRaFmyDi"
    },
    {
      "cell_type": "code",
      "metadata": {
        "colab": {
          "base_uri": "https://localhost:8080/",
          "height": 347
        },
        "id": "1e749b8d",
        "outputId": "11f1f14e-dc90-4752-c80f-bcc848faad96"
      },
      "source": [
        "plt.figure(1, figsize=(30, 6)) # Defines the figure size in inches\n",
        "plt.plot(range(0, len(Y_test_gru_source)), Y_test_gru_source)\n",
        "plt.plot(range(0, len(Y_test_gru_source)), Y_pred_test_gru_source)\n",
        "plt.xlabel('Time')\n",
        "plt.ylabel('Adj. Closing Price')\n",
        "plt.title('Adj. Closing Price vs Time')\n",
        "plt.legend(['Actual', 'Prediction'])"
      ],
      "id": "1e749b8d",
      "execution_count": null,
      "outputs": [
        {
          "output_type": "execute_result",
          "data": {
            "text/plain": [
              "<matplotlib.legend.Legend at 0x7f041ea2a150>"
            ]
          },
          "metadata": {},
          "execution_count": 29
        },
        {
          "output_type": "display_data",
          "data": {
            "image/png": "[encoded data removed]",
            "text/plain": [
              "<Figure size 2160x432 with 1 Axes>"
            ]
          },
          "metadata": {
            "needs_background": "light"
          }
        }
      ]
    },
    {
      "cell_type": "code",
      "metadata": {
        "colab": {
          "base_uri": "https://localhost:8080/"
        },
        "id": "vjWHOmA6Vajb",
        "outputId": "bd272f30-54bc-4e3b-8431-fb7cb9f85d23"
      },
      "source": [
        "last_layer_source = gru_model_source.get_layer(index=2)\n",
        "last_layer_source.get_weights()"
      ],
      "id": "vjWHOmA6Vajb",
      "execution_count": null,
      "outputs": [
        {
          "output_type": "execute_result",
          "data": {
            "text/plain": [
              "[array([[ 1.47355288e-01],\n",
              "        [ 2.54686587e-02],\n",
              "        [ 5.06820194e-02],\n",
              "        [-8.51354271e-05],\n",
              "        [-1.07288964e-01],\n",
              "        [ 9.17046517e-03],\n",
              "        [-1.46972135e-01],\n",
              "        [ 8.85297507e-02],\n",
              "        [-1.00829015e-02],\n",
              "        [ 1.08474560e-01],\n",
              "        [-7.97062218e-02],\n",
              "        [-7.74076581e-02],\n",
              "        [ 3.19066606e-02],\n",
              "        [-4.70993249e-03],\n",
              "        [-8.16711597e-03],\n",
              "        [ 8.41367543e-02],\n",
              "        [ 5.79706281e-02],\n",
              "        [-2.08118884e-03],\n",
              "        [ 2.12578401e-02],\n",
              "        [-1.43360630e-01],\n",
              "        [-2.85994917e-01],\n",
              "        [ 1.49318650e-01],\n",
              "        [ 1.77483693e-01],\n",
              "        [-4.84818853e-02],\n",
              "        [-1.41827643e-01],\n",
              "        [-2.32756153e-01],\n",
              "        [-3.39195807e-03],\n",
              "        [-2.29812026e-01],\n",
              "        [ 8.59042257e-02],\n",
              "        [-1.57577038e-01],\n",
              "        [ 7.70951137e-02],\n",
              "        [-1.34852782e-01],\n",
              "        [-1.14205904e-01],\n",
              "        [ 9.05060992e-02],\n",
              "        [-1.07305393e-01],\n",
              "        [ 2.51137078e-01],\n",
              "        [-1.49131879e-01],\n",
              "        [-9.00552571e-02],\n",
              "        [ 1.47153392e-01],\n",
              "        [-4.05819230e-02],\n",
              "        [-2.62541585e-02],\n",
              "        [ 9.43569243e-02],\n",
              "        [ 1.25275776e-01],\n",
              "        [ 2.70456094e-02],\n",
              "        [ 1.14071801e-01],\n",
              "        [ 1.46408170e-01]], dtype=float32), array([0.01342594], dtype=float32)]"
            ]
          },
          "metadata": {},
          "execution_count": 30
        }
      ]
    },
    {
      "cell_type": "markdown",
      "metadata": {
        "id": "fbb6b1ea"
      },
      "source": [
        "#### Training source model on another stock having sufficient data"
      ],
      "id": "fbb6b1ea"
    },
    {
      "cell_type": "code",
      "metadata": {
        "id": "7D5d010iG7fQ"
      },
      "source": [
        "second_source_data = pd.read_csv('./final-data/indicators_source_tcs.csv', index_col=[0])"
      ],
      "id": "7D5d010iG7fQ",
      "execution_count": null,
      "outputs": []
    },
    {
      "cell_type": "code",
      "metadata": {
        "id": "T-kxVCboGJPe"
      },
      "source": [
        "adj_close_second_source = second_source_data['Adj Close']"
      ],
      "id": "T-kxVCboGJPe",
      "execution_count": null,
      "outputs": []
    },
    {
      "cell_type": "code",
      "metadata": {
        "id": "sfVc62rTGz-B"
      },
      "source": [
        "second_source_data.drop(['Date'], axis=1, inplace=True)"
      ],
      "id": "sfVc62rTGz-B",
      "execution_count": null,
      "outputs": []
    },
    {
      "cell_type": "code",
      "metadata": {
        "id": "be7beb05"
      },
      "source": [
        "# temp\n",
        "# Dropping volume\n",
        "second_source_data.drop(['Volume'], axis=1, inplace=True)"
      ],
      "id": "be7beb05",
      "execution_count": null,
      "outputs": []
    },
    {
      "cell_type": "code",
      "metadata": {
        "id": "IVGeLCBWHKkw"
      },
      "source": [
        "second_source_values = second_source_data.values\n",
        "second_scaler = MinMaxScaler(feature_range=(0, 1))\n",
        "second_scaler = second_scaler.fit(second_source_values)\n",
        "normalized_second_source_values = second_scaler.transform(second_source_values)"
      ],
      "id": "IVGeLCBWHKkw",
      "execution_count": null,
      "outputs": []
    },
    {
      "cell_type": "code",
      "metadata": {
        "id": "Tctnbk-_HLBL"
      },
      "source": [
        "normalized_second_source = pd.DataFrame(normalized_second_source_values, columns=second_source_data.columns)"
      ],
      "id": "Tctnbk-_HLBL",
      "execution_count": null,
      "outputs": []
    },
    {
      "cell_type": "code",
      "metadata": {
        "id": "QoKfqHSbHMcJ"
      },
      "source": [
        "label_normalized_second_source = normalized_second_source['Adj Close']\n",
        "normalized_second_source.drop(['Adj Close'], axis=1, inplace=True)"
      ],
      "id": "QoKfqHSbHMcJ",
      "execution_count": null,
      "outputs": []
    },
    {
      "cell_type": "code",
      "metadata": {
        "id": "RUTKc3RVHN8q"
      },
      "source": [
        "features_normalized_second_source = normalized_second_source"
      ],
      "id": "RUTKc3RVHN8q",
      "execution_count": null,
      "outputs": []
    },
    {
      "cell_type": "code",
      "metadata": {
        "id": "Li6K9e-UHP89"
      },
      "source": [
        "X_train_gru_second_source, X_test_gru_second_source, Y_train_gru_second_source, Y_test_gru_second_source = train_test_split(features_normalized_second_source, label_normalized_second_source, test_size=0.30, random_state=42, shuffle=False)"
      ],
      "id": "Li6K9e-UHP89",
      "execution_count": null,
      "outputs": []
    },
    {
      "cell_type": "code",
      "metadata": {
        "colab": {
          "base_uri": "https://localhost:8080/"
        },
        "id": "319b8eeb",
        "outputId": "a5dd0350-2d54-4653-8bdf-1ed6c8eff631"
      },
      "source": [
        "Y_train_gru_second_source.shape"
      ],
      "id": "319b8eeb",
      "execution_count": null,
      "outputs": [
        {
          "output_type": "execute_result",
          "data": {
            "text/plain": [
              "(3118,)"
            ]
          },
          "metadata": {},
          "execution_count": 40
        }
      ]
    },
    {
      "cell_type": "code",
      "metadata": {
        "id": "G9QQ6sAxHReA"
      },
      "source": [
        "X_train_gru_second_source = np.array(X_train_gru_second_source)\n",
        "X_test_gru_second_source = np.array(X_test_gru_second_source)\n",
        "Y_train_gru_second_source = np.array(Y_train_gru_second_source)\n",
        "Y_test_gru_second_source = np.array(Y_test_gru_second_source)"
      ],
      "id": "G9QQ6sAxHReA",
      "execution_count": null,
      "outputs": []
    },
    {
      "cell_type": "code",
      "metadata": {
        "id": "NVXTIWcYHS4A"
      },
      "source": [
        "X_train_gru_second_source = X_train_gru_second_source.reshape(X_train_gru_second_source.shape[0],X_train_gru_second_source.shape[1],1)\n",
        "X_test_gru_second_source = X_test_gru_second_source.reshape(X_test_gru_second_source.shape[0],X_test_gru_second_source.shape[1],1)"
      ],
      "id": "NVXTIWcYHS4A",
      "execution_count": null,
      "outputs": []
    },
    {
      "cell_type": "code",
      "metadata": {
        "colab": {
          "base_uri": "https://localhost:8080/"
        },
        "id": "Bc0jdI31HUcj",
        "outputId": "3b35752b-8f68-498c-f2f6-59a7045a3108"
      },
      "source": [
        "history_gru_second_source = gru_model_source.fit(X_train_gru_second_source,Y_train_gru_second_source,validation_data=(X_test_gru_second_source,Y_test_gru_second_source),epochs=200,verbose=1)\n",
        "Y_pred_test_gru_second_source = gru_model_source.predict(X_test_gru_second_source)\n",
        "Y_pred_train_gru_second_source = gru_model_source.predict(X_train_gru_second_source)"
      ],
      "id": "Bc0jdI31HUcj",
      "execution_count": null,
      "outputs": [
        {
          "output_type": "stream",
          "name": "stdout",
          "text": [
            "Epoch 1/200\n",
            "98/98 [==============================] - 1s 14ms/step - loss: 2.3278e-05 - mean_absolute_error: 0.0034 - mean_absolute_percentage_error: 181.9644 - val_loss: 0.0082 - val_mean_absolute_error: 0.0532 - val_mean_absolute_percentage_error: 8.3447\n",
            "Epoch 2/200\n",
            "98/98 [==============================] - 1s 15ms/step - loss: 1.5212e-05 - mean_absolute_error: 0.0029 - mean_absolute_percentage_error: 1400.3359 - val_loss: 0.0092 - val_mean_absolute_error: 0.0584 - val_mean_absolute_percentage_error: 9.2938\n",
            "Epoch 3/200\n",
            "98/98 [==============================] - 1s 15ms/step - loss: 1.6598e-05 - mean_absolute_error: 0.0031 - mean_absolute_percentage_error: 60.9659 - val_loss: 0.0087 - val_mean_absolute_error: 0.0558 - val_mean_absolute_percentage_error: 8.7683\n",
            "Epoch 4/200\n",
            "98/98 [==============================] - 1s 15ms/step - loss: 1.2168e-05 - mean_absolute_error: 0.0026 - mean_absolute_percentage_error: 1351.8718 - val_loss: 0.0088 - val_mean_absolute_error: 0.0571 - val_mean_absolute_percentage_error: 9.0939\n",
            "Epoch 5/200\n",
            "98/98 [==============================] - 1s 15ms/step - loss: 1.3038e-05 - mean_absolute_error: 0.0027 - mean_absolute_percentage_error: 1163.2264 - val_loss: 0.0093 - val_mean_absolute_error: 0.0597 - val_mean_absolute_percentage_error: 9.5882\n",
            "Epoch 6/200\n",
            "98/98 [==============================] - 1s 15ms/step - loss: 1.2087e-05 - mean_absolute_error: 0.0026 - mean_absolute_percentage_error: 1433.0215 - val_loss: 0.0080 - val_mean_absolute_error: 0.0527 - val_mean_absolute_percentage_error: 8.2599\n",
            "Epoch 7/200\n",
            "98/98 [==============================] - 1s 14ms/step - loss: 9.3014e-06 - mean_absolute_error: 0.0022 - mean_absolute_percentage_error: 128.5053 - val_loss: 0.0081 - val_mean_absolute_error: 0.0536 - val_mean_absolute_percentage_error: 8.4176\n",
            "Epoch 8/200\n",
            "98/98 [==============================] - 1s 15ms/step - loss: 1.0837e-05 - mean_absolute_error: 0.0025 - mean_absolute_percentage_error: 15.1143 - val_loss: 0.0083 - val_mean_absolute_error: 0.0539 - val_mean_absolute_percentage_error: 8.4558\n",
            "Epoch 9/200\n",
            "98/98 [==============================] - 1s 14ms/step - loss: 1.1861e-05 - mean_absolute_error: 0.0026 - mean_absolute_percentage_error: 133.9558 - val_loss: 0.0086 - val_mean_absolute_error: 0.0559 - val_mean_absolute_percentage_error: 8.8333\n",
            "Epoch 10/200\n",
            "98/98 [==============================] - 1s 14ms/step - loss: 1.3180e-05 - mean_absolute_error: 0.0028 - mean_absolute_percentage_error: 30.7806 - val_loss: 0.0091 - val_mean_absolute_error: 0.0574 - val_mean_absolute_percentage_error: 9.0459\n",
            "Epoch 11/200\n",
            "98/98 [==============================] - 1s 14ms/step - loss: 1.5429e-05 - mean_absolute_error: 0.0029 - mean_absolute_percentage_error: 16.2310 - val_loss: 0.0093 - val_mean_absolute_error: 0.0595 - val_mean_absolute_percentage_error: 9.4685\n",
            "Epoch 12/200\n",
            "98/98 [==============================] - 1s 14ms/step - loss: 1.3630e-05 - mean_absolute_error: 0.0028 - mean_absolute_percentage_error: 1192.2275 - val_loss: 0.0094 - val_mean_absolute_error: 0.0600 - val_mean_absolute_percentage_error: 9.5742\n",
            "Epoch 13/200\n",
            "98/98 [==============================] - 1s 14ms/step - loss: 1.0543e-05 - mean_absolute_error: 0.0024 - mean_absolute_percentage_error: 1626.9519 - val_loss: 0.0087 - val_mean_absolute_error: 0.0563 - val_mean_absolute_percentage_error: 8.8694\n",
            "Epoch 14/200\n",
            "98/98 [==============================] - 1s 15ms/step - loss: 1.1453e-05 - mean_absolute_error: 0.0025 - mean_absolute_percentage_error: 395.5951 - val_loss: 0.0086 - val_mean_absolute_error: 0.0562 - val_mean_absolute_percentage_error: 8.8983\n",
            "Epoch 15/200\n",
            "98/98 [==============================] - 1s 15ms/step - loss: 1.1155e-05 - mean_absolute_error: 0.0025 - mean_absolute_percentage_error: 603.5913 - val_loss: 0.0085 - val_mean_absolute_error: 0.0556 - val_mean_absolute_percentage_error: 8.7861\n",
            "Epoch 16/200\n",
            "98/98 [==============================] - 1s 15ms/step - loss: 1.1957e-05 - mean_absolute_error: 0.0026 - mean_absolute_percentage_error: 17.6921 - val_loss: 0.0086 - val_mean_absolute_error: 0.0556 - val_mean_absolute_percentage_error: 8.7367\n",
            "Epoch 17/200\n",
            "98/98 [==============================] - 1s 14ms/step - loss: 1.3728e-05 - mean_absolute_error: 0.0029 - mean_absolute_percentage_error: 18.0881 - val_loss: 0.0079 - val_mean_absolute_error: 0.0523 - val_mean_absolute_percentage_error: 8.1834\n",
            "Epoch 18/200\n",
            "98/98 [==============================] - 1s 14ms/step - loss: 1.2642e-05 - mean_absolute_error: 0.0026 - mean_absolute_percentage_error: 223.4805 - val_loss: 0.0077 - val_mean_absolute_error: 0.0515 - val_mean_absolute_percentage_error: 8.0396\n",
            "Epoch 19/200\n",
            "98/98 [==============================] - 1s 14ms/step - loss: 1.2606e-05 - mean_absolute_error: 0.0027 - mean_absolute_percentage_error: 481.7798 - val_loss: 0.0084 - val_mean_absolute_error: 0.0547 - val_mean_absolute_percentage_error: 8.5666\n",
            "Epoch 20/200\n",
            "98/98 [==============================] - 1s 14ms/step - loss: 1.2627e-05 - mean_absolute_error: 0.0027 - mean_absolute_percentage_error: 931.0065 - val_loss: 0.0089 - val_mean_absolute_error: 0.0570 - val_mean_absolute_percentage_error: 9.0168\n",
            "Epoch 21/200\n",
            "98/98 [==============================] - 1s 14ms/step - loss: 1.1314e-05 - mean_absolute_error: 0.0025 - mean_absolute_percentage_error: 17.8974 - val_loss: 0.0092 - val_mean_absolute_error: 0.0591 - val_mean_absolute_percentage_error: 9.4144\n",
            "Epoch 22/200\n",
            "98/98 [==============================] - 1s 15ms/step - loss: 9.9683e-06 - mean_absolute_error: 0.0023 - mean_absolute_percentage_error: 556.5656 - val_loss: 0.0080 - val_mean_absolute_error: 0.0530 - val_mean_absolute_percentage_error: 8.2840\n",
            "Epoch 23/200\n",
            "98/98 [==============================] - 1s 15ms/step - loss: 1.3956e-05 - mean_absolute_error: 0.0028 - mean_absolute_percentage_error: 17.0716 - val_loss: 0.0085 - val_mean_absolute_error: 0.0554 - val_mean_absolute_percentage_error: 8.6943\n",
            "Epoch 24/200\n",
            "98/98 [==============================] - 2s 15ms/step - loss: 1.3738e-05 - mean_absolute_error: 0.0028 - mean_absolute_percentage_error: 1284.5387 - val_loss: 0.0088 - val_mean_absolute_error: 0.0566 - val_mean_absolute_percentage_error: 8.9014\n",
            "Epoch 25/200\n",
            "98/98 [==============================] - 1s 14ms/step - loss: 1.3442e-05 - mean_absolute_error: 0.0027 - mean_absolute_percentage_error: 1002.3423 - val_loss: 0.0092 - val_mean_absolute_error: 0.0596 - val_mean_absolute_percentage_error: 9.5451\n",
            "Epoch 26/200\n",
            "98/98 [==============================] - 1s 14ms/step - loss: 1.3636e-05 - mean_absolute_error: 0.0028 - mean_absolute_percentage_error: 966.1591 - val_loss: 0.0086 - val_mean_absolute_error: 0.0555 - val_mean_absolute_percentage_error: 8.6958\n",
            "Epoch 27/200\n",
            "98/98 [==============================] - 1s 14ms/step - loss: 1.1037e-05 - mean_absolute_error: 0.0025 - mean_absolute_percentage_error: 813.2980 - val_loss: 0.0100 - val_mean_absolute_error: 0.0626 - val_mean_absolute_percentage_error: 10.0126\n",
            "Epoch 28/200\n",
            "98/98 [==============================] - 1s 14ms/step - loss: 1.1868e-05 - mean_absolute_error: 0.0027 - mean_absolute_percentage_error: 35.9176 - val_loss: 0.0093 - val_mean_absolute_error: 0.0586 - val_mean_absolute_percentage_error: 9.2309\n",
            "Epoch 29/200\n",
            "98/98 [==============================] - 1s 14ms/step - loss: 1.3977e-05 - mean_absolute_error: 0.0029 - mean_absolute_percentage_error: 17.7733 - val_loss: 0.0104 - val_mean_absolute_error: 0.0652 - val_mean_absolute_percentage_error: 10.6021\n",
            "Epoch 30/200\n",
            "98/98 [==============================] - 1s 15ms/step - loss: 1.4178e-05 - mean_absolute_error: 0.0029 - mean_absolute_percentage_error: 17.8170 - val_loss: 0.0093 - val_mean_absolute_error: 0.0596 - val_mean_absolute_percentage_error: 9.4984\n",
            "Epoch 31/200\n",
            "98/98 [==============================] - 1s 14ms/step - loss: 1.0524e-05 - mean_absolute_error: 0.0025 - mean_absolute_percentage_error: 217.6004 - val_loss: 0.0087 - val_mean_absolute_error: 0.0562 - val_mean_absolute_percentage_error: 8.8276\n",
            "Epoch 32/200\n",
            "98/98 [==============================] - 1s 14ms/step - loss: 1.3714e-05 - mean_absolute_error: 0.0028 - mean_absolute_percentage_error: 16.4001 - val_loss: 0.0095 - val_mean_absolute_error: 0.0594 - val_mean_absolute_percentage_error: 9.3738\n",
            "Epoch 33/200\n",
            "98/98 [==============================] - 1s 15ms/step - loss: 1.0919e-05 - mean_absolute_error: 0.0025 - mean_absolute_percentage_error: 89.6311 - val_loss: 0.0088 - val_mean_absolute_error: 0.0564 - val_mean_absolute_percentage_error: 8.8381\n",
            "Epoch 34/200\n",
            "98/98 [==============================] - 1s 15ms/step - loss: 1.0486e-05 - mean_absolute_error: 0.0024 - mean_absolute_percentage_error: 654.6480 - val_loss: 0.0087 - val_mean_absolute_error: 0.0562 - val_mean_absolute_percentage_error: 8.8225\n",
            "Epoch 35/200\n",
            "98/98 [==============================] - 1s 15ms/step - loss: 1.1907e-05 - mean_absolute_error: 0.0026 - mean_absolute_percentage_error: 462.8802 - val_loss: 0.0092 - val_mean_absolute_error: 0.0594 - val_mean_absolute_percentage_error: 9.4635\n",
            "Epoch 36/200\n",
            "98/98 [==============================] - 2s 16ms/step - loss: 1.0663e-05 - mean_absolute_error: 0.0024 - mean_absolute_percentage_error: 17.6893 - val_loss: 0.0101 - val_mean_absolute_error: 0.0631 - val_mean_absolute_percentage_error: 10.1090\n",
            "Epoch 37/200\n",
            "98/98 [==============================] - 1s 15ms/step - loss: 1.0286e-05 - mean_absolute_error: 0.0024 - mean_absolute_percentage_error: 651.2991 - val_loss: 0.0089 - val_mean_absolute_error: 0.0569 - val_mean_absolute_percentage_error: 8.9301\n",
            "Epoch 38/200\n",
            "98/98 [==============================] - 1s 15ms/step - loss: 9.8059e-06 - mean_absolute_error: 0.0023 - mean_absolute_percentage_error: 479.0319 - val_loss: 0.0090 - val_mean_absolute_error: 0.0572 - val_mean_absolute_percentage_error: 8.9990\n",
            "Epoch 39/200\n",
            "98/98 [==============================] - 1s 15ms/step - loss: 1.2718e-05 - mean_absolute_error: 0.0027 - mean_absolute_percentage_error: 15.3904 - val_loss: 0.0099 - val_mean_absolute_error: 0.0618 - val_mean_absolute_percentage_error: 9.8221\n",
            "Epoch 40/200\n",
            "98/98 [==============================] - 1s 15ms/step - loss: 1.0562e-05 - mean_absolute_error: 0.0024 - mean_absolute_percentage_error: 1384.1576 - val_loss: 0.0091 - val_mean_absolute_error: 0.0575 - val_mean_absolute_percentage_error: 9.0287\n",
            "Epoch 41/200\n",
            "98/98 [==============================] - 1s 14ms/step - loss: 1.3376e-05 - mean_absolute_error: 0.0028 - mean_absolute_percentage_error: 1318.8516 - val_loss: 0.0098 - val_mean_absolute_error: 0.0613 - val_mean_absolute_percentage_error: 9.7373\n",
            "Epoch 42/200\n",
            "98/98 [==============================] - 1s 15ms/step - loss: 1.3441e-05 - mean_absolute_error: 0.0027 - mean_absolute_percentage_error: 19.1715 - val_loss: 0.0090 - val_mean_absolute_error: 0.0572 - val_mean_absolute_percentage_error: 8.9750\n",
            "Epoch 43/200\n",
            "98/98 [==============================] - 2s 15ms/step - loss: 1.2784e-05 - mean_absolute_error: 0.0027 - mean_absolute_percentage_error: 971.9529 - val_loss: 0.0093 - val_mean_absolute_error: 0.0595 - val_mean_absolute_percentage_error: 9.4724\n",
            "Epoch 44/200\n",
            "98/98 [==============================] - 1s 15ms/step - loss: 1.2003e-05 - mean_absolute_error: 0.0026 - mean_absolute_percentage_error: 993.2456 - val_loss: 0.0095 - val_mean_absolute_error: 0.0606 - val_mean_absolute_percentage_error: 9.6759\n",
            "Epoch 45/200\n",
            "98/98 [==============================] - 1s 14ms/step - loss: 1.1695e-05 - mean_absolute_error: 0.0026 - mean_absolute_percentage_error: 545.2550 - val_loss: 0.0091 - val_mean_absolute_error: 0.0577 - val_mean_absolute_percentage_error: 9.0758\n",
            "Epoch 46/200\n",
            "98/98 [==============================] - 1s 15ms/step - loss: 1.3433e-05 - mean_absolute_error: 0.0028 - mean_absolute_percentage_error: 327.2502 - val_loss: 0.0081 - val_mean_absolute_error: 0.0528 - val_mean_absolute_percentage_error: 8.2804\n",
            "Epoch 47/200\n",
            "98/98 [==============================] - 1s 15ms/step - loss: 1.1542e-05 - mean_absolute_error: 0.0025 - mean_absolute_percentage_error: 1115.5452 - val_loss: 0.0094 - val_mean_absolute_error: 0.0596 - val_mean_absolute_percentage_error: 9.4191\n",
            "Epoch 48/200\n",
            "98/98 [==============================] - 1s 14ms/step - loss: 9.4460e-06 - mean_absolute_error: 0.0023 - mean_absolute_percentage_error: 925.8207 - val_loss: 0.0089 - val_mean_absolute_error: 0.0570 - val_mean_absolute_percentage_error: 8.9499\n",
            "Epoch 49/200\n",
            "98/98 [==============================] - 1s 14ms/step - loss: 1.2105e-05 - mean_absolute_error: 0.0027 - mean_absolute_percentage_error: 950.2133 - val_loss: 0.0086 - val_mean_absolute_error: 0.0554 - val_mean_absolute_percentage_error: 8.8596\n",
            "Epoch 50/200\n",
            "98/98 [==============================] - 1s 15ms/step - loss: 1.1900e-05 - mean_absolute_error: 0.0026 - mean_absolute_percentage_error: 292.3503 - val_loss: 0.0094 - val_mean_absolute_error: 0.0595 - val_mean_absolute_percentage_error: 9.3845\n",
            "Epoch 51/200\n",
            "98/98 [==============================] - 1s 15ms/step - loss: 1.2106e-05 - mean_absolute_error: 0.0026 - mean_absolute_percentage_error: 681.4203 - val_loss: 0.0092 - val_mean_absolute_error: 0.0581 - val_mean_absolute_percentage_error: 9.1201\n",
            "Epoch 52/200\n",
            "98/98 [==============================] - 1s 15ms/step - loss: 1.5367e-05 - mean_absolute_error: 0.0030 - mean_absolute_percentage_error: 1840.4572 - val_loss: 0.0090 - val_mean_absolute_error: 0.0569 - val_mean_absolute_percentage_error: 8.9647\n",
            "Epoch 53/200\n",
            "98/98 [==============================] - 1s 14ms/step - loss: 1.2458e-05 - mean_absolute_error: 0.0027 - mean_absolute_percentage_error: 16.6175 - val_loss: 0.0098 - val_mean_absolute_error: 0.0611 - val_mean_absolute_percentage_error: 9.6931\n",
            "Epoch 54/200\n",
            "98/98 [==============================] - 1s 15ms/step - loss: 1.3866e-05 - mean_absolute_error: 0.0029 - mean_absolute_percentage_error: 16.2269 - val_loss: 0.0095 - val_mean_absolute_error: 0.0594 - val_mean_absolute_percentage_error: 9.3501\n",
            "Epoch 55/200\n",
            "98/98 [==============================] - 1s 14ms/step - loss: 1.0044e-05 - mean_absolute_error: 0.0024 - mean_absolute_percentage_error: 689.6207 - val_loss: 0.0089 - val_mean_absolute_error: 0.0566 - val_mean_absolute_percentage_error: 8.9446\n",
            "Epoch 56/200\n",
            "98/98 [==============================] - 1s 14ms/step - loss: 9.3457e-06 - mean_absolute_error: 0.0022 - mean_absolute_percentage_error: 216.1034 - val_loss: 0.0098 - val_mean_absolute_error: 0.0616 - val_mean_absolute_percentage_error: 9.7963\n",
            "Epoch 57/200\n",
            "98/98 [==============================] - 1s 15ms/step - loss: 1.2649e-05 - mean_absolute_error: 0.0027 - mean_absolute_percentage_error: 1052.8391 - val_loss: 0.0091 - val_mean_absolute_error: 0.0573 - val_mean_absolute_percentage_error: 8.9940\n",
            "Epoch 58/200\n",
            "98/98 [==============================] - 2s 15ms/step - loss: 1.2624e-05 - mean_absolute_error: 0.0027 - mean_absolute_percentage_error: 618.0331 - val_loss: 0.0088 - val_mean_absolute_error: 0.0559 - val_mean_absolute_percentage_error: 8.7312\n",
            "Epoch 59/200\n",
            "98/98 [==============================] - 1s 15ms/step - loss: 9.8999e-06 - mean_absolute_error: 0.0023 - mean_absolute_percentage_error: 830.1600 - val_loss: 0.0091 - val_mean_absolute_error: 0.0576 - val_mean_absolute_percentage_error: 9.0341\n",
            "Epoch 60/200\n",
            "98/98 [==============================] - 1s 15ms/step - loss: 9.6622e-06 - mean_absolute_error: 0.0023 - mean_absolute_percentage_error: 61.5427 - val_loss: 0.0091 - val_mean_absolute_error: 0.0579 - val_mean_absolute_percentage_error: 9.0823\n",
            "Epoch 61/200\n",
            "98/98 [==============================] - 1s 15ms/step - loss: 1.1494e-05 - mean_absolute_error: 0.0026 - mean_absolute_percentage_error: 434.8462 - val_loss: 0.0099 - val_mean_absolute_error: 0.0619 - val_mean_absolute_percentage_error: 9.8476\n",
            "Epoch 62/200\n",
            "98/98 [==============================] - 1s 14ms/step - loss: 9.9443e-06 - mean_absolute_error: 0.0023 - mean_absolute_percentage_error: 1242.8284 - val_loss: 0.0088 - val_mean_absolute_error: 0.0562 - val_mean_absolute_percentage_error: 8.8177\n",
            "Epoch 63/200\n",
            "98/98 [==============================] - 1s 14ms/step - loss: 9.3953e-06 - mean_absolute_error: 0.0023 - mean_absolute_percentage_error: 877.2058 - val_loss: 0.0091 - val_mean_absolute_error: 0.0580 - val_mean_absolute_percentage_error: 9.1221\n",
            "Epoch 64/200\n",
            "98/98 [==============================] - 1s 14ms/step - loss: 1.3017e-05 - mean_absolute_error: 0.0028 - mean_absolute_percentage_error: 17.6399 - val_loss: 0.0105 - val_mean_absolute_error: 0.0641 - val_mean_absolute_percentage_error: 10.2067\n",
            "Epoch 65/200\n",
            "98/98 [==============================] - 1s 15ms/step - loss: 1.0484e-05 - mean_absolute_error: 0.0024 - mean_absolute_percentage_error: 536.0445 - val_loss: 0.0084 - val_mean_absolute_error: 0.0545 - val_mean_absolute_percentage_error: 8.6376\n",
            "Epoch 66/200\n",
            "98/98 [==============================] - 1s 15ms/step - loss: 1.2834e-05 - mean_absolute_error: 0.0027 - mean_absolute_percentage_error: 17.9536 - val_loss: 0.0095 - val_mean_absolute_error: 0.0590 - val_mean_absolute_percentage_error: 9.2714\n",
            "Epoch 67/200\n",
            "98/98 [==============================] - 1s 15ms/step - loss: 9.7991e-06 - mean_absolute_error: 0.0023 - mean_absolute_percentage_error: 17.0497 - val_loss: 0.0095 - val_mean_absolute_error: 0.0592 - val_mean_absolute_percentage_error: 9.3066\n",
            "Epoch 68/200\n",
            "98/98 [==============================] - 1s 15ms/step - loss: 9.3488e-06 - mean_absolute_error: 0.0023 - mean_absolute_percentage_error: 828.2786 - val_loss: 0.0102 - val_mean_absolute_error: 0.0637 - val_mean_absolute_percentage_error: 10.2074\n",
            "Epoch 69/200\n",
            "98/98 [==============================] - 1s 15ms/step - loss: 1.1134e-05 - mean_absolute_error: 0.0024 - mean_absolute_percentage_error: 278.4613 - val_loss: 0.0091 - val_mean_absolute_error: 0.0576 - val_mean_absolute_percentage_error: 9.0482\n",
            "Epoch 70/200\n",
            "98/98 [==============================] - 1s 15ms/step - loss: 1.5866e-05 - mean_absolute_error: 0.0031 - mean_absolute_percentage_error: 558.7108 - val_loss: 0.0107 - val_mean_absolute_error: 0.0661 - val_mean_absolute_percentage_error: 10.6991\n",
            "Epoch 71/200\n",
            "98/98 [==============================] - 1s 15ms/step - loss: 9.8317e-06 - mean_absolute_error: 0.0023 - mean_absolute_percentage_error: 1893.4377 - val_loss: 0.0105 - val_mean_absolute_error: 0.0644 - val_mean_absolute_percentage_error: 10.2995\n",
            "Epoch 72/200\n",
            "98/98 [==============================] - 1s 15ms/step - loss: 1.1807e-05 - mean_absolute_error: 0.0026 - mean_absolute_percentage_error: 1529.4303 - val_loss: 0.0089 - val_mean_absolute_error: 0.0564 - val_mean_absolute_percentage_error: 8.8707\n",
            "Epoch 73/200\n",
            "98/98 [==============================] - 1s 14ms/step - loss: 9.3382e-06 - mean_absolute_error: 0.0023 - mean_absolute_percentage_error: 522.9754 - val_loss: 0.0099 - val_mean_absolute_error: 0.0617 - val_mean_absolute_percentage_error: 9.7639\n",
            "Epoch 74/200\n",
            "98/98 [==============================] - 1s 14ms/step - loss: 1.1499e-05 - mean_absolute_error: 0.0025 - mean_absolute_percentage_error: 115.8583 - val_loss: 0.0104 - val_mean_absolute_error: 0.0635 - val_mean_absolute_percentage_error: 10.0669\n",
            "Epoch 75/200\n",
            "98/98 [==============================] - 1s 15ms/step - loss: 1.2417e-05 - mean_absolute_error: 0.0027 - mean_absolute_percentage_error: 674.7832 - val_loss: 0.0104 - val_mean_absolute_error: 0.0636 - val_mean_absolute_percentage_error: 10.1284\n",
            "Epoch 76/200\n",
            "98/98 [==============================] - 1s 14ms/step - loss: 1.0032e-05 - mean_absolute_error: 0.0024 - mean_absolute_percentage_error: 1058.4597 - val_loss: 0.0097 - val_mean_absolute_error: 0.0613 - val_mean_absolute_percentage_error: 9.7402\n",
            "Epoch 77/200\n",
            "98/98 [==============================] - 2s 15ms/step - loss: 1.1685e-05 - mean_absolute_error: 0.0026 - mean_absolute_percentage_error: 881.7934 - val_loss: 0.0100 - val_mean_absolute_error: 0.0621 - val_mean_absolute_percentage_error: 9.8334\n",
            "Epoch 78/200\n",
            "98/98 [==============================] - 2s 15ms/step - loss: 1.3186e-05 - mean_absolute_error: 0.0028 - mean_absolute_percentage_error: 394.6594 - val_loss: 0.0120 - val_mean_absolute_error: 0.0726 - val_mean_absolute_percentage_error: 12.0410\n",
            "Epoch 79/200\n",
            "98/98 [==============================] - 1s 15ms/step - loss: 1.5456e-05 - mean_absolute_error: 0.0030 - mean_absolute_percentage_error: 1867.7463 - val_loss: 0.0104 - val_mean_absolute_error: 0.0638 - val_mean_absolute_percentage_error: 10.1438\n",
            "Epoch 80/200\n",
            "98/98 [==============================] - 2s 15ms/step - loss: 1.0452e-05 - mean_absolute_error: 0.0024 - mean_absolute_percentage_error: 795.2369 - val_loss: 0.0086 - val_mean_absolute_error: 0.0552 - val_mean_absolute_percentage_error: 8.8157\n",
            "Epoch 81/200\n",
            "98/98 [==============================] - 1s 15ms/step - loss: 1.2384e-05 - mean_absolute_error: 0.0027 - mean_absolute_percentage_error: 2066.0813 - val_loss: 0.0094 - val_mean_absolute_error: 0.0589 - val_mean_absolute_percentage_error: 9.2457\n",
            "Epoch 82/200\n",
            "98/98 [==============================] - 1s 15ms/step - loss: 1.0650e-05 - mean_absolute_error: 0.0025 - mean_absolute_percentage_error: 735.0997 - val_loss: 0.0113 - val_mean_absolute_error: 0.0686 - val_mean_absolute_percentage_error: 11.1545\n",
            "Epoch 83/200\n",
            "98/98 [==============================] - 1s 14ms/step - loss: 1.1371e-05 - mean_absolute_error: 0.0026 - mean_absolute_percentage_error: 937.7339 - val_loss: 0.0097 - val_mean_absolute_error: 0.0607 - val_mean_absolute_percentage_error: 9.5657\n",
            "Epoch 84/200\n",
            "98/98 [==============================] - 1s 15ms/step - loss: 1.1140e-05 - mean_absolute_error: 0.0025 - mean_absolute_percentage_error: 1503.8215 - val_loss: 0.0097 - val_mean_absolute_error: 0.0605 - val_mean_absolute_percentage_error: 9.5648\n",
            "Epoch 85/200\n",
            "98/98 [==============================] - 1s 14ms/step - loss: 9.9675e-06 - mean_absolute_error: 0.0024 - mean_absolute_percentage_error: 1152.4779 - val_loss: 0.0101 - val_mean_absolute_error: 0.0626 - val_mean_absolute_percentage_error: 9.9433\n",
            "Epoch 86/200\n",
            "98/98 [==============================] - 1s 15ms/step - loss: 1.1640e-05 - mean_absolute_error: 0.0026 - mean_absolute_percentage_error: 1589.7621 - val_loss: 0.0092 - val_mean_absolute_error: 0.0579 - val_mean_absolute_percentage_error: 9.0965\n",
            "Epoch 87/200\n",
            "98/98 [==============================] - 2s 16ms/step - loss: 1.1308e-05 - mean_absolute_error: 0.0025 - mean_absolute_percentage_error: 126.4207 - val_loss: 0.0096 - val_mean_absolute_error: 0.0598 - val_mean_absolute_percentage_error: 9.4192\n",
            "Epoch 88/200\n",
            "98/98 [==============================] - 1s 15ms/step - loss: 1.1285e-05 - mean_absolute_error: 0.0025 - mean_absolute_percentage_error: 1298.7158 - val_loss: 0.0101 - val_mean_absolute_error: 0.0628 - val_mean_absolute_percentage_error: 9.9881\n",
            "Epoch 89/200\n",
            "98/98 [==============================] - 1s 15ms/step - loss: 1.1744e-05 - mean_absolute_error: 0.0026 - mean_absolute_percentage_error: 316.7882 - val_loss: 0.0097 - val_mean_absolute_error: 0.0611 - val_mean_absolute_percentage_error: 9.7152\n",
            "Epoch 90/200\n",
            "98/98 [==============================] - 1s 15ms/step - loss: 1.2003e-05 - mean_absolute_error: 0.0026 - mean_absolute_percentage_error: 129.0027 - val_loss: 0.0099 - val_mean_absolute_error: 0.0614 - val_mean_absolute_percentage_error: 9.7052\n",
            "Epoch 91/200\n",
            "98/98 [==============================] - 1s 15ms/step - loss: 1.1788e-05 - mean_absolute_error: 0.0026 - mean_absolute_percentage_error: 591.1546 - val_loss: 0.0091 - val_mean_absolute_error: 0.0572 - val_mean_absolute_percentage_error: 9.0164\n",
            "Epoch 92/200\n",
            "98/98 [==============================] - 1s 15ms/step - loss: 1.0896e-05 - mean_absolute_error: 0.0025 - mean_absolute_percentage_error: 18.5065 - val_loss: 0.0098 - val_mean_absolute_error: 0.0614 - val_mean_absolute_percentage_error: 9.7133\n",
            "Epoch 93/200\n",
            "98/98 [==============================] - 1s 15ms/step - loss: 9.7068e-06 - mean_absolute_error: 0.0023 - mean_absolute_percentage_error: 736.0462 - val_loss: 0.0093 - val_mean_absolute_error: 0.0586 - val_mean_absolute_percentage_error: 9.1994\n",
            "Epoch 94/200\n",
            "98/98 [==============================] - 1s 15ms/step - loss: 9.4332e-06 - mean_absolute_error: 0.0022 - mean_absolute_percentage_error: 77.2185 - val_loss: 0.0100 - val_mean_absolute_error: 0.0618 - val_mean_absolute_percentage_error: 9.7587\n",
            "Epoch 95/200\n",
            "98/98 [==============================] - 1s 15ms/step - loss: 1.1727e-05 - mean_absolute_error: 0.0026 - mean_absolute_percentage_error: 277.6089 - val_loss: 0.0090 - val_mean_absolute_error: 0.0568 - val_mean_absolute_percentage_error: 8.9027\n",
            "Epoch 96/200\n",
            "98/98 [==============================] - 2s 15ms/step - loss: 9.7616e-06 - mean_absolute_error: 0.0024 - mean_absolute_percentage_error: 674.1717 - val_loss: 0.0107 - val_mean_absolute_error: 0.0655 - val_mean_absolute_percentage_error: 10.5248\n",
            "Epoch 97/200\n",
            "98/98 [==============================] - 1s 15ms/step - loss: 1.1488e-05 - mean_absolute_error: 0.0026 - mean_absolute_percentage_error: 313.7819 - val_loss: 0.0102 - val_mean_absolute_error: 0.0625 - val_mean_absolute_percentage_error: 9.8683\n",
            "Epoch 98/200\n",
            "98/98 [==============================] - 2s 16ms/step - loss: 9.5301e-06 - mean_absolute_error: 0.0023 - mean_absolute_percentage_error: 1067.4950 - val_loss: 0.0086 - val_mean_absolute_error: 0.0551 - val_mean_absolute_percentage_error: 8.6720\n",
            "Epoch 99/200\n",
            "98/98 [==============================] - 1s 15ms/step - loss: 1.0351e-05 - mean_absolute_error: 0.0024 - mean_absolute_percentage_error: 1271.6575 - val_loss: 0.0092 - val_mean_absolute_error: 0.0579 - val_mean_absolute_percentage_error: 9.0873\n",
            "Epoch 100/200\n",
            "98/98 [==============================] - 1s 15ms/step - loss: 9.8917e-06 - mean_absolute_error: 0.0023 - mean_absolute_percentage_error: 679.0770 - val_loss: 0.0099 - val_mean_absolute_error: 0.0621 - val_mean_absolute_percentage_error: 9.8937\n",
            "Epoch 101/200\n",
            "98/98 [==============================] - 1s 14ms/step - loss: 1.4645e-05 - mean_absolute_error: 0.0030 - mean_absolute_percentage_error: 838.0273 - val_loss: 0.0107 - val_mean_absolute_error: 0.0660 - val_mean_absolute_percentage_error: 10.6279\n",
            "Epoch 102/200\n",
            "98/98 [==============================] - 1s 14ms/step - loss: 1.0774e-05 - mean_absolute_error: 0.0025 - mean_absolute_percentage_error: 2255.4446 - val_loss: 0.0099 - val_mean_absolute_error: 0.0611 - val_mean_absolute_percentage_error: 9.6278\n",
            "Epoch 103/200\n",
            "98/98 [==============================] - 1s 15ms/step - loss: 1.0517e-05 - mean_absolute_error: 0.0024 - mean_absolute_percentage_error: 1258.9520 - val_loss: 0.0096 - val_mean_absolute_error: 0.0596 - val_mean_absolute_percentage_error: 9.3547\n",
            "Epoch 104/200\n",
            "98/98 [==============================] - 1s 15ms/step - loss: 1.0576e-05 - mean_absolute_error: 0.0024 - mean_absolute_percentage_error: 106.0190 - val_loss: 0.0094 - val_mean_absolute_error: 0.0585 - val_mean_absolute_percentage_error: 9.1634\n",
            "Epoch 105/200\n",
            "98/98 [==============================] - 2s 17ms/step - loss: 1.0864e-05 - mean_absolute_error: 0.0025 - mean_absolute_percentage_error: 1328.0684 - val_loss: 0.0101 - val_mean_absolute_error: 0.0617 - val_mean_absolute_percentage_error: 9.7081\n",
            "Epoch 106/200\n",
            "98/98 [==============================] - 1s 15ms/step - loss: 1.0860e-05 - mean_absolute_error: 0.0024 - mean_absolute_percentage_error: 1433.1730 - val_loss: 0.0109 - val_mean_absolute_error: 0.0663 - val_mean_absolute_percentage_error: 10.6337\n",
            "Epoch 107/200\n",
            "98/98 [==============================] - 1s 15ms/step - loss: 9.6424e-06 - mean_absolute_error: 0.0023 - mean_absolute_percentage_error: 1507.1017 - val_loss: 0.0094 - val_mean_absolute_error: 0.0588 - val_mean_absolute_percentage_error: 9.2119\n",
            "Epoch 108/200\n",
            "98/98 [==============================] - 1s 14ms/step - loss: 9.6870e-06 - mean_absolute_error: 0.0024 - mean_absolute_percentage_error: 938.8683 - val_loss: 0.0102 - val_mean_absolute_error: 0.0624 - val_mean_absolute_percentage_error: 9.8698\n",
            "Epoch 109/200\n",
            "98/98 [==============================] - 1s 15ms/step - loss: 1.0540e-05 - mean_absolute_error: 0.0025 - mean_absolute_percentage_error: 264.0840 - val_loss: 0.0103 - val_mean_absolute_error: 0.0636 - val_mean_absolute_percentage_error: 10.1499\n",
            "Epoch 110/200\n",
            "98/98 [==============================] - 1s 15ms/step - loss: 1.1805e-05 - mean_absolute_error: 0.0026 - mean_absolute_percentage_error: 625.5922 - val_loss: 0.0104 - val_mean_absolute_error: 0.0639 - val_mean_absolute_percentage_error: 10.1694\n",
            "Epoch 111/200\n",
            "98/98 [==============================] - 1s 15ms/step - loss: 1.1156e-05 - mean_absolute_error: 0.0025 - mean_absolute_percentage_error: 567.7267 - val_loss: 0.0107 - val_mean_absolute_error: 0.0648 - val_mean_absolute_percentage_error: 10.3207\n",
            "Epoch 112/200\n",
            "98/98 [==============================] - 1s 15ms/step - loss: 1.2534e-05 - mean_absolute_error: 0.0027 - mean_absolute_percentage_error: 14.9484 - val_loss: 0.0100 - val_mean_absolute_error: 0.0620 - val_mean_absolute_percentage_error: 9.8167\n",
            "Epoch 113/200\n",
            "98/98 [==============================] - 1s 15ms/step - loss: 1.1036e-05 - mean_absolute_error: 0.0025 - mean_absolute_percentage_error: 49.3435 - val_loss: 0.0095 - val_mean_absolute_error: 0.0591 - val_mean_absolute_percentage_error: 9.2657\n",
            "Epoch 114/200\n",
            "98/98 [==============================] - 1s 15ms/step - loss: 1.2481e-05 - mean_absolute_error: 0.0027 - mean_absolute_percentage_error: 1543.0076 - val_loss: 0.0102 - val_mean_absolute_error: 0.0620 - val_mean_absolute_percentage_error: 9.7515\n",
            "Epoch 115/200\n",
            "98/98 [==============================] - 1s 15ms/step - loss: 1.0311e-05 - mean_absolute_error: 0.0025 - mean_absolute_percentage_error: 619.3058 - val_loss: 0.0104 - val_mean_absolute_error: 0.0637 - val_mean_absolute_percentage_error: 10.1372\n",
            "Epoch 116/200\n",
            "98/98 [==============================] - 2s 15ms/step - loss: 9.9482e-06 - mean_absolute_error: 0.0024 - mean_absolute_percentage_error: 1423.5952 - val_loss: 0.0093 - val_mean_absolute_error: 0.0581 - val_mean_absolute_percentage_error: 9.1227\n",
            "Epoch 117/200\n",
            "98/98 [==============================] - 1s 15ms/step - loss: 1.0905e-05 - mean_absolute_error: 0.0025 - mean_absolute_percentage_error: 547.9606 - val_loss: 0.0106 - val_mean_absolute_error: 0.0647 - val_mean_absolute_percentage_error: 10.3048\n",
            "Epoch 118/200\n",
            "98/98 [==============================] - 1s 15ms/step - loss: 1.4440e-05 - mean_absolute_error: 0.0029 - mean_absolute_percentage_error: 17.6337 - val_loss: 0.0102 - val_mean_absolute_error: 0.0627 - val_mean_absolute_percentage_error: 9.9261\n",
            "Epoch 119/200\n",
            "98/98 [==============================] - 2s 16ms/step - loss: 9.9236e-06 - mean_absolute_error: 0.0024 - mean_absolute_percentage_error: 202.0638 - val_loss: 0.0108 - val_mean_absolute_error: 0.0655 - val_mean_absolute_percentage_error: 10.4607\n",
            "Epoch 120/200\n",
            "98/98 [==============================] - 1s 15ms/step - loss: 1.0648e-05 - mean_absolute_error: 0.0024 - mean_absolute_percentage_error: 747.3608 - val_loss: 0.0104 - val_mean_absolute_error: 0.0633 - val_mean_absolute_percentage_error: 10.0312\n",
            "Epoch 121/200\n",
            "98/98 [==============================] - 1s 15ms/step - loss: 1.1077e-05 - mean_absolute_error: 0.0025 - mean_absolute_percentage_error: 512.4117 - val_loss: 0.0094 - val_mean_absolute_error: 0.0589 - val_mean_absolute_percentage_error: 9.2330\n",
            "Epoch 122/200\n",
            "98/98 [==============================] - 2s 16ms/step - loss: 1.0498e-05 - mean_absolute_error: 0.0024 - mean_absolute_percentage_error: 1185.7595 - val_loss: 0.0103 - val_mean_absolute_error: 0.0643 - val_mean_absolute_percentage_error: 10.3199\n",
            "Epoch 123/200\n",
            "98/98 [==============================] - 1s 15ms/step - loss: 1.0975e-05 - mean_absolute_error: 0.0025 - mean_absolute_percentage_error: 1375.0651 - val_loss: 0.0098 - val_mean_absolute_error: 0.0604 - val_mean_absolute_percentage_error: 9.4791\n",
            "Epoch 124/200\n",
            "98/98 [==============================] - 2s 15ms/step - loss: 1.2233e-05 - mean_absolute_error: 0.0027 - mean_absolute_percentage_error: 692.6840 - val_loss: 0.0110 - val_mean_absolute_error: 0.0656 - val_mean_absolute_percentage_error: 10.4051\n",
            "Epoch 125/200\n",
            "98/98 [==============================] - 1s 15ms/step - loss: 1.2154e-05 - mean_absolute_error: 0.0026 - mean_absolute_percentage_error: 481.9953 - val_loss: 0.0102 - val_mean_absolute_error: 0.0626 - val_mean_absolute_percentage_error: 9.9048\n",
            "Epoch 126/200\n",
            "98/98 [==============================] - 1s 15ms/step - loss: 1.1725e-05 - mean_absolute_error: 0.0026 - mean_absolute_percentage_error: 110.6982 - val_loss: 0.0108 - val_mean_absolute_error: 0.0652 - val_mean_absolute_percentage_error: 10.3864\n",
            "Epoch 127/200\n",
            "98/98 [==============================] - 2s 15ms/step - loss: 1.2462e-05 - mean_absolute_error: 0.0027 - mean_absolute_percentage_error: 513.8323 - val_loss: 0.0098 - val_mean_absolute_error: 0.0604 - val_mean_absolute_percentage_error: 9.5757\n",
            "Epoch 128/200\n",
            "98/98 [==============================] - 1s 15ms/step - loss: 1.1898e-05 - mean_absolute_error: 0.0026 - mean_absolute_percentage_error: 15.9915 - val_loss: 0.0105 - val_mean_absolute_error: 0.0629 - val_mean_absolute_percentage_error: 9.9076\n",
            "Epoch 129/200\n",
            "98/98 [==============================] - 2s 15ms/step - loss: 1.1942e-05 - mean_absolute_error: 0.0026 - mean_absolute_percentage_error: 18.2612 - val_loss: 0.0113 - val_mean_absolute_error: 0.0674 - val_mean_absolute_percentage_error: 10.7860\n",
            "Epoch 130/200\n",
            "98/98 [==============================] - 1s 15ms/step - loss: 1.0592e-05 - mean_absolute_error: 0.0024 - mean_absolute_percentage_error: 1397.3590 - val_loss: 0.0109 - val_mean_absolute_error: 0.0652 - val_mean_absolute_percentage_error: 10.3311\n",
            "Epoch 131/200\n",
            "98/98 [==============================] - 2s 15ms/step - loss: 1.1273e-05 - mean_absolute_error: 0.0026 - mean_absolute_percentage_error: 18.3980 - val_loss: 0.0093 - val_mean_absolute_error: 0.0580 - val_mean_absolute_percentage_error: 9.1208\n",
            "Epoch 132/200\n",
            "98/98 [==============================] - 1s 15ms/step - loss: 1.0613e-05 - mean_absolute_error: 0.0025 - mean_absolute_percentage_error: 1403.2500 - val_loss: 0.0104 - val_mean_absolute_error: 0.0638 - val_mean_absolute_percentage_error: 10.1631\n",
            "Epoch 133/200\n",
            "98/98 [==============================] - 2s 16ms/step - loss: 1.0637e-05 - mean_absolute_error: 0.0025 - mean_absolute_percentage_error: 1615.5144 - val_loss: 0.0102 - val_mean_absolute_error: 0.0625 - val_mean_absolute_percentage_error: 9.9057\n",
            "Epoch 134/200\n",
            "98/98 [==============================] - 1s 15ms/step - loss: 9.6571e-06 - mean_absolute_error: 0.0023 - mean_absolute_percentage_error: 748.8637 - val_loss: 0.0105 - val_mean_absolute_error: 0.0638 - val_mean_absolute_percentage_error: 10.1214\n",
            "Epoch 135/200\n",
            "98/98 [==============================] - 1s 15ms/step - loss: 8.8929e-06 - mean_absolute_error: 0.0022 - mean_absolute_percentage_error: 445.7495 - val_loss: 0.0098 - val_mean_absolute_error: 0.0600 - val_mean_absolute_percentage_error: 9.4404\n",
            "Epoch 136/200\n",
            "98/98 [==============================] - 1s 15ms/step - loss: 8.9972e-06 - mean_absolute_error: 0.0022 - mean_absolute_percentage_error: 287.4078 - val_loss: 0.0100 - val_mean_absolute_error: 0.0612 - val_mean_absolute_percentage_error: 9.6578\n",
            "Epoch 137/200\n",
            "98/98 [==============================] - 2s 15ms/step - loss: 1.2691e-05 - mean_absolute_error: 0.0027 - mean_absolute_percentage_error: 246.7328 - val_loss: 0.0100 - val_mean_absolute_error: 0.0611 - val_mean_absolute_percentage_error: 9.6126\n",
            "Epoch 138/200\n",
            "98/98 [==============================] - 1s 15ms/step - loss: 1.1480e-05 - mean_absolute_error: 0.0025 - mean_absolute_percentage_error: 425.9701 - val_loss: 0.0106 - val_mean_absolute_error: 0.0644 - val_mean_absolute_percentage_error: 10.2304\n",
            "Epoch 139/200\n",
            "98/98 [==============================] - 2s 16ms/step - loss: 9.8740e-06 - mean_absolute_error: 0.0024 - mean_absolute_percentage_error: 1245.2335 - val_loss: 0.0112 - val_mean_absolute_error: 0.0664 - val_mean_absolute_percentage_error: 10.5522\n",
            "Epoch 140/200\n",
            "98/98 [==============================] - 1s 15ms/step - loss: 1.0259e-05 - mean_absolute_error: 0.0024 - mean_absolute_percentage_error: 959.5823 - val_loss: 0.0107 - val_mean_absolute_error: 0.0645 - val_mean_absolute_percentage_error: 10.2236\n",
            "Epoch 141/200\n",
            "98/98 [==============================] - 2s 15ms/step - loss: 8.9926e-06 - mean_absolute_error: 0.0022 - mean_absolute_percentage_error: 13.8778 - val_loss: 0.0099 - val_mean_absolute_error: 0.0607 - val_mean_absolute_percentage_error: 9.5125\n",
            "Epoch 142/200\n",
            "98/98 [==============================] - 2s 16ms/step - loss: 1.0272e-05 - mean_absolute_error: 0.0024 - mean_absolute_percentage_error: 462.2369 - val_loss: 0.0097 - val_mean_absolute_error: 0.0600 - val_mean_absolute_percentage_error: 9.4167\n",
            "Epoch 143/200\n",
            "98/98 [==============================] - 1s 15ms/step - loss: 9.7812e-06 - mean_absolute_error: 0.0024 - mean_absolute_percentage_error: 271.0331 - val_loss: 0.0104 - val_mean_absolute_error: 0.0640 - val_mean_absolute_percentage_error: 10.2017\n",
            "Epoch 144/200\n",
            "98/98 [==============================] - 2s 15ms/step - loss: 1.0336e-05 - mean_absolute_error: 0.0024 - mean_absolute_percentage_error: 16.0676 - val_loss: 0.0105 - val_mean_absolute_error: 0.0638 - val_mean_absolute_percentage_error: 10.1194\n",
            "Epoch 145/200\n",
            "98/98 [==============================] - 1s 15ms/step - loss: 9.4761e-06 - mean_absolute_error: 0.0023 - mean_absolute_percentage_error: 14.7618 - val_loss: 0.0094 - val_mean_absolute_error: 0.0587 - val_mean_absolute_percentage_error: 9.1807\n",
            "Epoch 146/200\n",
            "98/98 [==============================] - 1s 15ms/step - loss: 9.7071e-06 - mean_absolute_error: 0.0023 - mean_absolute_percentage_error: 1161.0471 - val_loss: 0.0104 - val_mean_absolute_error: 0.0639 - val_mean_absolute_percentage_error: 10.1527\n",
            "Epoch 147/200\n",
            "98/98 [==============================] - 2s 15ms/step - loss: 1.2270e-05 - mean_absolute_error: 0.0027 - mean_absolute_percentage_error: 17.3325 - val_loss: 0.0097 - val_mean_absolute_error: 0.0596 - val_mean_absolute_percentage_error: 9.3712\n",
            "Epoch 148/200\n",
            "98/98 [==============================] - 1s 15ms/step - loss: 1.0532e-05 - mean_absolute_error: 0.0024 - mean_absolute_percentage_error: 15.2509 - val_loss: 0.0103 - val_mean_absolute_error: 0.0626 - val_mean_absolute_percentage_error: 9.8631\n",
            "Epoch 149/200\n",
            "98/98 [==============================] - 2s 16ms/step - loss: 1.1896e-05 - mean_absolute_error: 0.0026 - mean_absolute_percentage_error: 744.0947 - val_loss: 0.0097 - val_mean_absolute_error: 0.0596 - val_mean_absolute_percentage_error: 9.3915\n",
            "Epoch 150/200\n",
            "98/98 [==============================] - 2s 16ms/step - loss: 1.0624e-05 - mean_absolute_error: 0.0024 - mean_absolute_percentage_error: 561.0348 - val_loss: 0.0092 - val_mean_absolute_error: 0.0577 - val_mean_absolute_percentage_error: 9.0086\n",
            "Epoch 151/200\n",
            "98/98 [==============================] - 2s 16ms/step - loss: 9.0085e-06 - mean_absolute_error: 0.0022 - mean_absolute_percentage_error: 1359.2455 - val_loss: 0.0092 - val_mean_absolute_error: 0.0577 - val_mean_absolute_percentage_error: 9.0692\n",
            "Epoch 152/200\n",
            "98/98 [==============================] - 2s 16ms/step - loss: 8.9706e-06 - mean_absolute_error: 0.0023 - mean_absolute_percentage_error: 16.0842 - val_loss: 0.0092 - val_mean_absolute_error: 0.0574 - val_mean_absolute_percentage_error: 8.9599\n",
            "Epoch 153/200\n",
            "98/98 [==============================] - 1s 15ms/step - loss: 9.2419e-06 - mean_absolute_error: 0.0022 - mean_absolute_percentage_error: 236.4360 - val_loss: 0.0101 - val_mean_absolute_error: 0.0621 - val_mean_absolute_percentage_error: 9.7891\n",
            "Epoch 154/200\n",
            "98/98 [==============================] - 2s 15ms/step - loss: 1.3023e-05 - mean_absolute_error: 0.0028 - mean_absolute_percentage_error: 664.7144 - val_loss: 0.0112 - val_mean_absolute_error: 0.0691 - val_mean_absolute_percentage_error: 11.3222\n",
            "Epoch 155/200\n",
            "98/98 [==============================] - 1s 15ms/step - loss: 1.0705e-05 - mean_absolute_error: 0.0024 - mean_absolute_percentage_error: 15.7107 - val_loss: 0.0097 - val_mean_absolute_error: 0.0598 - val_mean_absolute_percentage_error: 9.3666\n",
            "Epoch 156/200\n",
            "98/98 [==============================] - 2s 15ms/step - loss: 8.8625e-06 - mean_absolute_error: 0.0022 - mean_absolute_percentage_error: 558.0977 - val_loss: 0.0098 - val_mean_absolute_error: 0.0603 - val_mean_absolute_percentage_error: 9.4681\n",
            "Epoch 157/200\n",
            "98/98 [==============================] - 2s 15ms/step - loss: 1.0374e-05 - mean_absolute_error: 0.0024 - mean_absolute_percentage_error: 594.2567 - val_loss: 0.0092 - val_mean_absolute_error: 0.0575 - val_mean_absolute_percentage_error: 9.0386\n",
            "Epoch 158/200\n",
            "98/98 [==============================] - 2s 18ms/step - loss: 1.2383e-05 - mean_absolute_error: 0.0027 - mean_absolute_percentage_error: 246.4700 - val_loss: 0.0100 - val_mean_absolute_error: 0.0611 - val_mean_absolute_percentage_error: 9.5889\n",
            "Epoch 159/200\n",
            "98/98 [==============================] - 2s 15ms/step - loss: 1.1372e-05 - mean_absolute_error: 0.0026 - mean_absolute_percentage_error: 1916.0853 - val_loss: 0.0104 - val_mean_absolute_error: 0.0630 - val_mean_absolute_percentage_error: 9.9161\n",
            "Epoch 160/200\n",
            "98/98 [==============================] - 2s 15ms/step - loss: 1.3095e-05 - mean_absolute_error: 0.0027 - mean_absolute_percentage_error: 1008.8101 - val_loss: 0.0098 - val_mean_absolute_error: 0.0602 - val_mean_absolute_percentage_error: 9.4357\n",
            "Epoch 161/200\n",
            "98/98 [==============================] - 2s 16ms/step - loss: 1.2571e-05 - mean_absolute_error: 0.0027 - mean_absolute_percentage_error: 16.4573 - val_loss: 0.0099 - val_mean_absolute_error: 0.0615 - val_mean_absolute_percentage_error: 9.7091\n",
            "Epoch 162/200\n",
            "98/98 [==============================] - 2s 15ms/step - loss: 1.1695e-05 - mean_absolute_error: 0.0026 - mean_absolute_percentage_error: 596.9153 - val_loss: 0.0100 - val_mean_absolute_error: 0.0611 - val_mean_absolute_percentage_error: 9.5942\n",
            "Epoch 163/200\n",
            "98/98 [==============================] - 2s 15ms/step - loss: 8.6946e-06 - mean_absolute_error: 0.0022 - mean_absolute_percentage_error: 152.4311 - val_loss: 0.0103 - val_mean_absolute_error: 0.0629 - val_mean_absolute_percentage_error: 9.9414\n",
            "Epoch 164/200\n",
            "98/98 [==============================] - 2s 15ms/step - loss: 9.1985e-06 - mean_absolute_error: 0.0022 - mean_absolute_percentage_error: 798.6957 - val_loss: 0.0102 - val_mean_absolute_error: 0.0618 - val_mean_absolute_percentage_error: 9.7185\n",
            "Epoch 165/200\n",
            "98/98 [==============================] - 2s 16ms/step - loss: 1.0352e-05 - mean_absolute_error: 0.0024 - mean_absolute_percentage_error: 102.3451 - val_loss: 0.0092 - val_mean_absolute_error: 0.0576 - val_mean_absolute_percentage_error: 9.0589\n",
            "Epoch 166/200\n",
            "98/98 [==============================] - 2s 15ms/step - loss: 1.0229e-05 - mean_absolute_error: 0.0024 - mean_absolute_percentage_error: 594.2995 - val_loss: 0.0097 - val_mean_absolute_error: 0.0597 - val_mean_absolute_percentage_error: 9.3373\n",
            "Epoch 167/200\n",
            "98/98 [==============================] - 2s 16ms/step - loss: 1.1637e-05 - mean_absolute_error: 0.0026 - mean_absolute_percentage_error: 16.3227 - val_loss: 0.0111 - val_mean_absolute_error: 0.0665 - val_mean_absolute_percentage_error: 10.6058\n",
            "Epoch 168/200\n",
            "98/98 [==============================] - 2s 16ms/step - loss: 9.8226e-06 - mean_absolute_error: 0.0024 - mean_absolute_percentage_error: 14.7132 - val_loss: 0.0108 - val_mean_absolute_error: 0.0647 - val_mean_absolute_percentage_error: 10.2283\n",
            "Epoch 169/200\n",
            "98/98 [==============================] - 2s 16ms/step - loss: 8.4620e-06 - mean_absolute_error: 0.0021 - mean_absolute_percentage_error: 12.5344 - val_loss: 0.0102 - val_mean_absolute_error: 0.0627 - val_mean_absolute_percentage_error: 9.9368\n",
            "Epoch 170/200\n",
            "98/98 [==============================] - 2s 16ms/step - loss: 1.0010e-05 - mean_absolute_error: 0.0024 - mean_absolute_percentage_error: 483.6067 - val_loss: 0.0105 - val_mean_absolute_error: 0.0629 - val_mean_absolute_percentage_error: 9.8835\n",
            "Epoch 171/200\n",
            "98/98 [==============================] - 2s 16ms/step - loss: 1.0068e-05 - mean_absolute_error: 0.0024 - mean_absolute_percentage_error: 947.0977 - val_loss: 0.0115 - val_mean_absolute_error: 0.0705 - val_mean_absolute_percentage_error: 11.5963\n",
            "Epoch 172/200\n",
            "98/98 [==============================] - 2s 15ms/step - loss: 1.1278e-05 - mean_absolute_error: 0.0025 - mean_absolute_percentage_error: 1380.3778 - val_loss: 0.0103 - val_mean_absolute_error: 0.0624 - val_mean_absolute_percentage_error: 9.8252\n",
            "Epoch 173/200\n",
            "98/98 [==============================] - 2s 16ms/step - loss: 9.7024e-06 - mean_absolute_error: 0.0023 - mean_absolute_percentage_error: 858.6519 - val_loss: 0.0100 - val_mean_absolute_error: 0.0617 - val_mean_absolute_percentage_error: 9.7209\n",
            "Epoch 174/200\n",
            "98/98 [==============================] - 1s 15ms/step - loss: 9.6633e-06 - mean_absolute_error: 0.0023 - mean_absolute_percentage_error: 899.6110 - val_loss: 0.0105 - val_mean_absolute_error: 0.0641 - val_mean_absolute_percentage_error: 10.1724\n",
            "Epoch 175/200\n",
            "98/98 [==============================] - 2s 16ms/step - loss: 9.8859e-06 - mean_absolute_error: 0.0024 - mean_absolute_percentage_error: 307.9440 - val_loss: 0.0107 - val_mean_absolute_error: 0.0643 - val_mean_absolute_percentage_error: 10.1727\n",
            "Epoch 176/200\n",
            "98/98 [==============================] - 2s 16ms/step - loss: 9.1482e-06 - mean_absolute_error: 0.0022 - mean_absolute_percentage_error: 1092.0543 - val_loss: 0.0106 - val_mean_absolute_error: 0.0642 - val_mean_absolute_percentage_error: 10.1622\n",
            "Epoch 177/200\n",
            "98/98 [==============================] - 2s 16ms/step - loss: 8.6032e-06 - mean_absolute_error: 0.0022 - mean_absolute_percentage_error: 284.3730 - val_loss: 0.0094 - val_mean_absolute_error: 0.0584 - val_mean_absolute_percentage_error: 9.1576\n",
            "Epoch 178/200\n",
            "98/98 [==============================] - 2s 16ms/step - loss: 9.2954e-06 - mean_absolute_error: 0.0023 - mean_absolute_percentage_error: 711.6656 - val_loss: 0.0105 - val_mean_absolute_error: 0.0641 - val_mean_absolute_percentage_error: 10.1623\n",
            "Epoch 179/200\n",
            "98/98 [==============================] - 2s 16ms/step - loss: 1.1084e-05 - mean_absolute_error: 0.0025 - mean_absolute_percentage_error: 304.7502 - val_loss: 0.0109 - val_mean_absolute_error: 0.0662 - val_mean_absolute_percentage_error: 10.6141\n",
            "Epoch 180/200\n",
            "98/98 [==============================] - 1s 15ms/step - loss: 8.1609e-06 - mean_absolute_error: 0.0021 - mean_absolute_percentage_error: 345.5713 - val_loss: 0.0094 - val_mean_absolute_error: 0.0584 - val_mean_absolute_percentage_error: 9.1461\n",
            "Epoch 181/200\n",
            "98/98 [==============================] - 1s 15ms/step - loss: 1.0234e-05 - mean_absolute_error: 0.0024 - mean_absolute_percentage_error: 16.1852 - val_loss: 0.0102 - val_mean_absolute_error: 0.0617 - val_mean_absolute_percentage_error: 9.6904\n",
            "Epoch 182/200\n",
            "98/98 [==============================] - 2s 16ms/step - loss: 1.0820e-05 - mean_absolute_error: 0.0025 - mean_absolute_percentage_error: 373.9083 - val_loss: 0.0103 - val_mean_absolute_error: 0.0620 - val_mean_absolute_percentage_error: 9.7416\n",
            "Epoch 183/200\n",
            "98/98 [==============================] - 1s 15ms/step - loss: 1.1829e-05 - mean_absolute_error: 0.0026 - mean_absolute_percentage_error: 983.3781 - val_loss: 0.0103 - val_mean_absolute_error: 0.0635 - val_mean_absolute_percentage_error: 10.1104\n",
            "Epoch 184/200\n",
            "98/98 [==============================] - 2s 16ms/step - loss: 1.5443e-05 - mean_absolute_error: 0.0030 - mean_absolute_percentage_error: 21.1545 - val_loss: 0.0102 - val_mean_absolute_error: 0.0613 - val_mean_absolute_percentage_error: 9.6237\n",
            "Epoch 185/200\n",
            "98/98 [==============================] - 2s 16ms/step - loss: 1.2581e-05 - mean_absolute_error: 0.0026 - mean_absolute_percentage_error: 17.3321 - val_loss: 0.0093 - val_mean_absolute_error: 0.0576 - val_mean_absolute_percentage_error: 9.0285\n",
            "Epoch 186/200\n",
            "98/98 [==============================] - 2s 16ms/step - loss: 9.3807e-06 - mean_absolute_error: 0.0022 - mean_absolute_percentage_error: 712.3182 - val_loss: 0.0101 - val_mean_absolute_error: 0.0611 - val_mean_absolute_percentage_error: 9.5879\n",
            "Epoch 187/200\n",
            "98/98 [==============================] - 2s 16ms/step - loss: 9.7925e-06 - mean_absolute_error: 0.0023 - mean_absolute_percentage_error: 435.8484 - val_loss: 0.0113 - val_mean_absolute_error: 0.0674 - val_mean_absolute_percentage_error: 10.8083\n",
            "Epoch 188/200\n",
            "98/98 [==============================] - 1s 15ms/step - loss: 9.2071e-06 - mean_absolute_error: 0.0023 - mean_absolute_percentage_error: 527.3934 - val_loss: 0.0096 - val_mean_absolute_error: 0.0596 - val_mean_absolute_percentage_error: 9.3214\n",
            "Epoch 189/200\n",
            "98/98 [==============================] - 1s 15ms/step - loss: 9.3822e-06 - mean_absolute_error: 0.0023 - mean_absolute_percentage_error: 661.6541 - val_loss: 0.0101 - val_mean_absolute_error: 0.0617 - val_mean_absolute_percentage_error: 9.6972\n",
            "Epoch 190/200\n",
            "98/98 [==============================] - 1s 15ms/step - loss: 9.0570e-06 - mean_absolute_error: 0.0022 - mean_absolute_percentage_error: 14.7668 - val_loss: 0.0096 - val_mean_absolute_error: 0.0591 - val_mean_absolute_percentage_error: 9.2416\n",
            "Epoch 191/200\n",
            "98/98 [==============================] - 2s 16ms/step - loss: 1.4793e-05 - mean_absolute_error: 0.0030 - mean_absolute_percentage_error: 756.0895 - val_loss: 0.0108 - val_mean_absolute_error: 0.0649 - val_mean_absolute_percentage_error: 10.2950\n",
            "Epoch 192/200\n",
            "98/98 [==============================] - 2s 16ms/step - loss: 8.1205e-06 - mean_absolute_error: 0.0021 - mean_absolute_percentage_error: 427.5956 - val_loss: 0.0104 - val_mean_absolute_error: 0.0628 - val_mean_absolute_percentage_error: 9.9038\n",
            "Epoch 193/200\n",
            "98/98 [==============================] - 2s 16ms/step - loss: 1.0867e-05 - mean_absolute_error: 0.0025 - mean_absolute_percentage_error: 1652.8323 - val_loss: 0.0100 - val_mean_absolute_error: 0.0608 - val_mean_absolute_percentage_error: 9.5346\n",
            "Epoch 194/200\n",
            "98/98 [==============================] - 2s 16ms/step - loss: 8.5896e-06 - mean_absolute_error: 0.0022 - mean_absolute_percentage_error: 58.4461 - val_loss: 0.0103 - val_mean_absolute_error: 0.0626 - val_mean_absolute_percentage_error: 9.8615\n",
            "Epoch 195/200\n",
            "98/98 [==============================] - 2s 16ms/step - loss: 9.6800e-06 - mean_absolute_error: 0.0023 - mean_absolute_percentage_error: 31.6566 - val_loss: 0.0103 - val_mean_absolute_error: 0.0620 - val_mean_absolute_percentage_error: 9.7569\n",
            "Epoch 196/200\n",
            "98/98 [==============================] - 2s 16ms/step - loss: 9.1001e-06 - mean_absolute_error: 0.0022 - mean_absolute_percentage_error: 486.1893 - val_loss: 0.0102 - val_mean_absolute_error: 0.0616 - val_mean_absolute_percentage_error: 9.6569\n",
            "Epoch 197/200\n",
            "98/98 [==============================] - 2s 16ms/step - loss: 9.4445e-06 - mean_absolute_error: 0.0023 - mean_absolute_percentage_error: 13.1960 - val_loss: 0.0096 - val_mean_absolute_error: 0.0591 - val_mean_absolute_percentage_error: 9.2578\n",
            "Epoch 198/200\n",
            "98/98 [==============================] - 2s 16ms/step - loss: 9.2241e-06 - mean_absolute_error: 0.0022 - mean_absolute_percentage_error: 586.8905 - val_loss: 0.0102 - val_mean_absolute_error: 0.0616 - val_mean_absolute_percentage_error: 9.6659\n",
            "Epoch 199/200\n",
            "98/98 [==============================] - 2s 16ms/step - loss: 8.1746e-06 - mean_absolute_error: 0.0021 - mean_absolute_percentage_error: 1069.3566 - val_loss: 0.0106 - val_mean_absolute_error: 0.0637 - val_mean_absolute_percentage_error: 10.0486\n",
            "Epoch 200/200\n",
            "98/98 [==============================] - 2s 16ms/step - loss: 1.1509e-05 - mean_absolute_error: 0.0025 - mean_absolute_percentage_error: 1259.8014 - val_loss: 0.0106 - val_mean_absolute_error: 0.0636 - val_mean_absolute_percentage_error: 10.0536\n"
          ]
        }
      ]
    },
    {
      "cell_type": "code",
      "metadata": {
        "colab": {
          "base_uri": "https://localhost:8080/"
        },
        "id": "03f2dd4c",
        "outputId": "0b164c31-dfd9-4286-ff15-94c7b19dfab6"
      },
      "source": [
        "# Calculating RMSE\n",
        "test_rmse_gru_second_source = sqrt(mean_squared_error(Y_pred_test_gru_second_source, Y_test_gru_second_source))\n",
        "train_rmse_gru_second_source = sqrt(mean_squared_error(Y_pred_train_gru_second_source, Y_train_gru_second_source))\n",
        "print(\"test_rmse_gru_second_source = {}, train_rmse_gru_second_source = {}\".format(test_rmse_gru_second_source, train_rmse_gru_second_source))\n",
        "\n",
        "# Calculating r2_score\n",
        "test_r2_score_gru_second_source = r2_score(Y_test_gru_second_source, Y_pred_test_gru_second_source)\n",
        "train_r2_score_gru_second_source = r2_score(Y_train_gru_second_source, Y_pred_train_gru_second_source)\n",
        "print(\"test_r2_score_gru_second_source = {}, train_r2_score_gru_second_source = {}\".format(test_r2_score_gru_second_source, train_r2_score_gru_second_source))\n",
        "\n",
        "# Calculating MAE\n",
        "test_mae_gru_second_source = mean_absolute_error(Y_test_gru_second_source, Y_pred_test_gru_second_source)\n",
        "train_mae_gru_second_source = mean_absolute_error(Y_train_gru_second_source, Y_pred_train_gru_second_source)\n",
        "print(\"test_mae_gru_second_source = {}, train_mae_gru_second_source = {}\".format(test_mae_gru_second_source, train_mae_gru_second_source))\n",
        "\n",
        "# Calculating MAPE\n",
        "test_loss_gru_second_source, test_mae_gru_second_source, test_mape_gru_second_source = gru_model_source.evaluate(X_test_gru_second_source, Y_test_gru_second_source, verbose=0)\n",
        "train_loss_gru_second_source, train_mae_gru_second_source, train_mape_gru_second_source = gru_model_source.evaluate(X_train_gru_second_source, Y_train_gru_second_source, verbose=0)\n",
        "print(\"test_mape_gru_second_source = {}, train_mape_gru_second_source = {}\".format(test_mape_gru_second_source, train_mape_gru_second_source))"
      ],
      "id": "03f2dd4c",
      "execution_count": null,
      "outputs": [
        {
          "output_type": "stream",
          "name": "stdout",
          "text": [
            "test_rmse_gru_second_source = 0.10280989954217593, train_rmse_gru_second_source = 0.003244253072494634\n",
            "test_r2_score_gru_second_source = 0.6713380807178253, train_r2_score_gru_second_source = 0.9987163420049869\n",
            "test_mae_gru_second_source = 0.06362778056538043, train_mae_gru_second_source = 0.002564240971687496\n",
            "test_mape_gru_second_source = 10.053621292114258, train_mape_gru_second_source = 1102.6890869140625\n"
          ]
        }
      ]
    },
    {
      "cell_type": "code",
      "metadata": {
        "colab": {
          "base_uri": "https://localhost:8080/",
          "height": 345
        },
        "id": "MZL1EteYV3_o",
        "outputId": "db5147bc-6cb1-47d5-cc13-87dc1296258e"
      },
      "source": [
        "plt.figure(1, figsize=(30, 6)) # Defines the figure size in inches\n",
        "plt.plot(range(0, len(Y_test_gru_second_source)), Y_test_gru_second_source)\n",
        "plt.plot(range(0, len(Y_test_gru_second_source)), Y_pred_test_gru_second_source)\n",
        "plt.xlabel('Time')\n",
        "plt.ylabel('Adj. Closing Price')\n",
        "plt.title('Adj. Closing Price vs Time')\n",
        "plt.legend(['Actual', 'Prediction'])"
      ],
      "id": "MZL1EteYV3_o",
      "execution_count": null,
      "outputs": [
        {
          "output_type": "execute_result",
          "data": {
            "text/plain": [
              "<matplotlib.legend.Legend at 0x7f041e3e7c90>"
            ]
          },
          "metadata": {},
          "execution_count": 45
        },
        {
          "output_type": "display_data",
          "data": {
            "image/png": "[encoded data removed]",
            "text/plain": [
              "<Figure size 2160x432 with 1 Axes>"
            ]
          },
          "metadata": {
            "needs_background": "light"
          }
        }
      ]
    },
    {
      "cell_type": "markdown",
      "metadata": {
        "id": "ad91bdc5"
      },
      "source": [
        "### Transfer Learning"
      ],
      "id": "ad91bdc5"
    },
    {
      "cell_type": "code",
      "metadata": {
        "colab": {
          "base_uri": "https://localhost:8080/"
        },
        "id": "8926a4bd",
        "outputId": "57ceb393-4ff0-4d2b-c0c1-13ba6a98ae01"
      },
      "source": [
        "print(\"weights:\", len(gru_model_source.weights))\n",
        "print(\"trainable_weights:\", len(gru_model_source.trainable_weights))\n",
        "print(\"non_trainable_weights:\", len(gru_model_source.non_trainable_weights))"
      ],
      "id": "8926a4bd",
      "execution_count": null,
      "outputs": [
        {
          "output_type": "stream",
          "name": "stdout",
          "text": [
            "weights: 8\n",
            "trainable_weights: 8\n",
            "non_trainable_weights: 0\n"
          ]
        }
      ]
    },
    {
      "cell_type": "code",
      "metadata": {
        "id": "ede8eb46"
      },
      "source": [
        "'''\n",
        "Freezing weights. Instance-based transfer learning.\n",
        "'''\n",
        "gru_model_source.trainable = False"
      ],
      "id": "ede8eb46",
      "execution_count": null,
      "outputs": []
    },
    {
      "cell_type": "markdown",
      "metadata": {
        "id": "fc947754"
      },
      "source": [
        "#### Train-test split for target stock data"
      ],
      "id": "fc947754"
    },
    {
      "cell_type": "code",
      "metadata": {
        "id": "323a37ef"
      },
      "source": [
        "X_train_gru_target, X_test_gru_target, Y_train_gru_target, Y_test_gru_target = train_test_split(target_features, target_labels, test_size=0.30, random_state=42, shuffle=False)"
      ],
      "id": "323a37ef",
      "execution_count": null,
      "outputs": []
    },
    {
      "cell_type": "code",
      "metadata": {
        "id": "89fa9c0b"
      },
      "source": [
        "X_train_gru_target = np.array(X_train_gru_target)\n",
        "X_test_gru_target = np.array(X_test_gru_target)\n",
        "Y_train_gru_target = np.array(Y_train_gru_target)\n",
        "Y_test_gru_target = np.array(Y_test_gru_target)"
      ],
      "id": "89fa9c0b",
      "execution_count": null,
      "outputs": []
    },
    {
      "cell_type": "code",
      "metadata": {
        "id": "c7fb3aca"
      },
      "source": [
        "X_train_gru_target = X_train_gru_target.reshape(X_train_gru_target.shape[0],X_train_gru_target.shape[1],1)\n",
        "X_test_gru_target = X_test_gru_target.reshape(X_test_gru_target.shape[0],X_test_gru_target.shape[1],1)"
      ],
      "id": "c7fb3aca",
      "execution_count": null,
      "outputs": []
    },
    {
      "cell_type": "code",
      "metadata": {
        "colab": {
          "base_uri": "https://localhost:8080/"
        },
        "id": "53cdd29c",
        "outputId": "a611ce24-20c7-48ef-f577-b805af7abd16"
      },
      "source": [
        "Y_test_gru_target.shape"
      ],
      "id": "53cdd29c",
      "execution_count": null,
      "outputs": [
        {
          "output_type": "execute_result",
          "data": {
            "text/plain": [
              "(240,)"
            ]
          },
          "metadata": {},
          "execution_count": 51
        }
      ]
    },
    {
      "cell_type": "code",
      "metadata": {
        "colab": {
          "base_uri": "https://localhost:8080/"
        },
        "id": "d95a0011",
        "outputId": "69520784-2b13-4dbb-c4a3-ceb2376ae025"
      },
      "source": [
        "X_train_gru_target.shape"
      ],
      "id": "d95a0011",
      "execution_count": null,
      "outputs": [
        {
          "output_type": "execute_result",
          "data": {
            "text/plain": [
              "(560, 9, 1)"
            ]
          },
          "metadata": {},
          "execution_count": 52
        }
      ]
    },
    {
      "cell_type": "code",
      "metadata": {
        "id": "b7182e25"
      },
      "source": [
        "def target_model_builder(hp):                                           \n",
        "    model = Sequential()\n",
        "    model.add(gru_model_source.layers[0])\n",
        "    \n",
        "    hp_unit = hp.Int('units', min_value=12, max_value=64, step=2)\n",
        "    model.add(GRU(units=hp_unit, return_sequences=True, name=\"layer-2\"))\n",
        "    model.add(GRU(units=hp_unit, name=\"layer-3\"))\n",
        "    model.add(Dense(1, activation=\"relu\", name=\"layer-4\"))\n",
        "    \n",
        "    hp_learning_rate = hp.Choice('learning_rate', values=[1e-2, 1e-3, 1e-4, 1e-5, 1e-6, 1e-7])\n",
        "    model.compile(optimizer=tf.keras.optimizers.Adam(learning_rate=hp_learning_rate), loss=\"mse\", metrics=['mean_absolute_percentage_error'])\n",
        "    return model"
      ],
      "id": "b7182e25",
      "execution_count": null,
      "outputs": []
    },
    {
      "cell_type": "code",
      "metadata": {
        "colab": {
          "base_uri": "https://localhost:8080/"
        },
        "id": "bb16d71f",
        "outputId": "03d23e29-c7e1-4345-adc3-2e8c6cafe0d3"
      },
      "source": [
        "target_tuner = kt.Hyperband(target_model_builder,\n",
        "                     objective='mean_absolute_percentage_error',\n",
        "                     max_epochs=200,\n",
        "                     factor=2,\n",
        "                     seed=42,\n",
        "                     hyperband_iterations=3,\n",
        "                     directory='hyperparams',\n",
        "                     project_name='target_stock')"
      ],
      "id": "bb16d71f",
      "execution_count": null,
      "outputs": [
        {
          "output_type": "stream",
          "name": "stdout",
          "text": [
            "INFO:tensorflow:Reloading Oracle from existing project hyperparams/target_stock/oracle.json\n",
            "INFO:tensorflow:Reloading Tuner from hyperparams/target_stock/tuner0.json\n"
          ]
        }
      ]
    },
    {
      "cell_type": "code",
      "metadata": {
        "colab": {
          "base_uri": "https://localhost:8080/"
        },
        "id": "c6accde4",
        "outputId": "a563ca26-e91c-410a-df8c-29324b7393db"
      },
      "source": [
        "target_tuner.search(X_train_gru_target, Y_train_gru_target, epochs=250)"
      ],
      "id": "c6accde4",
      "execution_count": null,
      "outputs": [
        {
          "output_type": "stream",
          "name": "stdout",
          "text": [
            "Trial 144 Complete [00h 00m 06s]\n",
            "mean_absolute_percentage_error: 99.82142639160156\n",
            "\n",
            "Best mean_absolute_percentage_error So Far: 0.0013360745506361127\n",
            "Total elapsed time: 00h 16m 37s\n",
            "INFO:tensorflow:Oracle triggered exit\n"
          ]
        }
      ]
    },
    {
      "cell_type": "code",
      "metadata": {
        "colab": {
          "base_uri": "https://localhost:8080/"
        },
        "id": "5dd1f107",
        "outputId": "3ef20f0f-5f6b-4916-eae1-bb6d39dc73ba"
      },
      "source": [
        "# Get the optimal hyperparameters\n",
        "best_hps_target=target_tuner.get_best_hyperparameters(num_trials=1)[0]\n",
        "\n",
        "print(f\"\"\"\n",
        "The hyperparameter search is complete. The optimal number of units in the first densely-connected\n",
        "layer is {best_hps_target.get('units')} and the\n",
        "optimal learning rate for the optimizer\n",
        "is {best_hps_target.get('learning_rate')}.\n",
        "\"\"\")"
      ],
      "id": "5dd1f107",
      "execution_count": null,
      "outputs": [
        {
          "output_type": "stream",
          "name": "stdout",
          "text": [
            "\n",
            "The hyperparameter search is complete. The optimal number of units in the first densely-connected\n",
            "layer is 46 and the\n",
            "optimal learning rate for the optimizer\n",
            "is 0.01.\n",
            "\n"
          ]
        }
      ]
    },
    {
      "cell_type": "code",
      "metadata": {
        "id": "c3f93dc1"
      },
      "source": [
        "gru_model_target = Sequential()\n",
        "gru_model_target.add(gru_model_source.layers[0])\n",
        "gru_model_target.add(GRU(units=46, return_sequences=True, name=\"second\"))\n",
        "gru_model_target.add(GRU(units=46, name=\"third\"))\n",
        "gru_model_target.add(Dense(1, activation=\"relu\", name=\"fourth\"))\n",
        "gru_model_target.compile(optimizer=tf.keras.optimizers.Adam(learning_rate=0.01), loss='mean_squared_error', metrics=['mean_absolute_percentage_error'])"
      ],
      "id": "c3f93dc1",
      "execution_count": null,
      "outputs": []
    },
    {
      "cell_type": "code",
      "metadata": {
        "colab": {
          "base_uri": "https://localhost:8080/"
        },
        "id": "9beeab96",
        "outputId": "2306fa70-44f8-4fa3-9d0a-0ee7be3aae19"
      },
      "source": [
        "gru_model_target.fit(X_train_gru_target,Y_train_gru_target,epochs=200,verbose=1)"
      ],
      "id": "9beeab96",
      "execution_count": null,
      "outputs": [
        {
          "output_type": "stream",
          "name": "stdout",
          "text": [
            "Epoch 1/200\n",
            "18/18 [==============================] - 5s 14ms/step - loss: 0.0150 - mean_absolute_percentage_error: 160703.0625\n",
            "Epoch 2/200\n",
            "18/18 [==============================] - 0s 14ms/step - loss: 0.0011 - mean_absolute_percentage_error: 51278.2695\n",
            "Epoch 3/200\n",
            "18/18 [==============================] - 0s 15ms/step - loss: 6.1277e-04 - mean_absolute_percentage_error: 81308.3750\n",
            "Epoch 4/200\n",
            "18/18 [==============================] - 0s 14ms/step - loss: 4.3615e-04 - mean_absolute_percentage_error: 52745.3203\n",
            "Epoch 5/200\n",
            "18/18 [==============================] - 0s 13ms/step - loss: 3.7325e-04 - mean_absolute_percentage_error: 34459.6875\n",
            "Epoch 6/200\n",
            "18/18 [==============================] - 0s 14ms/step - loss: 3.6726e-04 - mean_absolute_percentage_error: 16673.9062\n",
            "Epoch 7/200\n",
            "18/18 [==============================] - 0s 14ms/step - loss: 3.5081e-04 - mean_absolute_percentage_error: 34205.2031\n",
            "Epoch 8/200\n",
            "18/18 [==============================] - 0s 13ms/step - loss: 3.2123e-04 - mean_absolute_percentage_error: 14034.0371\n",
            "Epoch 9/200\n",
            "18/18 [==============================] - 0s 14ms/step - loss: 3.1356e-04 - mean_absolute_percentage_error: 12318.5117\n",
            "Epoch 10/200\n",
            "18/18 [==============================] - 0s 14ms/step - loss: 3.1085e-04 - mean_absolute_percentage_error: 13022.5020\n",
            "Epoch 11/200\n",
            "18/18 [==============================] - 0s 13ms/step - loss: 3.0503e-04 - mean_absolute_percentage_error: 10.8705\n",
            "Epoch 12/200\n",
            "18/18 [==============================] - 0s 14ms/step - loss: 3.0244e-04 - mean_absolute_percentage_error: 11.4153\n",
            "Epoch 13/200\n",
            "18/18 [==============================] - 0s 14ms/step - loss: 2.8807e-04 - mean_absolute_percentage_error: 12.3590\n",
            "Epoch 14/200\n",
            "18/18 [==============================] - 0s 15ms/step - loss: 2.7813e-04 - mean_absolute_percentage_error: 10.2429\n",
            "Epoch 15/200\n",
            "18/18 [==============================] - 0s 14ms/step - loss: 2.3976e-04 - mean_absolute_percentage_error: 5065.8022\n",
            "Epoch 16/200\n",
            "18/18 [==============================] - 0s 14ms/step - loss: 2.0416e-04 - mean_absolute_percentage_error: 3283.2742\n",
            "Epoch 17/200\n",
            "18/18 [==============================] - 0s 14ms/step - loss: 2.0122e-04 - mean_absolute_percentage_error: 6423.2783\n",
            "Epoch 18/200\n",
            "18/18 [==============================] - 0s 14ms/step - loss: 2.1486e-04 - mean_absolute_percentage_error: 2213.0754\n",
            "Epoch 19/200\n",
            "18/18 [==============================] - 0s 13ms/step - loss: 2.1269e-04 - mean_absolute_percentage_error: 9.6429\n",
            "Epoch 20/200\n",
            "18/18 [==============================] - 0s 15ms/step - loss: 1.9336e-04 - mean_absolute_percentage_error: 9.0519\n",
            "Epoch 21/200\n",
            "18/18 [==============================] - 0s 14ms/step - loss: 1.7679e-04 - mean_absolute_percentage_error: 9.0837\n",
            "Epoch 22/200\n",
            "18/18 [==============================] - 0s 15ms/step - loss: 1.9070e-04 - mean_absolute_percentage_error: 10.1592\n",
            "Epoch 23/200\n",
            "18/18 [==============================] - 0s 14ms/step - loss: 1.9539e-04 - mean_absolute_percentage_error: 9.6061\n",
            "Epoch 24/200\n",
            "18/18 [==============================] - 0s 14ms/step - loss: 1.9382e-04 - mean_absolute_percentage_error: 9.9462\n",
            "Epoch 25/200\n",
            "18/18 [==============================] - 0s 15ms/step - loss: 1.7902e-04 - mean_absolute_percentage_error: 9.4909\n",
            "Epoch 26/200\n",
            "18/18 [==============================] - 0s 13ms/step - loss: 2.0022e-04 - mean_absolute_percentage_error: 9.3716\n",
            "Epoch 27/200\n",
            "18/18 [==============================] - 0s 14ms/step - loss: 2.2114e-04 - mean_absolute_percentage_error: 9.2648\n",
            "Epoch 28/200\n",
            "18/18 [==============================] - 0s 14ms/step - loss: 1.8152e-04 - mean_absolute_percentage_error: 8.8768\n",
            "Epoch 29/200\n",
            "18/18 [==============================] - 0s 14ms/step - loss: 1.8433e-04 - mean_absolute_percentage_error: 9.2457\n",
            "Epoch 30/200\n",
            "18/18 [==============================] - 0s 14ms/step - loss: 1.6983e-04 - mean_absolute_percentage_error: 8.1118\n",
            "Epoch 31/200\n",
            "18/18 [==============================] - 0s 14ms/step - loss: 1.6857e-04 - mean_absolute_percentage_error: 8.8487\n",
            "Epoch 32/200\n",
            "18/18 [==============================] - 0s 14ms/step - loss: 2.0612e-04 - mean_absolute_percentage_error: 10.1239\n",
            "Epoch 33/200\n",
            "18/18 [==============================] - 0s 14ms/step - loss: 1.7938e-04 - mean_absolute_percentage_error: 8.7538\n",
            "Epoch 34/200\n",
            "18/18 [==============================] - 0s 15ms/step - loss: 1.8320e-04 - mean_absolute_percentage_error: 9.0631\n",
            "Epoch 35/200\n",
            "18/18 [==============================] - 0s 14ms/step - loss: 1.9570e-04 - mean_absolute_percentage_error: 9.1517\n",
            "Epoch 36/200\n",
            "18/18 [==============================] - 0s 14ms/step - loss: 2.3525e-04 - mean_absolute_percentage_error: 10.1569\n",
            "Epoch 37/200\n",
            "18/18 [==============================] - 0s 14ms/step - loss: 2.3298e-04 - mean_absolute_percentage_error: 9.8434\n",
            "Epoch 38/200\n",
            "18/18 [==============================] - 0s 14ms/step - loss: 2.3922e-04 - mean_absolute_percentage_error: 9.7904\n",
            "Epoch 39/200\n",
            "18/18 [==============================] - 0s 14ms/step - loss: 2.7010e-04 - mean_absolute_percentage_error: 11.8519\n",
            "Epoch 40/200\n",
            "18/18 [==============================] - 0s 14ms/step - loss: 2.1064e-04 - mean_absolute_percentage_error: 9.2797\n",
            "Epoch 41/200\n",
            "18/18 [==============================] - 0s 15ms/step - loss: 1.9147e-04 - mean_absolute_percentage_error: 8.8112\n",
            "Epoch 42/200\n",
            "18/18 [==============================] - 0s 16ms/step - loss: 2.1704e-04 - mean_absolute_percentage_error: 9.7532\n",
            "Epoch 43/200\n",
            "18/18 [==============================] - 0s 14ms/step - loss: 2.7616e-04 - mean_absolute_percentage_error: 10.2041\n",
            "Epoch 44/200\n",
            "18/18 [==============================] - 0s 14ms/step - loss: 2.2248e-04 - mean_absolute_percentage_error: 9.7763\n",
            "Epoch 45/200\n",
            "18/18 [==============================] - 0s 14ms/step - loss: 2.1229e-04 - mean_absolute_percentage_error: 9.1997\n",
            "Epoch 46/200\n",
            "18/18 [==============================] - 0s 13ms/step - loss: 1.8964e-04 - mean_absolute_percentage_error: 8.7568\n",
            "Epoch 47/200\n",
            "18/18 [==============================] - 0s 13ms/step - loss: 1.8398e-04 - mean_absolute_percentage_error: 9.0755\n",
            "Epoch 48/200\n",
            "18/18 [==============================] - 0s 14ms/step - loss: 2.0082e-04 - mean_absolute_percentage_error: 9.6710\n",
            "Epoch 49/200\n",
            "18/18 [==============================] - 0s 15ms/step - loss: 1.7655e-04 - mean_absolute_percentage_error: 8.8264\n",
            "Epoch 50/200\n",
            "18/18 [==============================] - 0s 13ms/step - loss: 1.7603e-04 - mean_absolute_percentage_error: 9.1351\n",
            "Epoch 51/200\n",
            "18/18 [==============================] - 0s 14ms/step - loss: 1.7316e-04 - mean_absolute_percentage_error: 8.5276\n",
            "Epoch 52/200\n",
            "18/18 [==============================] - 0s 14ms/step - loss: 1.8186e-04 - mean_absolute_percentage_error: 8.7216\n",
            "Epoch 53/200\n",
            "18/18 [==============================] - 0s 15ms/step - loss: 2.0324e-04 - mean_absolute_percentage_error: 8.7872\n",
            "Epoch 54/200\n",
            "18/18 [==============================] - 0s 15ms/step - loss: 1.9341e-04 - mean_absolute_percentage_error: 9.5108\n",
            "Epoch 55/200\n",
            "18/18 [==============================] - 0s 14ms/step - loss: 2.0507e-04 - mean_absolute_percentage_error: 9.2064\n",
            "Epoch 56/200\n",
            "18/18 [==============================] - 0s 14ms/step - loss: 2.0002e-04 - mean_absolute_percentage_error: 8.8607\n",
            "Epoch 57/200\n",
            "18/18 [==============================] - 0s 15ms/step - loss: 2.8421e-04 - mean_absolute_percentage_error: 11.3518\n",
            "Epoch 58/200\n",
            "18/18 [==============================] - 0s 14ms/step - loss: 2.7696e-04 - mean_absolute_percentage_error: 10.6035\n",
            "Epoch 59/200\n",
            "18/18 [==============================] - 0s 15ms/step - loss: 1.9373e-04 - mean_absolute_percentage_error: 9.1240\n",
            "Epoch 60/200\n",
            "18/18 [==============================] - 0s 14ms/step - loss: 1.8291e-04 - mean_absolute_percentage_error: 8.4115\n",
            "Epoch 61/200\n",
            "18/18 [==============================] - 0s 16ms/step - loss: 1.9334e-04 - mean_absolute_percentage_error: 9.0294\n",
            "Epoch 62/200\n",
            "18/18 [==============================] - 0s 14ms/step - loss: 1.7500e-04 - mean_absolute_percentage_error: 8.9848\n",
            "Epoch 63/200\n",
            "18/18 [==============================] - 0s 13ms/step - loss: 1.6451e-04 - mean_absolute_percentage_error: 8.9261\n",
            "Epoch 64/200\n",
            "18/18 [==============================] - 0s 14ms/step - loss: 1.5896e-04 - mean_absolute_percentage_error: 8.6380\n",
            "Epoch 65/200\n",
            "18/18 [==============================] - 0s 14ms/step - loss: 1.5914e-04 - mean_absolute_percentage_error: 8.2833\n",
            "Epoch 66/200\n",
            "18/18 [==============================] - 0s 14ms/step - loss: 1.7394e-04 - mean_absolute_percentage_error: 8.9271\n",
            "Epoch 67/200\n",
            "18/18 [==============================] - 0s 14ms/step - loss: 1.7371e-04 - mean_absolute_percentage_error: 8.4105\n",
            "Epoch 68/200\n",
            "18/18 [==============================] - 0s 14ms/step - loss: 1.6407e-04 - mean_absolute_percentage_error: 8.1694\n",
            "Epoch 69/200\n",
            "18/18 [==============================] - 0s 14ms/step - loss: 1.8290e-04 - mean_absolute_percentage_error: 9.2691\n",
            "Epoch 70/200\n",
            "18/18 [==============================] - 0s 14ms/step - loss: 1.9620e-04 - mean_absolute_percentage_error: 9.1629\n",
            "Epoch 71/200\n",
            "18/18 [==============================] - 0s 14ms/step - loss: 1.7583e-04 - mean_absolute_percentage_error: 8.8002\n",
            "Epoch 72/200\n",
            "18/18 [==============================] - 0s 14ms/step - loss: 1.7339e-04 - mean_absolute_percentage_error: 9.0083\n",
            "Epoch 73/200\n",
            "18/18 [==============================] - 0s 15ms/step - loss: 1.7493e-04 - mean_absolute_percentage_error: 8.9939\n",
            "Epoch 74/200\n",
            "18/18 [==============================] - 0s 14ms/step - loss: 1.7480e-04 - mean_absolute_percentage_error: 9.0747\n",
            "Epoch 75/200\n",
            "18/18 [==============================] - 0s 15ms/step - loss: 1.7628e-04 - mean_absolute_percentage_error: 9.0634\n",
            "Epoch 76/200\n",
            "18/18 [==============================] - 0s 14ms/step - loss: 1.6711e-04 - mean_absolute_percentage_error: 9.1436\n",
            "Epoch 77/200\n",
            "18/18 [==============================] - 0s 14ms/step - loss: 1.6136e-04 - mean_absolute_percentage_error: 9.3087\n",
            "Epoch 78/200\n",
            "18/18 [==============================] - 0s 15ms/step - loss: 1.8400e-04 - mean_absolute_percentage_error: 8.4108\n",
            "Epoch 79/200\n",
            "18/18 [==============================] - 0s 15ms/step - loss: 1.8635e-04 - mean_absolute_percentage_error: 9.1854\n",
            "Epoch 80/200\n",
            "18/18 [==============================] - 0s 14ms/step - loss: 1.7919e-04 - mean_absolute_percentage_error: 9.5213\n",
            "Epoch 81/200\n",
            "18/18 [==============================] - 0s 14ms/step - loss: 1.7757e-04 - mean_absolute_percentage_error: 9.2580\n",
            "Epoch 82/200\n",
            "18/18 [==============================] - 0s 14ms/step - loss: 1.6577e-04 - mean_absolute_percentage_error: 9.2522\n",
            "Epoch 83/200\n",
            "18/18 [==============================] - 0s 14ms/step - loss: 1.8416e-04 - mean_absolute_percentage_error: 8.8555\n",
            "Epoch 84/200\n",
            "18/18 [==============================] - 0s 14ms/step - loss: 2.1084e-04 - mean_absolute_percentage_error: 9.2189\n",
            "Epoch 85/200\n",
            "18/18 [==============================] - 0s 14ms/step - loss: 1.9896e-04 - mean_absolute_percentage_error: 9.1024\n",
            "Epoch 86/200\n",
            "18/18 [==============================] - 0s 13ms/step - loss: 1.8651e-04 - mean_absolute_percentage_error: 9.2013\n",
            "Epoch 87/200\n",
            "18/18 [==============================] - 0s 14ms/step - loss: 1.6543e-04 - mean_absolute_percentage_error: 8.7651\n",
            "Epoch 88/200\n",
            "18/18 [==============================] - 0s 14ms/step - loss: 1.6911e-04 - mean_absolute_percentage_error: 8.9179\n",
            "Epoch 89/200\n",
            "18/18 [==============================] - 0s 15ms/step - loss: 2.2347e-04 - mean_absolute_percentage_error: 10.6558\n",
            "Epoch 90/200\n",
            "18/18 [==============================] - 0s 14ms/step - loss: 2.0171e-04 - mean_absolute_percentage_error: 9.7498\n",
            "Epoch 91/200\n",
            "18/18 [==============================] - 0s 15ms/step - loss: 1.7985e-04 - mean_absolute_percentage_error: 9.6241\n",
            "Epoch 92/200\n",
            "18/18 [==============================] - 0s 14ms/step - loss: 2.4922e-04 - mean_absolute_percentage_error: 9.2864\n",
            "Epoch 93/200\n",
            "18/18 [==============================] - 0s 15ms/step - loss: 2.8785e-04 - mean_absolute_percentage_error: 10.4516\n",
            "Epoch 94/200\n",
            "18/18 [==============================] - 0s 14ms/step - loss: 2.3093e-04 - mean_absolute_percentage_error: 9.6697\n",
            "Epoch 95/200\n",
            "18/18 [==============================] - 0s 14ms/step - loss: 1.8796e-04 - mean_absolute_percentage_error: 9.3559\n",
            "Epoch 96/200\n",
            "18/18 [==============================] - 0s 15ms/step - loss: 2.4038e-04 - mean_absolute_percentage_error: 9.5854\n",
            "Epoch 97/200\n",
            "18/18 [==============================] - 0s 14ms/step - loss: 1.8651e-04 - mean_absolute_percentage_error: 8.4048\n",
            "Epoch 98/200\n",
            "18/18 [==============================] - 0s 14ms/step - loss: 1.5769e-04 - mean_absolute_percentage_error: 8.4475\n",
            "Epoch 99/200\n",
            "18/18 [==============================] - 0s 16ms/step - loss: 1.5204e-04 - mean_absolute_percentage_error: 8.5927\n",
            "Epoch 100/200\n",
            "18/18 [==============================] - 0s 14ms/step - loss: 1.7175e-04 - mean_absolute_percentage_error: 8.4731\n",
            "Epoch 101/200\n",
            "18/18 [==============================] - 0s 15ms/step - loss: 1.7047e-04 - mean_absolute_percentage_error: 9.2311\n",
            "Epoch 102/200\n",
            "18/18 [==============================] - 0s 14ms/step - loss: 1.4286e-04 - mean_absolute_percentage_error: 8.7502\n",
            "Epoch 103/200\n",
            "18/18 [==============================] - 0s 14ms/step - loss: 1.7574e-04 - mean_absolute_percentage_error: 8.6837\n",
            "Epoch 104/200\n",
            "18/18 [==============================] - 0s 15ms/step - loss: 1.6978e-04 - mean_absolute_percentage_error: 8.4272\n",
            "Epoch 105/200\n",
            "18/18 [==============================] - 0s 14ms/step - loss: 2.0743e-04 - mean_absolute_percentage_error: 9.7312\n",
            "Epoch 106/200\n",
            "18/18 [==============================] - 0s 13ms/step - loss: 2.2558e-04 - mean_absolute_percentage_error: 9.2564\n",
            "Epoch 107/200\n",
            "18/18 [==============================] - 0s 15ms/step - loss: 1.8434e-04 - mean_absolute_percentage_error: 9.8737\n",
            "Epoch 108/200\n",
            "18/18 [==============================] - 0s 14ms/step - loss: 2.3132e-04 - mean_absolute_percentage_error: 8.7980\n",
            "Epoch 109/200\n",
            "18/18 [==============================] - 0s 13ms/step - loss: 2.4846e-04 - mean_absolute_percentage_error: 10.1311\n",
            "Epoch 110/200\n",
            "18/18 [==============================] - 0s 16ms/step - loss: 1.7974e-04 - mean_absolute_percentage_error: 8.6229\n",
            "Epoch 111/200\n",
            "18/18 [==============================] - 0s 14ms/step - loss: 1.5101e-04 - mean_absolute_percentage_error: 8.3478\n",
            "Epoch 112/200\n",
            "18/18 [==============================] - 0s 15ms/step - loss: 1.6592e-04 - mean_absolute_percentage_error: 8.4519\n",
            "Epoch 113/200\n",
            "18/18 [==============================] - 0s 15ms/step - loss: 2.4025e-04 - mean_absolute_percentage_error: 9.7447\n",
            "Epoch 114/200\n",
            "18/18 [==============================] - 0s 14ms/step - loss: 1.5152e-04 - mean_absolute_percentage_error: 7.9872\n",
            "Epoch 115/200\n",
            "18/18 [==============================] - 0s 14ms/step - loss: 1.5813e-04 - mean_absolute_percentage_error: 8.6059\n",
            "Epoch 116/200\n",
            "18/18 [==============================] - 0s 14ms/step - loss: 1.5420e-04 - mean_absolute_percentage_error: 8.8109\n",
            "Epoch 117/200\n",
            "18/18 [==============================] - 0s 14ms/step - loss: 1.7518e-04 - mean_absolute_percentage_error: 9.1427\n",
            "Epoch 118/200\n",
            "18/18 [==============================] - 0s 14ms/step - loss: 1.5553e-04 - mean_absolute_percentage_error: 8.9023\n",
            "Epoch 119/200\n",
            "18/18 [==============================] - 0s 14ms/step - loss: 2.1771e-04 - mean_absolute_percentage_error: 9.9741\n",
            "Epoch 120/200\n",
            "18/18 [==============================] - 0s 14ms/step - loss: 1.6605e-04 - mean_absolute_percentage_error: 8.7121\n",
            "Epoch 121/200\n",
            "18/18 [==============================] - 0s 14ms/step - loss: 1.4231e-04 - mean_absolute_percentage_error: 8.2621\n",
            "Epoch 122/200\n",
            "18/18 [==============================] - 0s 15ms/step - loss: 1.5332e-04 - mean_absolute_percentage_error: 8.2494\n",
            "Epoch 123/200\n",
            "18/18 [==============================] - 0s 13ms/step - loss: 1.5588e-04 - mean_absolute_percentage_error: 8.4526\n",
            "Epoch 124/200\n",
            "18/18 [==============================] - 0s 14ms/step - loss: 1.4416e-04 - mean_absolute_percentage_error: 8.1798\n",
            "Epoch 125/200\n",
            "18/18 [==============================] - 0s 14ms/step - loss: 1.5190e-04 - mean_absolute_percentage_error: 8.2942\n",
            "Epoch 126/200\n",
            "18/18 [==============================] - 0s 15ms/step - loss: 1.5926e-04 - mean_absolute_percentage_error: 8.5120\n",
            "Epoch 127/200\n",
            "18/18 [==============================] - 0s 14ms/step - loss: 1.7505e-04 - mean_absolute_percentage_error: 9.3970\n",
            "Epoch 128/200\n",
            "18/18 [==============================] - 0s 14ms/step - loss: 1.6213e-04 - mean_absolute_percentage_error: 8.7952\n",
            "Epoch 129/200\n",
            "18/18 [==============================] - 0s 15ms/step - loss: 1.7049e-04 - mean_absolute_percentage_error: 8.9560\n",
            "Epoch 130/200\n",
            "18/18 [==============================] - 0s 15ms/step - loss: 1.6313e-04 - mean_absolute_percentage_error: 9.1113\n",
            "Epoch 131/200\n",
            "18/18 [==============================] - 0s 14ms/step - loss: 1.6999e-04 - mean_absolute_percentage_error: 8.4795\n",
            "Epoch 132/200\n",
            "18/18 [==============================] - 0s 14ms/step - loss: 1.9537e-04 - mean_absolute_percentage_error: 8.9031\n",
            "Epoch 133/200\n",
            "18/18 [==============================] - 0s 14ms/step - loss: 1.5945e-04 - mean_absolute_percentage_error: 8.8511\n",
            "Epoch 134/200\n",
            "18/18 [==============================] - 0s 15ms/step - loss: 1.5702e-04 - mean_absolute_percentage_error: 8.4823\n",
            "Epoch 135/200\n",
            "18/18 [==============================] - 0s 14ms/step - loss: 1.7308e-04 - mean_absolute_percentage_error: 9.2312\n",
            "Epoch 136/200\n",
            "18/18 [==============================] - 0s 14ms/step - loss: 1.6337e-04 - mean_absolute_percentage_error: 9.2665\n",
            "Epoch 137/200\n",
            "18/18 [==============================] - 0s 14ms/step - loss: 1.3779e-04 - mean_absolute_percentage_error: 7.5386\n",
            "Epoch 138/200\n",
            "18/18 [==============================] - 0s 14ms/step - loss: 1.3561e-04 - mean_absolute_percentage_error: 7.9876\n",
            "Epoch 139/200\n",
            "18/18 [==============================] - 0s 15ms/step - loss: 1.6323e-04 - mean_absolute_percentage_error: 8.8587\n",
            "Epoch 140/200\n",
            "18/18 [==============================] - 0s 14ms/step - loss: 1.8272e-04 - mean_absolute_percentage_error: 8.4205\n",
            "Epoch 141/200\n",
            "18/18 [==============================] - 0s 16ms/step - loss: 2.0085e-04 - mean_absolute_percentage_error: 9.4904\n",
            "Epoch 142/200\n",
            "18/18 [==============================] - 0s 14ms/step - loss: 1.7487e-04 - mean_absolute_percentage_error: 9.8971\n",
            "Epoch 143/200\n",
            "18/18 [==============================] - 0s 14ms/step - loss: 1.5496e-04 - mean_absolute_percentage_error: 9.0615\n",
            "Epoch 144/200\n",
            "18/18 [==============================] - 0s 14ms/step - loss: 1.6293e-04 - mean_absolute_percentage_error: 9.5080\n",
            "Epoch 145/200\n",
            "18/18 [==============================] - 0s 16ms/step - loss: 2.0747e-04 - mean_absolute_percentage_error: 9.5628\n",
            "Epoch 146/200\n",
            "18/18 [==============================] - 0s 14ms/step - loss: 2.7966e-04 - mean_absolute_percentage_error: 10.2426\n",
            "Epoch 147/200\n",
            "18/18 [==============================] - 0s 14ms/step - loss: 1.6785e-04 - mean_absolute_percentage_error: 9.9732\n",
            "Epoch 148/200\n",
            "18/18 [==============================] - 0s 15ms/step - loss: 1.7127e-04 - mean_absolute_percentage_error: 8.2658\n",
            "Epoch 149/200\n",
            "18/18 [==============================] - 0s 16ms/step - loss: 1.7283e-04 - mean_absolute_percentage_error: 9.7002\n",
            "Epoch 150/200\n",
            "18/18 [==============================] - 0s 16ms/step - loss: 1.5742e-04 - mean_absolute_percentage_error: 8.2700\n",
            "Epoch 151/200\n",
            "18/18 [==============================] - 0s 15ms/step - loss: 1.3259e-04 - mean_absolute_percentage_error: 7.6043\n",
            "Epoch 152/200\n",
            "18/18 [==============================] - 0s 15ms/step - loss: 1.3588e-04 - mean_absolute_percentage_error: 7.8835\n",
            "Epoch 153/200\n",
            "18/18 [==============================] - 0s 14ms/step - loss: 1.9738e-04 - mean_absolute_percentage_error: 8.1153\n",
            "Epoch 154/200\n",
            "18/18 [==============================] - 0s 16ms/step - loss: 2.4076e-04 - mean_absolute_percentage_error: 10.7966\n",
            "Epoch 155/200\n",
            "18/18 [==============================] - 0s 15ms/step - loss: 1.5623e-04 - mean_absolute_percentage_error: 8.7884\n",
            "Epoch 156/200\n",
            "18/18 [==============================] - 0s 16ms/step - loss: 1.2964e-04 - mean_absolute_percentage_error: 7.8429\n",
            "Epoch 157/200\n",
            "18/18 [==============================] - 0s 14ms/step - loss: 1.7900e-04 - mean_absolute_percentage_error: 8.3189\n",
            "Epoch 158/200\n",
            "18/18 [==============================] - 0s 15ms/step - loss: 1.5940e-04 - mean_absolute_percentage_error: 8.4128\n",
            "Epoch 159/200\n",
            "18/18 [==============================] - 0s 14ms/step - loss: 1.4286e-04 - mean_absolute_percentage_error: 8.5485\n",
            "Epoch 160/200\n",
            "18/18 [==============================] - 0s 15ms/step - loss: 1.4933e-04 - mean_absolute_percentage_error: 8.9026\n",
            "Epoch 161/200\n",
            "18/18 [==============================] - 0s 14ms/step - loss: 1.6002e-04 - mean_absolute_percentage_error: 8.6914\n",
            "Epoch 162/200\n",
            "18/18 [==============================] - 0s 14ms/step - loss: 1.6505e-04 - mean_absolute_percentage_error: 8.1716\n",
            "Epoch 163/200\n",
            "18/18 [==============================] - 0s 14ms/step - loss: 1.7538e-04 - mean_absolute_percentage_error: 8.7206\n",
            "Epoch 164/200\n",
            "18/18 [==============================] - 0s 15ms/step - loss: 1.5428e-04 - mean_absolute_percentage_error: 9.1930\n",
            "Epoch 165/200\n",
            "18/18 [==============================] - 0s 14ms/step - loss: 1.5592e-04 - mean_absolute_percentage_error: 7.6500\n",
            "Epoch 166/200\n",
            "18/18 [==============================] - 0s 13ms/step - loss: 1.9113e-04 - mean_absolute_percentage_error: 8.2996\n",
            "Epoch 167/200\n",
            "18/18 [==============================] - 0s 15ms/step - loss: 1.7213e-04 - mean_absolute_percentage_error: 9.2591\n",
            "Epoch 168/200\n",
            "18/18 [==============================] - 0s 15ms/step - loss: 1.6182e-04 - mean_absolute_percentage_error: 8.6544\n",
            "Epoch 169/200\n",
            "18/18 [==============================] - 0s 15ms/step - loss: 2.0518e-04 - mean_absolute_percentage_error: 9.8966\n",
            "Epoch 170/200\n",
            "18/18 [==============================] - 0s 14ms/step - loss: 2.0731e-04 - mean_absolute_percentage_error: 9.5334\n",
            "Epoch 171/200\n",
            "18/18 [==============================] - 0s 14ms/step - loss: 1.8792e-04 - mean_absolute_percentage_error: 8.7434\n",
            "Epoch 172/200\n",
            "18/18 [==============================] - 0s 15ms/step - loss: 1.4149e-04 - mean_absolute_percentage_error: 7.8778\n",
            "Epoch 173/200\n",
            "18/18 [==============================] - 0s 14ms/step - loss: 1.4910e-04 - mean_absolute_percentage_error: 9.7299\n",
            "Epoch 174/200\n",
            "18/18 [==============================] - 0s 14ms/step - loss: 1.4285e-04 - mean_absolute_percentage_error: 8.8235\n",
            "Epoch 175/200\n",
            "18/18 [==============================] - 0s 14ms/step - loss: 1.5049e-04 - mean_absolute_percentage_error: 7.4901\n",
            "Epoch 176/200\n",
            "18/18 [==============================] - 0s 14ms/step - loss: 1.3779e-04 - mean_absolute_percentage_error: 8.0263\n",
            "Epoch 177/200\n",
            "18/18 [==============================] - 0s 15ms/step - loss: 1.3672e-04 - mean_absolute_percentage_error: 7.5181\n",
            "Epoch 178/200\n",
            "18/18 [==============================] - 0s 14ms/step - loss: 1.3468e-04 - mean_absolute_percentage_error: 8.0982\n",
            "Epoch 179/200\n",
            "18/18 [==============================] - 0s 16ms/step - loss: 1.2641e-04 - mean_absolute_percentage_error: 7.6011\n",
            "Epoch 180/200\n",
            "18/18 [==============================] - 0s 15ms/step - loss: 1.3264e-04 - mean_absolute_percentage_error: 7.6741\n",
            "Epoch 181/200\n",
            "18/18 [==============================] - 0s 15ms/step - loss: 1.4994e-04 - mean_absolute_percentage_error: 8.3569\n",
            "Epoch 182/200\n",
            "18/18 [==============================] - 0s 14ms/step - loss: 1.1864e-04 - mean_absolute_percentage_error: 7.1303\n",
            "Epoch 183/200\n",
            "18/18 [==============================] - 0s 14ms/step - loss: 1.3556e-04 - mean_absolute_percentage_error: 7.9671\n",
            "Epoch 184/200\n",
            "18/18 [==============================] - 0s 14ms/step - loss: 2.0602e-04 - mean_absolute_percentage_error: 9.8115\n",
            "Epoch 185/200\n",
            "18/18 [==============================] - 0s 15ms/step - loss: 1.4029e-04 - mean_absolute_percentage_error: 7.8549\n",
            "Epoch 186/200\n",
            "18/18 [==============================] - 0s 14ms/step - loss: 1.2945e-04 - mean_absolute_percentage_error: 7.5543\n",
            "Epoch 187/200\n",
            "18/18 [==============================] - 0s 15ms/step - loss: 1.4832e-04 - mean_absolute_percentage_error: 7.4261\n",
            "Epoch 188/200\n",
            "18/18 [==============================] - 0s 14ms/step - loss: 1.2929e-04 - mean_absolute_percentage_error: 8.7331\n",
            "Epoch 189/200\n",
            "18/18 [==============================] - 0s 14ms/step - loss: 1.3978e-04 - mean_absolute_percentage_error: 8.1118\n",
            "Epoch 190/200\n",
            "18/18 [==============================] - 0s 15ms/step - loss: 1.2211e-04 - mean_absolute_percentage_error: 7.6037\n",
            "Epoch 191/200\n",
            "18/18 [==============================] - 0s 14ms/step - loss: 1.6763e-04 - mean_absolute_percentage_error: 7.8970\n",
            "Epoch 192/200\n",
            "18/18 [==============================] - 0s 14ms/step - loss: 1.4738e-04 - mean_absolute_percentage_error: 7.7252\n",
            "Epoch 193/200\n",
            "18/18 [==============================] - 0s 14ms/step - loss: 1.5146e-04 - mean_absolute_percentage_error: 7.7746\n",
            "Epoch 194/200\n",
            "18/18 [==============================] - 0s 15ms/step - loss: 1.3512e-04 - mean_absolute_percentage_error: 7.4982\n",
            "Epoch 195/200\n",
            "18/18 [==============================] - 0s 15ms/step - loss: 1.7862e-04 - mean_absolute_percentage_error: 7.7201\n",
            "Epoch 196/200\n",
            "18/18 [==============================] - 0s 14ms/step - loss: 1.4265e-04 - mean_absolute_percentage_error: 8.1676\n",
            "Epoch 197/200\n",
            "18/18 [==============================] - 0s 14ms/step - loss: 1.2821e-04 - mean_absolute_percentage_error: 7.3052\n",
            "Epoch 198/200\n",
            "18/18 [==============================] - 0s 15ms/step - loss: 1.1971e-04 - mean_absolute_percentage_error: 7.9300\n",
            "Epoch 199/200\n",
            "18/18 [==============================] - 0s 15ms/step - loss: 1.1553e-04 - mean_absolute_percentage_error: 6.9267\n",
            "Epoch 200/200\n",
            "18/18 [==============================] - 0s 15ms/step - loss: 1.1782e-04 - mean_absolute_percentage_error: 6.5135\n"
          ]
        },
        {
          "output_type": "execute_result",
          "data": {
            "text/plain": [
              "<keras.callbacks.History at 0x7f041612cb50>"
            ]
          },
          "metadata": {},
          "execution_count": 66
        }
      ]
    },
    {
      "cell_type": "code",
      "metadata": {
        "id": "3a7897a4"
      },
      "source": [
        "Y_pred_test_gru_target = gru_model_target.predict(X_test_gru_target)\n",
        "Y_pred_train_gru_target = gru_model_target.predict(X_train_gru_target)"
      ],
      "id": "3a7897a4",
      "execution_count": null,
      "outputs": []
    },
    {
      "cell_type": "code",
      "metadata": {
        "colab": {
          "base_uri": "https://localhost:8080/"
        },
        "id": "3412e635",
        "outputId": "63527c3f-7048-44ce-a008-bef6431028db"
      },
      "source": [
        "Y_test_gru_target.shape"
      ],
      "id": "3412e635",
      "execution_count": null,
      "outputs": [
        {
          "output_type": "execute_result",
          "data": {
            "text/plain": [
              "(240,)"
            ]
          },
          "metadata": {},
          "execution_count": 68
        }
      ]
    },
    {
      "cell_type": "code",
      "metadata": {
        "colab": {
          "base_uri": "https://localhost:8080/"
        },
        "id": "e384ee7c",
        "outputId": "bfe0f7ce-5638-41b2-82eb-b56a0d07c937"
      },
      "source": [
        "Y_pred_test_gru_target.shape"
      ],
      "id": "e384ee7c",
      "execution_count": null,
      "outputs": [
        {
          "output_type": "execute_result",
          "data": {
            "text/plain": [
              "(240, 1)"
            ]
          },
          "metadata": {},
          "execution_count": 69
        }
      ]
    },
    {
      "cell_type": "code",
      "metadata": {
        "colab": {
          "base_uri": "https://localhost:8080/"
        },
        "id": "05455180",
        "outputId": "a578f1a6-6a48-46a2-d863-7131bc90d47c"
      },
      "source": [
        "# Calculating RMSE\n",
        "test_rmse_gru_target = sqrt(mean_squared_error(Y_pred_test_gru_target, Y_test_gru_target))\n",
        "train_rmse_gru_target = sqrt(mean_squared_error(Y_pred_train_gru_target, Y_train_gru_target))\n",
        "print(\"test_rmse_gru_target = {}, train_rmse_gru_target = {}\".format(test_rmse_gru_target, train_rmse_gru_target))\n",
        "\n",
        "# Calculating r2_score\n",
        "test_r2_score_gru_target = r2_score(Y_test_gru_target, Y_pred_test_gru_target)\n",
        "train_r2_score_gru_target = r2_score(Y_train_gru_target, Y_pred_train_gru_target)\n",
        "print(\"test_r2_score_gru_target = {}, train_r2_score_gru_target = {}\".format(test_r2_score_gru_target , train_r2_score_gru_target))\n",
        "\n",
        "# Calculating MAE\n",
        "test_mae_gru_target = mean_absolute_error(Y_test_gru_target,Y_pred_test_gru_target)\n",
        "train_mae_gru_target = mean_absolute_error(Y_train_gru_target,Y_pred_train_gru_target)\n",
        "print(\"test_mae_gru_target = {}, train_mae_gru_target = {}\".format(test_mae_gru_target , train_mae_gru_target))\n",
        "\n",
        "# Calculating MAPE\n",
        "test_loss_gru_target, test_mape_gru_target = gru_model_target.evaluate(X_test_gru_target, Y_test_gru_target, verbose=0)\n",
        "train_loss_gru_target, train_mape_gru_target = gru_model_target.evaluate(X_train_gru_target, Y_train_gru_target, verbose=0)\n",
        "print(\"test_mape_gru_target = {}, train_mape_gru_target = {}\".format(test_mape_gru_target, train_mape_gru_target))"
      ],
      "id": "05455180",
      "execution_count": null,
      "outputs": [
        {
          "output_type": "stream",
          "name": "stdout",
          "text": [
            "test_rmse_gru_target = 0.021798185257854014, train_rmse_gru_target = 0.011966587068149607\n",
            "test_r2_score_gru_target = 0.9394955819801658, train_r2_score_gru_target = 0.9805900843275854\n",
            "test_mae_gru_target = 0.017907410501950476, train_mae_gru_target = 0.009307187520787975\n",
            "test_mape_gru_target = 11.773886680603027, train_mape_gru_target = 7.1098408699035645\n"
          ]
        }
      ]
    },
    {
      "cell_type": "code",
      "metadata": {
        "colab": {
          "base_uri": "https://localhost:8080/",
          "height": 345
        },
        "id": "8607fff5",
        "outputId": "e6ffb68f-f56c-40f1-83dd-31d0d25392d1"
      },
      "source": [
        "plt.figure(1, figsize=(30, 6)) # Defines the figure size in inches\n",
        "plt.plot(range(0, len(Y_test_gru_target)), Y_test_gru_target)\n",
        "plt.plot(range(0, len(Y_test_gru_target)), Y_pred_test_gru_target)\n",
        "plt.xlabel('Time')\n",
        "plt.ylabel('Adj. Closing Price')\n",
        "plt.title('Adj. Closing Price vs Time')\n",
        "plt.legend(['Actual', 'Prediction'])"
      ],
      "id": "8607fff5",
      "execution_count": null,
      "outputs": [
        {
          "output_type": "execute_result",
          "data": {
            "text/plain": [
              "<matplotlib.legend.Legend at 0x7f041627ee10>"
            ]
          },
          "metadata": {},
          "execution_count": 71
        },
        {
          "output_type": "display_data",
          "data": {
            "image/png": "[encoded data removed]",
            "text/plain": [
              "<Figure size 2160x432 with 1 Axes>"
            ]
          },
          "metadata": {
            "needs_background": "light"
          }
        }
      ]
    },
    {
      "cell_type": "markdown",
      "metadata": {
        "id": "b6142fa9"
      },
      "source": [
        "#### Unfreezing weights of source model"
      ],
      "id": "b6142fa9"
    },
    {
      "cell_type": "code",
      "metadata": {
        "id": "23fada7e"
      },
      "source": [
        "gru_model_source.trainable = True"
      ],
      "id": "23fada7e",
      "execution_count": null,
      "outputs": []
    },
    {
      "cell_type": "markdown",
      "metadata": {
        "id": "d665d6bc"
      },
      "source": [
        "#### Setting a small learning rate for the target model"
      ],
      "id": "d665d6bc"
    },
    {
      "cell_type": "code",
      "metadata": {
        "id": "AqKbE7EZ3EVW"
      },
      "source": [
        "from keras import backend as K\n",
        "K.set_value(gru_model_target.optimizer.learning_rate, 0.0001)"
      ],
      "id": "AqKbE7EZ3EVW",
      "execution_count": null,
      "outputs": []
    },
    {
      "cell_type": "code",
      "metadata": {
        "colab": {
          "base_uri": "https://localhost:8080/"
        },
        "id": "NPFLBwyK3QV7",
        "outputId": "49676724-60aa-47b4-f189-79a00160c348"
      },
      "source": [
        "gru_model_target.fit(X_train_gru_target, Y_train_gru_target, epochs=200,verbose=1)"
      ],
      "id": "NPFLBwyK3QV7",
      "execution_count": null,
      "outputs": [
        {
          "output_type": "stream",
          "name": "stdout",
          "text": [
            "Epoch 1/200\n",
            "18/18 [==============================] - 0s 14ms/step - loss: 1.3061e-04 - mean_absolute_percentage_error: 6.9254\n",
            "Epoch 2/200\n",
            "18/18 [==============================] - 0s 14ms/step - loss: 1.0091e-04 - mean_absolute_percentage_error: 6.4355\n",
            "Epoch 3/200\n",
            "18/18 [==============================] - 0s 14ms/step - loss: 9.6610e-05 - mean_absolute_percentage_error: 6.3255\n",
            "Epoch 4/200\n",
            "18/18 [==============================] - 0s 14ms/step - loss: 9.5426e-05 - mean_absolute_percentage_error: 6.2471\n",
            "Epoch 5/200\n",
            "18/18 [==============================] - 0s 14ms/step - loss: 9.4515e-05 - mean_absolute_percentage_error: 6.2163\n",
            "Epoch 6/200\n",
            "18/18 [==============================] - 0s 14ms/step - loss: 9.4428e-05 - mean_absolute_percentage_error: 6.1956\n",
            "Epoch 7/200\n",
            "18/18 [==============================] - 0s 14ms/step - loss: 9.3924e-05 - mean_absolute_percentage_error: 6.1686\n",
            "Epoch 8/200\n",
            "18/18 [==============================] - 0s 14ms/step - loss: 9.3750e-05 - mean_absolute_percentage_error: 6.1487\n",
            "Epoch 9/200\n",
            "18/18 [==============================] - 0s 14ms/step - loss: 9.3684e-05 - mean_absolute_percentage_error: 6.1604\n",
            "Epoch 10/200\n",
            "18/18 [==============================] - 0s 13ms/step - loss: 9.3667e-05 - mean_absolute_percentage_error: 6.1411\n",
            "Epoch 11/200\n",
            "18/18 [==============================] - 0s 15ms/step - loss: 9.3543e-05 - mean_absolute_percentage_error: 6.1447\n",
            "Epoch 12/200\n",
            "18/18 [==============================] - 0s 13ms/step - loss: 9.3493e-05 - mean_absolute_percentage_error: 6.1200\n",
            "Epoch 13/200\n",
            "18/18 [==============================] - 0s 14ms/step - loss: 9.3698e-05 - mean_absolute_percentage_error: 6.1129\n",
            "Epoch 14/200\n",
            "18/18 [==============================] - 0s 14ms/step - loss: 9.3444e-05 - mean_absolute_percentage_error: 6.1452\n",
            "Epoch 15/200\n",
            "18/18 [==============================] - 0s 14ms/step - loss: 9.3331e-05 - mean_absolute_percentage_error: 6.1164\n",
            "Epoch 16/200\n",
            "18/18 [==============================] - 0s 14ms/step - loss: 9.3381e-05 - mean_absolute_percentage_error: 6.1006\n",
            "Epoch 17/200\n",
            "18/18 [==============================] - 0s 14ms/step - loss: 9.3317e-05 - mean_absolute_percentage_error: 6.0865\n",
            "Epoch 18/200\n",
            "18/18 [==============================] - 0s 14ms/step - loss: 9.3471e-05 - mean_absolute_percentage_error: 6.0898\n",
            "Epoch 19/200\n",
            "18/18 [==============================] - 0s 14ms/step - loss: 9.3558e-05 - mean_absolute_percentage_error: 6.1001\n",
            "Epoch 20/200\n",
            "18/18 [==============================] - 0s 14ms/step - loss: 9.3197e-05 - mean_absolute_percentage_error: 6.0882\n",
            "Epoch 21/200\n",
            "18/18 [==============================] - 0s 14ms/step - loss: 9.3287e-05 - mean_absolute_percentage_error: 6.0759\n",
            "Epoch 22/200\n",
            "18/18 [==============================] - 0s 14ms/step - loss: 9.3356e-05 - mean_absolute_percentage_error: 6.0981\n",
            "Epoch 23/200\n",
            "18/18 [==============================] - 0s 14ms/step - loss: 9.3237e-05 - mean_absolute_percentage_error: 6.1023\n",
            "Epoch 24/200\n",
            "18/18 [==============================] - 0s 14ms/step - loss: 9.3439e-05 - mean_absolute_percentage_error: 6.1083\n",
            "Epoch 25/200\n",
            "18/18 [==============================] - 0s 14ms/step - loss: 9.3157e-05 - mean_absolute_percentage_error: 6.0849\n",
            "Epoch 26/200\n",
            "18/18 [==============================] - 0s 14ms/step - loss: 9.3225e-05 - mean_absolute_percentage_error: 6.1075\n",
            "Epoch 27/200\n",
            "18/18 [==============================] - 0s 15ms/step - loss: 9.3147e-05 - mean_absolute_percentage_error: 6.0636\n",
            "Epoch 28/200\n",
            "18/18 [==============================] - 0s 14ms/step - loss: 9.3156e-05 - mean_absolute_percentage_error: 6.0517\n",
            "Epoch 29/200\n",
            "18/18 [==============================] - 0s 14ms/step - loss: 9.3099e-05 - mean_absolute_percentage_error: 6.0701\n",
            "Epoch 30/200\n",
            "18/18 [==============================] - 0s 14ms/step - loss: 9.2960e-05 - mean_absolute_percentage_error: 6.0962\n",
            "Epoch 31/200\n",
            "18/18 [==============================] - 0s 15ms/step - loss: 9.2964e-05 - mean_absolute_percentage_error: 6.1026\n",
            "Epoch 32/200\n",
            "18/18 [==============================] - 0s 14ms/step - loss: 9.3046e-05 - mean_absolute_percentage_error: 6.0773\n",
            "Epoch 33/200\n",
            "18/18 [==============================] - 0s 13ms/step - loss: 9.2987e-05 - mean_absolute_percentage_error: 6.0833\n",
            "Epoch 34/200\n",
            "18/18 [==============================] - 0s 14ms/step - loss: 9.2932e-05 - mean_absolute_percentage_error: 6.0544\n",
            "Epoch 35/200\n",
            "18/18 [==============================] - 0s 14ms/step - loss: 9.2974e-05 - mean_absolute_percentage_error: 6.0670\n",
            "Epoch 36/200\n",
            "18/18 [==============================] - 0s 15ms/step - loss: 9.2957e-05 - mean_absolute_percentage_error: 6.0520\n",
            "Epoch 37/200\n",
            "18/18 [==============================] - 0s 14ms/step - loss: 9.2906e-05 - mean_absolute_percentage_error: 6.0958\n",
            "Epoch 38/200\n",
            "18/18 [==============================] - 0s 15ms/step - loss: 9.2854e-05 - mean_absolute_percentage_error: 6.0721\n",
            "Epoch 39/200\n",
            "18/18 [==============================] - 0s 15ms/step - loss: 9.3089e-05 - mean_absolute_percentage_error: 6.0673\n",
            "Epoch 40/200\n",
            "18/18 [==============================] - 0s 15ms/step - loss: 9.2748e-05 - mean_absolute_percentage_error: 6.0444\n",
            "Epoch 41/200\n",
            "18/18 [==============================] - 0s 13ms/step - loss: 9.2778e-05 - mean_absolute_percentage_error: 6.0452\n",
            "Epoch 42/200\n",
            "18/18 [==============================] - 0s 14ms/step - loss: 9.2705e-05 - mean_absolute_percentage_error: 6.0418\n",
            "Epoch 43/200\n",
            "18/18 [==============================] - 0s 14ms/step - loss: 9.3037e-05 - mean_absolute_percentage_error: 6.0321\n",
            "Epoch 44/200\n",
            "18/18 [==============================] - 0s 14ms/step - loss: 9.2748e-05 - mean_absolute_percentage_error: 6.0296\n",
            "Epoch 45/200\n",
            "18/18 [==============================] - 0s 13ms/step - loss: 9.2723e-05 - mean_absolute_percentage_error: 6.0591\n",
            "Epoch 46/200\n",
            "18/18 [==============================] - 0s 14ms/step - loss: 9.2686e-05 - mean_absolute_percentage_error: 6.0693\n",
            "Epoch 47/200\n",
            "18/18 [==============================] - 0s 14ms/step - loss: 9.2629e-05 - mean_absolute_percentage_error: 6.0496\n",
            "Epoch 48/200\n",
            "18/18 [==============================] - 0s 14ms/step - loss: 9.2714e-05 - mean_absolute_percentage_error: 6.0295\n",
            "Epoch 49/200\n",
            "18/18 [==============================] - 0s 14ms/step - loss: 9.2747e-05 - mean_absolute_percentage_error: 6.0349\n",
            "Epoch 50/200\n",
            "18/18 [==============================] - 0s 14ms/step - loss: 9.2848e-05 - mean_absolute_percentage_error: 6.0410\n",
            "Epoch 51/200\n",
            "18/18 [==============================] - 0s 14ms/step - loss: 9.2554e-05 - mean_absolute_percentage_error: 6.0794\n",
            "Epoch 52/200\n",
            "18/18 [==============================] - 0s 13ms/step - loss: 9.2629e-05 - mean_absolute_percentage_error: 6.0546\n",
            "Epoch 53/200\n",
            "18/18 [==============================] - 0s 13ms/step - loss: 9.2598e-05 - mean_absolute_percentage_error: 6.0314\n",
            "Epoch 54/200\n",
            "18/18 [==============================] - 0s 14ms/step - loss: 9.2577e-05 - mean_absolute_percentage_error: 5.9788\n",
            "Epoch 55/200\n",
            "18/18 [==============================] - 0s 14ms/step - loss: 9.2489e-05 - mean_absolute_percentage_error: 5.9790\n",
            "Epoch 56/200\n",
            "18/18 [==============================] - 0s 13ms/step - loss: 9.2507e-05 - mean_absolute_percentage_error: 6.0502\n",
            "Epoch 57/200\n",
            "18/18 [==============================] - 0s 14ms/step - loss: 9.2361e-05 - mean_absolute_percentage_error: 6.0416\n",
            "Epoch 58/200\n",
            "18/18 [==============================] - 0s 15ms/step - loss: 9.2493e-05 - mean_absolute_percentage_error: 6.0056\n",
            "Epoch 59/200\n",
            "18/18 [==============================] - 0s 14ms/step - loss: 9.2415e-05 - mean_absolute_percentage_error: 5.9819\n",
            "Epoch 60/200\n",
            "18/18 [==============================] - 0s 14ms/step - loss: 9.2482e-05 - mean_absolute_percentage_error: 6.0220\n",
            "Epoch 61/200\n",
            "18/18 [==============================] - 0s 15ms/step - loss: 9.2517e-05 - mean_absolute_percentage_error: 6.0251\n",
            "Epoch 62/200\n",
            "18/18 [==============================] - 0s 15ms/step - loss: 9.2338e-05 - mean_absolute_percentage_error: 5.9659\n",
            "Epoch 63/200\n",
            "18/18 [==============================] - 0s 14ms/step - loss: 9.2323e-05 - mean_absolute_percentage_error: 6.0048\n",
            "Epoch 64/200\n",
            "18/18 [==============================] - 0s 14ms/step - loss: 9.2764e-05 - mean_absolute_percentage_error: 6.0437\n",
            "Epoch 65/200\n",
            "18/18 [==============================] - 0s 14ms/step - loss: 9.3074e-05 - mean_absolute_percentage_error: 5.9909\n",
            "Epoch 66/200\n",
            "18/18 [==============================] - 0s 15ms/step - loss: 9.2218e-05 - mean_absolute_percentage_error: 5.9821\n",
            "Epoch 67/200\n",
            "18/18 [==============================] - 0s 14ms/step - loss: 9.2471e-05 - mean_absolute_percentage_error: 6.0666\n",
            "Epoch 68/200\n",
            "18/18 [==============================] - 0s 14ms/step - loss: 9.2195e-05 - mean_absolute_percentage_error: 5.9810\n",
            "Epoch 69/200\n",
            "18/18 [==============================] - 0s 15ms/step - loss: 9.2538e-05 - mean_absolute_percentage_error: 6.0074\n",
            "Epoch 70/200\n",
            "18/18 [==============================] - 0s 14ms/step - loss: 9.2262e-05 - mean_absolute_percentage_error: 5.9808\n",
            "Epoch 71/200\n",
            "18/18 [==============================] - 0s 13ms/step - loss: 9.2480e-05 - mean_absolute_percentage_error: 5.9917\n",
            "Epoch 72/200\n",
            "18/18 [==============================] - 0s 13ms/step - loss: 9.2637e-05 - mean_absolute_percentage_error: 5.9913\n",
            "Epoch 73/200\n",
            "18/18 [==============================] - 0s 14ms/step - loss: 9.2598e-05 - mean_absolute_percentage_error: 5.9691\n",
            "Epoch 74/200\n",
            "18/18 [==============================] - 0s 14ms/step - loss: 9.2645e-05 - mean_absolute_percentage_error: 5.9809\n",
            "Epoch 75/200\n",
            "18/18 [==============================] - 0s 14ms/step - loss: 9.2036e-05 - mean_absolute_percentage_error: 6.0068\n",
            "Epoch 76/200\n",
            "18/18 [==============================] - 0s 13ms/step - loss: 9.2585e-05 - mean_absolute_percentage_error: 5.9821\n",
            "Epoch 77/200\n",
            "18/18 [==============================] - 0s 15ms/step - loss: 9.1988e-05 - mean_absolute_percentage_error: 5.9646\n",
            "Epoch 78/200\n",
            "18/18 [==============================] - 0s 15ms/step - loss: 9.2253e-05 - mean_absolute_percentage_error: 5.9586\n",
            "Epoch 79/200\n",
            "18/18 [==============================] - 0s 14ms/step - loss: 9.2113e-05 - mean_absolute_percentage_error: 5.9588\n",
            "Epoch 80/200\n",
            "18/18 [==============================] - 0s 15ms/step - loss: 9.2151e-05 - mean_absolute_percentage_error: 5.9804\n",
            "Epoch 81/200\n",
            "18/18 [==============================] - 0s 15ms/step - loss: 9.2084e-05 - mean_absolute_percentage_error: 6.0633\n",
            "Epoch 82/200\n",
            "18/18 [==============================] - 0s 14ms/step - loss: 9.2102e-05 - mean_absolute_percentage_error: 5.9749\n",
            "Epoch 83/200\n",
            "18/18 [==============================] - 0s 14ms/step - loss: 9.2097e-05 - mean_absolute_percentage_error: 5.9486\n",
            "Epoch 84/200\n",
            "18/18 [==============================] - 0s 14ms/step - loss: 9.1841e-05 - mean_absolute_percentage_error: 5.9407\n",
            "Epoch 85/200\n",
            "18/18 [==============================] - 0s 15ms/step - loss: 9.1842e-05 - mean_absolute_percentage_error: 5.9425\n",
            "Epoch 86/200\n",
            "18/18 [==============================] - 0s 15ms/step - loss: 9.1822e-05 - mean_absolute_percentage_error: 5.9652\n",
            "Epoch 87/200\n",
            "18/18 [==============================] - 0s 14ms/step - loss: 9.1820e-05 - mean_absolute_percentage_error: 5.9327\n",
            "Epoch 88/200\n",
            "18/18 [==============================] - 0s 15ms/step - loss: 9.1923e-05 - mean_absolute_percentage_error: 5.9455\n",
            "Epoch 89/200\n",
            "18/18 [==============================] - 0s 15ms/step - loss: 9.1715e-05 - mean_absolute_percentage_error: 5.9341\n",
            "Epoch 90/200\n",
            "18/18 [==============================] - 0s 15ms/step - loss: 9.1859e-05 - mean_absolute_percentage_error: 5.9119\n",
            "Epoch 91/200\n",
            "18/18 [==============================] - 0s 14ms/step - loss: 9.1782e-05 - mean_absolute_percentage_error: 5.9352\n",
            "Epoch 92/200\n",
            "18/18 [==============================] - 0s 15ms/step - loss: 9.2049e-05 - mean_absolute_percentage_error: 5.9397\n",
            "Epoch 93/200\n",
            "18/18 [==============================] - 0s 15ms/step - loss: 9.1923e-05 - mean_absolute_percentage_error: 5.9465\n",
            "Epoch 94/200\n",
            "18/18 [==============================] - 0s 14ms/step - loss: 9.1860e-05 - mean_absolute_percentage_error: 5.9400\n",
            "Epoch 95/200\n",
            "18/18 [==============================] - 0s 17ms/step - loss: 9.1837e-05 - mean_absolute_percentage_error: 5.9001\n",
            "Epoch 96/200\n",
            "18/18 [==============================] - 0s 14ms/step - loss: 9.1779e-05 - mean_absolute_percentage_error: 5.8929\n",
            "Epoch 97/200\n",
            "18/18 [==============================] - 0s 14ms/step - loss: 9.1585e-05 - mean_absolute_percentage_error: 5.9500\n",
            "Epoch 98/200\n",
            "18/18 [==============================] - 0s 15ms/step - loss: 9.1660e-05 - mean_absolute_percentage_error: 5.9396\n",
            "Epoch 99/200\n",
            "18/18 [==============================] - 0s 16ms/step - loss: 9.1519e-05 - mean_absolute_percentage_error: 5.9208\n",
            "Epoch 100/200\n",
            "18/18 [==============================] - 0s 15ms/step - loss: 9.1585e-05 - mean_absolute_percentage_error: 5.9025\n",
            "Epoch 101/200\n",
            "18/18 [==============================] - 0s 14ms/step - loss: 9.1437e-05 - mean_absolute_percentage_error: 5.9515\n",
            "Epoch 102/200\n",
            "18/18 [==============================] - 0s 14ms/step - loss: 9.1667e-05 - mean_absolute_percentage_error: 5.9383\n",
            "Epoch 103/200\n",
            "18/18 [==============================] - 0s 14ms/step - loss: 9.1601e-05 - mean_absolute_percentage_error: 5.9445\n",
            "Epoch 104/200\n",
            "18/18 [==============================] - 0s 15ms/step - loss: 9.1779e-05 - mean_absolute_percentage_error: 5.8778\n",
            "Epoch 105/200\n",
            "18/18 [==============================] - 0s 14ms/step - loss: 9.2025e-05 - mean_absolute_percentage_error: 5.8809\n",
            "Epoch 106/200\n",
            "18/18 [==============================] - 0s 14ms/step - loss: 9.1369e-05 - mean_absolute_percentage_error: 5.9053\n",
            "Epoch 107/200\n",
            "18/18 [==============================] - 0s 14ms/step - loss: 9.1418e-05 - mean_absolute_percentage_error: 5.8764\n",
            "Epoch 108/200\n",
            "18/18 [==============================] - 0s 14ms/step - loss: 9.1374e-05 - mean_absolute_percentage_error: 5.9072\n",
            "Epoch 109/200\n",
            "18/18 [==============================] - 0s 15ms/step - loss: 9.1423e-05 - mean_absolute_percentage_error: 5.9033\n",
            "Epoch 110/200\n",
            "18/18 [==============================] - 0s 14ms/step - loss: 9.1399e-05 - mean_absolute_percentage_error: 5.8562\n",
            "Epoch 111/200\n",
            "18/18 [==============================] - 0s 14ms/step - loss: 9.1744e-05 - mean_absolute_percentage_error: 5.9200\n",
            "Epoch 112/200\n",
            "18/18 [==============================] - 0s 14ms/step - loss: 9.1412e-05 - mean_absolute_percentage_error: 5.8415\n",
            "Epoch 113/200\n",
            "18/18 [==============================] - 0s 14ms/step - loss: 9.1321e-05 - mean_absolute_percentage_error: 5.8293\n",
            "Epoch 114/200\n",
            "18/18 [==============================] - 0s 14ms/step - loss: 9.1468e-05 - mean_absolute_percentage_error: 5.9554\n",
            "Epoch 115/200\n",
            "18/18 [==============================] - 0s 14ms/step - loss: 9.2158e-05 - mean_absolute_percentage_error: 5.9031\n",
            "Epoch 116/200\n",
            "18/18 [==============================] - 0s 14ms/step - loss: 9.1302e-05 - mean_absolute_percentage_error: 5.8986\n",
            "Epoch 117/200\n",
            "18/18 [==============================] - 0s 15ms/step - loss: 9.1346e-05 - mean_absolute_percentage_error: 5.8498\n",
            "Epoch 118/200\n",
            "18/18 [==============================] - 0s 14ms/step - loss: 9.1171e-05 - mean_absolute_percentage_error: 5.8479\n",
            "Epoch 119/200\n",
            "18/18 [==============================] - 0s 15ms/step - loss: 9.1172e-05 - mean_absolute_percentage_error: 5.8476\n",
            "Epoch 120/200\n",
            "18/18 [==============================] - 0s 13ms/step - loss: 9.1108e-05 - mean_absolute_percentage_error: 5.8215\n",
            "Epoch 121/200\n",
            "18/18 [==============================] - 0s 14ms/step - loss: 9.1107e-05 - mean_absolute_percentage_error: 5.9276\n",
            "Epoch 122/200\n",
            "18/18 [==============================] - 0s 14ms/step - loss: 9.1488e-05 - mean_absolute_percentage_error: 5.8711\n",
            "Epoch 123/200\n",
            "18/18 [==============================] - 0s 15ms/step - loss: 9.2413e-05 - mean_absolute_percentage_error: 5.8796\n",
            "Epoch 124/200\n",
            "18/18 [==============================] - 0s 15ms/step - loss: 9.1098e-05 - mean_absolute_percentage_error: 5.7865\n",
            "Epoch 125/200\n",
            "18/18 [==============================] - 0s 14ms/step - loss: 9.0961e-05 - mean_absolute_percentage_error: 5.8068\n",
            "Epoch 126/200\n",
            "18/18 [==============================] - 0s 14ms/step - loss: 9.1112e-05 - mean_absolute_percentage_error: 5.7923\n",
            "Epoch 127/200\n",
            "18/18 [==============================] - 0s 14ms/step - loss: 9.1361e-05 - mean_absolute_percentage_error: 5.8548\n",
            "Epoch 128/200\n",
            "18/18 [==============================] - 0s 14ms/step - loss: 9.1172e-05 - mean_absolute_percentage_error: 5.8503\n",
            "Epoch 129/200\n",
            "18/18 [==============================] - 0s 14ms/step - loss: 9.0997e-05 - mean_absolute_percentage_error: 5.8145\n",
            "Epoch 130/200\n",
            "18/18 [==============================] - 0s 14ms/step - loss: 9.1108e-05 - mean_absolute_percentage_error: 5.8528\n",
            "Epoch 131/200\n",
            "18/18 [==============================] - 0s 14ms/step - loss: 9.0877e-05 - mean_absolute_percentage_error: 5.8331\n",
            "Epoch 132/200\n",
            "18/18 [==============================] - 0s 14ms/step - loss: 9.0981e-05 - mean_absolute_percentage_error: 5.7706\n",
            "Epoch 133/200\n",
            "18/18 [==============================] - 0s 14ms/step - loss: 9.0903e-05 - mean_absolute_percentage_error: 5.8143\n",
            "Epoch 134/200\n",
            "18/18 [==============================] - 0s 14ms/step - loss: 9.0993e-05 - mean_absolute_percentage_error: 5.7890\n",
            "Epoch 135/200\n",
            "18/18 [==============================] - 0s 15ms/step - loss: 9.1208e-05 - mean_absolute_percentage_error: 5.7599\n",
            "Epoch 136/200\n",
            "18/18 [==============================] - 0s 15ms/step - loss: 9.0846e-05 - mean_absolute_percentage_error: 5.7684\n",
            "Epoch 137/200\n",
            "18/18 [==============================] - 0s 15ms/step - loss: 9.1230e-05 - mean_absolute_percentage_error: 5.7768\n",
            "Epoch 138/200\n",
            "18/18 [==============================] - 0s 14ms/step - loss: 9.0435e-05 - mean_absolute_percentage_error: 5.7340\n",
            "Epoch 139/200\n",
            "18/18 [==============================] - 0s 15ms/step - loss: 9.1351e-05 - mean_absolute_percentage_error: 5.8867\n",
            "Epoch 140/200\n",
            "18/18 [==============================] - 0s 14ms/step - loss: 9.1036e-05 - mean_absolute_percentage_error: 5.7849\n",
            "Epoch 141/200\n",
            "18/18 [==============================] - 0s 14ms/step - loss: 9.0625e-05 - mean_absolute_percentage_error: 5.7485\n",
            "Epoch 142/200\n",
            "18/18 [==============================] - 0s 15ms/step - loss: 9.0572e-05 - mean_absolute_percentage_error: 5.7724\n",
            "Epoch 143/200\n",
            "18/18 [==============================] - 0s 15ms/step - loss: 9.0479e-05 - mean_absolute_percentage_error: 5.8387\n",
            "Epoch 144/200\n",
            "18/18 [==============================] - 0s 15ms/step - loss: 9.0656e-05 - mean_absolute_percentage_error: 5.7118\n",
            "Epoch 145/200\n",
            "18/18 [==============================] - 0s 15ms/step - loss: 9.0713e-05 - mean_absolute_percentage_error: 5.7420\n",
            "Epoch 146/200\n",
            "18/18 [==============================] - 0s 14ms/step - loss: 9.0862e-05 - mean_absolute_percentage_error: 5.8955\n",
            "Epoch 147/200\n",
            "18/18 [==============================] - 0s 14ms/step - loss: 9.1267e-05 - mean_absolute_percentage_error: 5.7907\n",
            "Epoch 148/200\n",
            "18/18 [==============================] - 0s 15ms/step - loss: 9.0774e-05 - mean_absolute_percentage_error: 5.7578\n",
            "Epoch 149/200\n",
            "18/18 [==============================] - 0s 14ms/step - loss: 9.0324e-05 - mean_absolute_percentage_error: 5.7528\n",
            "Epoch 150/200\n",
            "18/18 [==============================] - 0s 14ms/step - loss: 9.0546e-05 - mean_absolute_percentage_error: 5.8289\n",
            "Epoch 151/200\n",
            "18/18 [==============================] - 0s 14ms/step - loss: 9.0389e-05 - mean_absolute_percentage_error: 5.7520\n",
            "Epoch 152/200\n",
            "18/18 [==============================] - 0s 14ms/step - loss: 9.0388e-05 - mean_absolute_percentage_error: 5.7237\n",
            "Epoch 153/200\n",
            "18/18 [==============================] - 0s 15ms/step - loss: 9.0316e-05 - mean_absolute_percentage_error: 5.7501\n",
            "Epoch 154/200\n",
            "18/18 [==============================] - 0s 14ms/step - loss: 9.0377e-05 - mean_absolute_percentage_error: 5.8347\n",
            "Epoch 155/200\n",
            "18/18 [==============================] - 0s 14ms/step - loss: 9.0442e-05 - mean_absolute_percentage_error: 5.7130\n",
            "Epoch 156/200\n",
            "18/18 [==============================] - 0s 14ms/step - loss: 9.0532e-05 - mean_absolute_percentage_error: 5.7390\n",
            "Epoch 157/200\n",
            "18/18 [==============================] - 0s 15ms/step - loss: 9.0418e-05 - mean_absolute_percentage_error: 5.8143\n",
            "Epoch 158/200\n",
            "18/18 [==============================] - 0s 16ms/step - loss: 9.0143e-05 - mean_absolute_percentage_error: 5.7327\n",
            "Epoch 159/200\n",
            "18/18 [==============================] - 0s 15ms/step - loss: 9.0412e-05 - mean_absolute_percentage_error: 5.6386\n",
            "Epoch 160/200\n",
            "18/18 [==============================] - 0s 14ms/step - loss: 9.0254e-05 - mean_absolute_percentage_error: 5.7298\n",
            "Epoch 161/200\n",
            "18/18 [==============================] - 0s 15ms/step - loss: 9.0350e-05 - mean_absolute_percentage_error: 5.9002\n",
            "Epoch 162/200\n",
            "18/18 [==============================] - 0s 14ms/step - loss: 8.9989e-05 - mean_absolute_percentage_error: 5.7151\n",
            "Epoch 163/200\n",
            "18/18 [==============================] - 0s 15ms/step - loss: 9.0761e-05 - mean_absolute_percentage_error: 5.6519\n",
            "Epoch 164/200\n",
            "18/18 [==============================] - 0s 15ms/step - loss: 9.0112e-05 - mean_absolute_percentage_error: 5.6520\n",
            "Epoch 165/200\n",
            "18/18 [==============================] - 0s 15ms/step - loss: 9.0181e-05 - mean_absolute_percentage_error: 5.7089\n",
            "Epoch 166/200\n",
            "18/18 [==============================] - 0s 14ms/step - loss: 9.0570e-05 - mean_absolute_percentage_error: 5.8064\n",
            "Epoch 167/200\n",
            "18/18 [==============================] - 0s 15ms/step - loss: 9.0201e-05 - mean_absolute_percentage_error: 5.7426\n",
            "Epoch 168/200\n",
            "18/18 [==============================] - 0s 14ms/step - loss: 8.9882e-05 - mean_absolute_percentage_error: 5.6122\n",
            "Epoch 169/200\n",
            "18/18 [==============================] - 0s 17ms/step - loss: 8.9935e-05 - mean_absolute_percentage_error: 5.7047\n",
            "Epoch 170/200\n",
            "18/18 [==============================] - 0s 14ms/step - loss: 8.9880e-05 - mean_absolute_percentage_error: 5.6897\n",
            "Epoch 171/200\n",
            "18/18 [==============================] - 0s 14ms/step - loss: 9.0045e-05 - mean_absolute_percentage_error: 5.7091\n",
            "Epoch 172/200\n",
            "18/18 [==============================] - 0s 14ms/step - loss: 9.0546e-05 - mean_absolute_percentage_error: 5.7057\n",
            "Epoch 173/200\n",
            "18/18 [==============================] - 0s 14ms/step - loss: 9.0615e-05 - mean_absolute_percentage_error: 5.7266\n",
            "Epoch 174/200\n",
            "18/18 [==============================] - 0s 14ms/step - loss: 8.9763e-05 - mean_absolute_percentage_error: 5.7684\n",
            "Epoch 175/200\n",
            "18/18 [==============================] - 0s 14ms/step - loss: 8.9911e-05 - mean_absolute_percentage_error: 5.6752\n",
            "Epoch 176/200\n",
            "18/18 [==============================] - 0s 15ms/step - loss: 8.9819e-05 - mean_absolute_percentage_error: 5.7349\n",
            "Epoch 177/200\n",
            "18/18 [==============================] - 0s 14ms/step - loss: 9.0046e-05 - mean_absolute_percentage_error: 5.6844\n",
            "Epoch 178/200\n",
            "18/18 [==============================] - 0s 15ms/step - loss: 8.9615e-05 - mean_absolute_percentage_error: 5.6049\n",
            "Epoch 179/200\n",
            "18/18 [==============================] - 0s 14ms/step - loss: 9.0183e-05 - mean_absolute_percentage_error: 5.6258\n",
            "Epoch 180/200\n",
            "18/18 [==============================] - 0s 14ms/step - loss: 8.9774e-05 - mean_absolute_percentage_error: 5.6922\n",
            "Epoch 181/200\n",
            "18/18 [==============================] - 0s 15ms/step - loss: 9.0268e-05 - mean_absolute_percentage_error: 5.6603\n",
            "Epoch 182/200\n",
            "18/18 [==============================] - 0s 15ms/step - loss: 8.9609e-05 - mean_absolute_percentage_error: 5.6693\n",
            "Epoch 183/200\n",
            "18/18 [==============================] - 0s 14ms/step - loss: 8.9501e-05 - mean_absolute_percentage_error: 5.6616\n",
            "Epoch 184/200\n",
            "18/18 [==============================] - 0s 14ms/step - loss: 8.9615e-05 - mean_absolute_percentage_error: 5.6666\n",
            "Epoch 185/200\n",
            "18/18 [==============================] - 0s 14ms/step - loss: 8.9748e-05 - mean_absolute_percentage_error: 5.6288\n",
            "Epoch 186/200\n",
            "18/18 [==============================] - 0s 15ms/step - loss: 8.9598e-05 - mean_absolute_percentage_error: 5.6420\n",
            "Epoch 187/200\n",
            "18/18 [==============================] - 0s 14ms/step - loss: 9.0144e-05 - mean_absolute_percentage_error: 5.6803\n",
            "Epoch 188/200\n",
            "18/18 [==============================] - 0s 15ms/step - loss: 9.0728e-05 - mean_absolute_percentage_error: 5.6355\n",
            "Epoch 189/200\n",
            "18/18 [==============================] - 0s 14ms/step - loss: 8.9621e-05 - mean_absolute_percentage_error: 5.6588\n",
            "Epoch 190/200\n",
            "18/18 [==============================] - 0s 15ms/step - loss: 9.0288e-05 - mean_absolute_percentage_error: 5.6341\n",
            "Epoch 191/200\n",
            "18/18 [==============================] - 0s 14ms/step - loss: 8.9755e-05 - mean_absolute_percentage_error: 5.7326\n",
            "Epoch 192/200\n",
            "18/18 [==============================] - 0s 15ms/step - loss: 8.9894e-05 - mean_absolute_percentage_error: 5.6899\n",
            "Epoch 193/200\n",
            "18/18 [==============================] - 0s 16ms/step - loss: 8.9879e-05 - mean_absolute_percentage_error: 5.6615\n",
            "Epoch 194/200\n",
            "18/18 [==============================] - 0s 15ms/step - loss: 8.9476e-05 - mean_absolute_percentage_error: 5.6678\n",
            "Epoch 195/200\n",
            "18/18 [==============================] - 0s 15ms/step - loss: 8.9169e-05 - mean_absolute_percentage_error: 5.6108\n",
            "Epoch 196/200\n",
            "18/18 [==============================] - 0s 15ms/step - loss: 8.9858e-05 - mean_absolute_percentage_error: 5.6100\n",
            "Epoch 197/200\n",
            "18/18 [==============================] - 0s 16ms/step - loss: 8.9278e-05 - mean_absolute_percentage_error: 5.6266\n",
            "Epoch 198/200\n",
            "18/18 [==============================] - 0s 15ms/step - loss: 8.9520e-05 - mean_absolute_percentage_error: 5.5988\n",
            "Epoch 199/200\n",
            "18/18 [==============================] - 0s 15ms/step - loss: 8.9786e-05 - mean_absolute_percentage_error: 5.5858\n",
            "Epoch 200/200\n",
            "18/18 [==============================] - 0s 14ms/step - loss: 8.9224e-05 - mean_absolute_percentage_error: 5.7371\n"
          ]
        },
        {
          "output_type": "execute_result",
          "data": {
            "text/plain": [
              "<keras.callbacks.History at 0x7f041466ad90>"
            ]
          },
          "metadata": {},
          "execution_count": 74
        }
      ]
    },
    {
      "cell_type": "code",
      "metadata": {
        "id": "a4PdxGcM3na0"
      },
      "source": [
        "Y_pred_test_gru_target = gru_model_target.predict(X_test_gru_target)\n",
        "Y_pred_train_gru_target = gru_model_target.predict(X_train_gru_target)"
      ],
      "id": "a4PdxGcM3na0",
      "execution_count": null,
      "outputs": []
    },
    {
      "cell_type": "code",
      "metadata": {
        "colab": {
          "base_uri": "https://localhost:8080/"
        },
        "id": "iq1jnNO-3xQY",
        "outputId": "35830165-d4fb-4954-c381-c74c756aac79"
      },
      "source": [
        "# Calculating RMSE\n",
        "test_rmse_gru_target = sqrt(mean_squared_error(Y_pred_test_gru_target, Y_test_gru_target))\n",
        "train_rmse_gru_target = sqrt(mean_squared_error(Y_pred_train_gru_target, Y_train_gru_target))\n",
        "print(\"test_rmse_gru_target = {}, train_rmse_gru_target = {}\".format(test_rmse_gru_target, train_rmse_gru_target))\n",
        "\n",
        "# Calculating r2_score\n",
        "test_r2_score_gru_target = r2_score(Y_test_gru_target, Y_pred_test_gru_target)\n",
        "train_r2_score_gru_target = r2_score(Y_train_gru_target, Y_pred_train_gru_target)\n",
        "print(\"test_r2_score_gru_target = {}, train_r2_score_gru_target = {}\".format(test_r2_score_gru_target , train_r2_score_gru_target))\n",
        "\n",
        "# Calculating MAE\n",
        "test_mae_gru_target = mean_absolute_error(Y_test_gru_target,Y_pred_test_gru_target)\n",
        "train_mae_gru_target = mean_absolute_error(Y_train_gru_target,Y_pred_train_gru_target)\n",
        "print(\"test_mae_gru_target = {}, train_mae_gru_target = {}\".format(test_mae_gru_target , train_mae_gru_target))\n",
        "\n",
        "# Calculating MAPE\n",
        "test_loss_gru_target, test_mape_gru_target = gru_model_target.evaluate(X_test_gru_target, Y_test_gru_target, verbose=0)\n",
        "train_loss_gru_target, train_mape_gru_target = gru_model_target.evaluate(X_train_gru_target, Y_train_gru_target, verbose=0)\n",
        "print(\"test_mape_gru_target = {}, train_mape_gru_target = {}\".format(test_mape_gru_target, train_mape_gru_target))"
      ],
      "id": "iq1jnNO-3xQY",
      "execution_count": null,
      "outputs": [
        {
          "output_type": "stream",
          "name": "stdout",
          "text": [
            "test_rmse_gru_target = 0.022929211420253885, train_rmse_gru_target = 0.009412822308074165\n",
            "test_r2_score_gru_target = 0.9330539978755409, train_r2_score_gru_target = 0.9879905599352242\n",
            "test_mae_gru_target = 0.01845945460776428, train_mae_gru_target = 0.006829192889780071\n",
            "test_mape_gru_target = 12.512487411499023, train_mape_gru_target = 5.651170253753662\n"
          ]
        }
      ]
    },
    {
      "cell_type": "code",
      "metadata": {
        "colab": {
          "base_uri": "https://localhost:8080/",
          "height": 345
        },
        "id": "J31e4Xpz30e2",
        "outputId": "47c4db7e-7f13-4944-d682-c3537e1a1185"
      },
      "source": [
        "plt.figure(1, figsize=(30, 6)) # Defines the figure size in inches\n",
        "plt.plot(range(0, len(Y_test_gru_target)), Y_test_gru_target)\n",
        "plt.plot(range(0, len(Y_test_gru_target)), Y_pred_test_gru_target)\n",
        "plt.xlabel('Time')\n",
        "plt.ylabel('Adj. Closing Price')\n",
        "plt.title('Adj. Closing Price vs Time')\n",
        "plt.legend(['Actual', 'Prediction'])"
      ],
      "id": "J31e4Xpz30e2",
      "execution_count": null,
      "outputs": [
        {
          "output_type": "execute_result",
          "data": {
            "text/plain": [
              "<matplotlib.legend.Legend at 0x7f0414dccd10>"
            ]
          },
          "metadata": {},
          "execution_count": 77
        },
        {
          "output_type": "display_data",
          "data": {
            "image/png": "[encoded data removed]",
            "text/plain": [
              "<Figure size 2160x432 with 1 Axes>"
            ]
          },
          "metadata": {
            "needs_background": "light"
          }
        }
      ]
    },
    {
      "cell_type": "markdown",
      "metadata": {
        "id": "89d84742"
      },
      "source": [
        "opt = tf.keras.optimizers.Adam(learning_rate=0.000009)"
      ],
      "id": "89d84742"
    },
    {
      "cell_type": "markdown",
      "metadata": {
        "id": "8bdf2470"
      },
      "source": [
        "gru_model_target_transfer = Sequential()\n",
        "gru_model_target_transfer.add(gru_model_source.layers[0])\n",
        "gru_model_target_transfer.add(GRU(units=28, return_sequences=True, name=\"second\"))\n",
        "gru_model_target_transfer.add(GRU(units=28, name=\"third\"))\n",
        "gru_model_target_transfer.add(Dense(1, activation=\"relu\", name=\"fourth\"))\n",
        "# gru_model_target.compile(optimizer=\"adam\", loss='mean_squared_error', metrics=['mean_absolute_percentage_error'])\n",
        "gru_model_target_transfer.compile(optimizer=opt, loss='mean_squared_error', metrics=['mean_absolute_percentage_error'])"
      ],
      "id": "8bdf2470"
    },
    {
      "cell_type": "code",
      "metadata": {
        "id": "f74d478f"
      },
      "source": [
        "X_train_gru_target, X_test_gru_target, Y_train_gru_target, Y_test_gru_target = train_test_split(target_features, target_labels, test_size=0.30, random_state=42, shuffle=False)"
      ],
      "id": "f74d478f",
      "execution_count": null,
      "outputs": []
    },
    {
      "cell_type": "code",
      "metadata": {
        "id": "26f29e75"
      },
      "source": [
        "X_train_gru_target = np.array(X_train_gru_target)\n",
        "X_test_gru_target = np.array(X_test_gru_target)\n",
        "Y_train_gru_target = np.array(Y_train_gru_target)\n",
        "Y_test_gru_target = np.array(Y_test_gru_target)\n",
        "\n",
        "X_train_gru_target = X_train_gru_target.reshape(X_train_gru_target.shape[0],X_train_gru_target.shape[1],1)\n",
        "X_test_gru_target = X_test_gru_target.reshape(X_test_gru_target.shape[0],X_test_gru_target.shape[1],1)"
      ],
      "id": "26f29e75",
      "execution_count": null,
      "outputs": []
    },
    {
      "cell_type": "markdown",
      "metadata": {
        "id": "dbfe6dee"
      },
      "source": [
        "#### Hyper parameter tuning for learning rate of target model"
      ],
      "id": "dbfe6dee"
    },
    {
      "cell_type": "code",
      "metadata": {
        "id": "2f2823bd"
      },
      "source": [
        "\"\"\"\n",
        "Function used by Hyperband for hyperparameter tuning.\n",
        "Returns a model.\n",
        "\"\"\"\n",
        "def target_model_builder_learning_rate(hp):                                           \n",
        "    model = Sequential()\n",
        "    \"\"\"\n",
        "    A Sequential gru_model_source is appropriate for a plain stack\n",
        "    of layers where each layer has exactly one input tensor and\n",
        "    one output tensor.\n",
        "    \"\"\" \n",
        "    model.add(GRU(units=28, return_sequences=True,input_shape=(feature_count, 1)))\n",
        "    model.add(GRU(units=28,return_sequences=True))\n",
        "    model.add(GRU(units=28))\n",
        "    model.add(Dense(1, activation=\"relu\"))\n",
        "    \n",
        "    hp_learning_rate = hp.Choice('learning_rate', values=[0.001, 0.0005, 0.0001, 0.0005, 0.0001])\n",
        "    model.compile(optimizer=tf.keras.optimizers.Adam(learning_rate=hp_learning_rate), loss=\"mse\", metrics=['mean_absolute_error', 'mean_absolute_percentage_error'])\n",
        "    \n",
        "    return model"
      ],
      "id": "2f2823bd",
      "execution_count": null,
      "outputs": []
    },
    {
      "cell_type": "code",
      "metadata": {
        "id": "fa725715"
      },
      "source": [
        "target_tuner_for_learning_rate = kt.Hyperband(target_model_builder_learning_rate,\n",
        "                     objective='loss',\n",
        "                     max_epochs=200,\n",
        "                     factor=2,\n",
        "                     seed=42,\n",
        "                     hyperband_iterations=3,\n",
        "                     directory='hyperparams',\n",
        "                     project_name='target_stock_tuning')"
      ],
      "id": "fa725715",
      "execution_count": null,
      "outputs": []
    },
    {
      "cell_type": "code",
      "metadata": {
        "id": "9a3174d6"
      },
      "source": [
        "target_tuner_for_learning_rate.search(X_train_gru_target, Y_train_gru_target, epochs=250)"
      ],
      "id": "9a3174d6",
      "execution_count": null,
      "outputs": []
    },
    {
      "cell_type": "code",
      "metadata": {
        "id": "7206b404"
      },
      "source": [
        "# Get the optimal hyperparameters\n",
        "best_hps_target=target_tuner.get_best_hyperparameters(num_trials=1)[0]\n",
        "\n",
        "print(f\"\"\"\n",
        "The hyperparameter search is complete. The optimal learning rate for the optimizer\n",
        "is {best_hps_target.get('learning_rate')}.\n",
        "\"\"\")"
      ],
      "id": "7206b404",
      "execution_count": null,
      "outputs": []
    },
    {
      "cell_type": "code",
      "metadata": {
        "id": "c069b16d"
      },
      "source": [
        "target_tuner.search_space_summary()"
      ],
      "id": "c069b16d",
      "execution_count": null,
      "outputs": []
    },
    {
      "cell_type": "code",
      "metadata": {
        "id": "88ae7e02"
      },
      "source": [
        "gru_models_target_best = target_tuner.get_best_models(num_models=2)"
      ],
      "id": "88ae7e02",
      "execution_count": null,
      "outputs": []
    },
    {
      "cell_type": "code",
      "metadata": {
        "id": "5a357d94"
      },
      "source": [
        "gru_models_target_best[0].fit(X_train_gru_target,Y_train_gru_target,validation_data=(X_test_gru_target,Y_test_gru_target),epochs=200,verbose=1)"
      ],
      "id": "5a357d94",
      "execution_count": null,
      "outputs": []
    },
    {
      "cell_type": "code",
      "metadata": {
        "id": "ec1701cd"
      },
      "source": [
        "Y_pred_test_gru_target_transfer_best = gru_models_target_best[0].predict(X_test_gru_target)\n",
        "Y_pred_train_gru_target_transfer_best = gru_models_target_best[0].predict(X_train_gru_target)"
      ],
      "id": "ec1701cd",
      "execution_count": null,
      "outputs": []
    },
    {
      "cell_type": "code",
      "metadata": {
        "id": "8e2b24e0"
      },
      "source": [
        "# Calculating RMSE\n",
        "test_rmse_gru_target_transfer_best = sqrt(mean_squared_error(Y_pred_test_gru_target_transfer_best, Y_test_gru_target))\n",
        "train_rmse_gru_target_transfer_best = sqrt(mean_squared_error(Y_pred_train_gru_target_transfer_best, Y_train_gru_target))\n",
        "print(\"test_rmse_gru_target_transfer_best = {}, train_rmse_gru_target_transfer_best = {}\".format(test_rmse_gru_target_transfer_best, train_rmse_gru_target_transfer_best))\n",
        "\n",
        "# Calculating r2_score\n",
        "test_r2_score_gru_target = r2_score(Y_test_gru_target, Y_pred_test_gru_target)\n",
        "train_r2_score_gru_target = r2_score(Y_train_gru_target, Y_pred_train_gru_target)\n",
        "print(\"test_r2_score_gru_target = {}, train_r2_score_gru_target = {}\".format(test_r2_score_gru_target , train_r2_score_gru_target))\n",
        "\n",
        "# Calculating MAE\n",
        "test_mae_target_transfer_best = sqrt(mean_squared_error(Y_pred_test_gru_target_transfer_best, Y_test_gru_target))\n",
        "train_mae_target_transfer_best = sqrt(mean_squared_error(Y_pred_train_gru_target_transfer_best, Y_train_gru_target))\n",
        "print(\"test_mae_target_transfer_best = {}, train_mae_target_transfer_best = {}\".format(test_mae_target_transfer_best, train_mae_target_transfer_best))\n",
        "\n",
        "# Calculating MAPE\n",
        "test_loss_target_transfer_best, test_mape_target_transfer_best = gru_model_target.evaluate(X_test_gru_target, Y_test_gru_target, verbose=0)\n",
        "train_loss_target_transfer_best, train_mape_target_transfer_best = gru_model_target.evaluate(X_train_gru_target, Y_train_gru_target, verbose=0)\n",
        "print(\"test_mape_target_transfer_best = {}, train_mape_target_transfer_best = {}\".format(test_mape_target_transfer_best, train_mape_target_transfer_best))"
      ],
      "id": "8e2b24e0",
      "execution_count": null,
      "outputs": []
    },
    {
      "cell_type": "code",
      "metadata": {
        "id": "ff114104"
      },
      "source": [
        "plt.figure(1, figsize=(30, 6)) # Defines the figure size in inches\n",
        "plt.plot(range(0, len(Y_test_gru_target)), Y_test_gru_target)\n",
        "plt.plot(range(0, len(Y_test_gru_target)), Y_pred_test_gru_target_transfer_best)\n",
        "plt.xlabel('Time')\n",
        "plt.ylabel('Adj. Closing Price')\n",
        "plt.title('Adj. Closing Price vs Time')\n",
        "plt.legend(['Actual', 'Prediction'])"
      ],
      "id": "ff114104",
      "execution_count": null,
      "outputs": []
    },
    {
      "cell_type": "markdown",
      "metadata": {
        "id": "a94a0d07"
      },
      "source": [
        "#### Explainable AI (post-hoc model explanation using LIME)"
      ],
      "id": "a94a0d07"
    },
    {
      "cell_type": "markdown",
      "metadata": {
        "id": "a1ed85aa"
      },
      "source": [
        "#### Imports"
      ],
      "id": "a1ed85aa"
    },
    {
      "cell_type": "code",
      "metadata": {
        "id": "ef813f72"
      },
      "source": [
        "import lime\n",
        "import lime.lime_tabular"
      ],
      "id": "ef813f72",
      "execution_count": null,
      "outputs": []
    }
  ]
}